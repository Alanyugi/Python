{
 "cells": [
  {
   "cell_type": "markdown",
   "id": "ff8cf5e2",
   "metadata": {},
   "source": [
    "# Week 4\n",
    "\n",
    "## Collection Data Types\n",
    "\n",
    "### 1. List"
   ]
  },
  {
   "cell_type": "code",
   "execution_count": 14,
   "id": "5e0f61c7",
   "metadata": {},
   "outputs": [
    {
     "name": "stdout",
     "output_type": "stream",
     "text": [
      "[10, 20, 30, 40]\n",
      "Data Type of l1 : <class 'list'>\n",
      "The list l2 : ['python', 2.0, 5, [10, 20]]\n",
      "Student list = []\n",
      "Student list after modification ; ['Ramesh', 'B.Tech', 11007]\n",
      "String s : Hello World\n",
      "List created from s : ['H', 'e', 'l', 'l', 'o', ' ', 'W', 'o', 'r', 'l', 'd']\n",
      "List l4 : []\n",
      "The length of l1, l2, l3, l4 and student lists are : 4 4 11 0 3\n"
     ]
    }
   ],
   "source": [
    "# Creating a list\n",
    "\n",
    "l1 = [10,20,30,40]\n",
    "\n",
    "print(l1)\n",
    "\n",
    "print('Data Type of l1 :',type(l1))\n",
    "\n",
    "l2 = ['python', 2.0, 5, [10,20]]\n",
    "\n",
    "print('The list l2 :',l2)\n",
    "\n",
    "student = []\n",
    "\n",
    "print('Student list =',student)\n",
    "\n",
    "student = ['Ramesh', 'B.Tech', 11007]\n",
    "\n",
    "print('Student list after modification ;',student)\n",
    "\n",
    "\n",
    "s = 'Hello World'\n",
    "\n",
    "# Create  a list from string object\n",
    "\n",
    "l3 = list(s)\n",
    "\n",
    "print('String s :',s)\n",
    "\n",
    "print('List created from s :',l3)\n",
    "\n",
    "l4 = list()\n",
    "\n",
    "print('List l4 :',l4)\n",
    "\n",
    "print('The length of l1, l2, l3, l4 and student lists are :',len(l1), len(l2), len(l3), len(l4), len(student))"
   ]
  },
  {
   "cell_type": "code",
   "execution_count": 16,
   "id": "5bf0e56d",
   "metadata": {},
   "outputs": [
    {
     "name": "stdout",
     "output_type": "stream",
     "text": [
      "The student list is : ['Ramesh', 'B.Tech', 11007]\n",
      "The second element of the student list : B.Tech\n",
      "The last elemnent in the list is : 11007\n",
      "The second last element in student list is : B.Tech\n"
     ]
    }
   ],
   "source": [
    "# Accessing elements from a list\n",
    "\n",
    "print('The student list is :',student)\n",
    "\n",
    "print('The second element of the student list :',student[1]) # Indexing\n",
    "\n",
    "print('The last elemnent in the list is :',student[-1]) # last element\n",
    "\n",
    "print('The second last element in student list is :',student[-2]) # second last element\n"
   ]
  },
  {
   "cell_type": "code",
   "execution_count": 7,
   "id": "19f7f681",
   "metadata": {},
   "outputs": [
    {
     "name": "stdout",
     "output_type": "stream",
     "text": [
      "t = ['a', 'b', 'c', 'd', 'e', 'f']\n",
      "t[1:3] : ['b', 'c']\n",
      "t[:4] : ['a', 'b', 'c', 'd']\n",
      "t[3:] : ['d', 'e', 'f']\n",
      "t[:] : ['a', 'b', 'c', 'd', 'e', 'f']\n",
      "t[::-1]  : ['f', 'e', 'd', 'c', 'b', 'a']\n"
     ]
    }
   ],
   "source": [
    "# List Slices \n",
    "\n",
    "s = \"abcdef\"\n",
    "\n",
    "t = list(s)\n",
    "\n",
    "print('t =',t)\n",
    "\n",
    "print('t[1:3] :',t[1:3]) # Starting from 1st index to 2nd index\n",
    "\n",
    "print('t[:4] :',t[:4]) # starting from 'o' index to 3rd index \n",
    "\n",
    "print('t[3:] :',t[3:]) # Starting from 3rd index to complete list\n",
    "\n",
    "print('t[:] :',t[:]) # Complete list\n",
    "\n",
    "print('t[::-1]  :',t[::-1]) # Reverse"
   ]
  },
  {
   "cell_type": "code",
   "execution_count": 9,
   "id": "1b47250e",
   "metadata": {},
   "outputs": [
    {
     "name": "stdout",
     "output_type": "stream",
     "text": [
      "t = ['a', 'x', 'y', 'd', 'e', 'z']\n",
      "t = ['a', 'x', 'y', 'd', 'e', 'z']\n",
      "t = ['a', 'x', 'y', 'd', 'e', 'z']\n",
      "t3 : [1, 'abc', 2.3, 'x', 'y', 123]\n"
     ]
    }
   ],
   "source": [
    "# Modifying list elements\n",
    "\n",
    "print('t =',t)\n",
    "\n",
    "t[5] = 'z'\n",
    "\n",
    "print('t =',t)\n",
    "\n",
    "t[1:3] = ['x', 'y']\n",
    "\n",
    "print('t =',t)\n",
    "\n",
    "t1 = [1, 'abc', 2.3]\n",
    "\n",
    "t2 = ['x', 'y', 123]\n",
    "\n",
    "t3 = t1 + t2\n",
    "\n",
    "print('t3 :',t3)"
   ]
  },
  {
   "cell_type": "markdown",
   "id": "a218ba6e",
   "metadata": {},
   "source": [
    "## Adding and Removing Elements from a List"
   ]
  },
  {
   "cell_type": "code",
   "execution_count": 11,
   "id": "e724d9fc",
   "metadata": {},
   "outputs": [
    {
     "name": "stdout",
     "output_type": "stream",
     "text": [
      "The list t3 : [1, 'abc', 2.3, 'x', 'y', 123]\n"
     ]
    }
   ],
   "source": [
    "# Examples \n",
    "\n",
    "print('The list t3 :',t3)\n"
   ]
  },
  {
   "cell_type": "code",
   "execution_count": 12,
   "id": "10784fa9",
   "metadata": {},
   "outputs": [
    {
     "name": "stdout",
     "output_type": "stream",
     "text": [
      "Enter Somethingi\n",
      "The list t3 after  adding element is : [1, 'abc', 2.3, 'x', 'y', 123, 'i']\n"
     ]
    }
   ],
   "source": [
    "x = input('Enter Something')\n",
    "\n",
    "t3.append(x)\n",
    "\n",
    "print('The list t3 after adding element is :',t3)\n"
   ]
  },
  {
   "cell_type": "code",
   "execution_count": 13,
   "id": "13d59b1b",
   "metadata": {},
   "outputs": [
    {
     "name": "stdout",
     "output_type": "stream",
     "text": [
      "The list t3 after adding inserting k at index 2 : [1, 'abc', 'k', 2.3, 'x', 'y', 123, 'i']\n"
     ]
    }
   ],
   "source": [
    "t3.insert(2,'k')\n",
    "\n",
    "print('The list t3 after adding inserting k at index 2 :',t3)"
   ]
  },
  {
   "cell_type": "code",
   "execution_count": 16,
   "id": "4e64cd9f",
   "metadata": {},
   "outputs": [
    {
     "name": "stdout",
     "output_type": "stream",
     "text": [
      "After removing 'abc' t3 : [1, 'k', 2.3, 'x', 'y', 123, 'i']\n"
     ]
    }
   ],
   "source": [
    "t3.remove('abc')\n",
    "\n",
    "print(\"After removing 'abc' t3 :\",t3)"
   ]
  },
  {
   "cell_type": "code",
   "execution_count": 18,
   "id": "cfc5f591",
   "metadata": {},
   "outputs": [
    {
     "name": "stdout",
     "output_type": "stream",
     "text": [
      "After removing element at index 2 : [1, 'k', 'y', 123, 'i']\n"
     ]
    }
   ],
   "source": [
    "t3.pop(2)\n",
    "\n",
    "print('After removing element at index 2 :',t3)"
   ]
  },
  {
   "cell_type": "code",
   "execution_count": 19,
   "id": "812d3e21",
   "metadata": {},
   "outputs": [
    {
     "name": "stdout",
     "output_type": "stream",
     "text": [
      "After popping  an element : [1, 'k', 'y', 123]\n"
     ]
    }
   ],
   "source": [
    "t3.pop()\n",
    "\n",
    "print('After popping  an element :',t3)"
   ]
  },
  {
   "cell_type": "code",
   "execution_count": 20,
   "id": "b03824ea",
   "metadata": {},
   "outputs": [
    {
     "name": "stdout",
     "output_type": "stream",
     "text": [
      "After deleting range of elements : [1, 123]\n"
     ]
    }
   ],
   "source": [
    "del t3[1:3]\n",
    "\n",
    "print('After deleting range of elements :',t3)"
   ]
  },
  {
   "cell_type": "markdown",
   "id": "5abd35f8",
   "metadata": {},
   "source": [
    "# Other list methods"
   ]
  },
  {
   "cell_type": "code",
   "execution_count": 21,
   "id": "5b16d286",
   "metadata": {},
   "outputs": [
    {
     "name": "stdout",
     "output_type": "stream",
     "text": [
      "['x', 'y', 123]\n"
     ]
    }
   ],
   "source": [
    "# clear method\n",
    "\n",
    "print(t2)\n"
   ]
  },
  {
   "cell_type": "code",
   "execution_count": 23,
   "id": "6a4bcbb8",
   "metadata": {},
   "outputs": [
    {
     "name": "stdout",
     "output_type": "stream",
     "text": [
      "[]\n"
     ]
    }
   ],
   "source": [
    "t2.clear()\n",
    "\n",
    "print(t2)"
   ]
  },
  {
   "cell_type": "code",
   "execution_count": 24,
   "id": "a0725264",
   "metadata": {},
   "outputs": [
    {
     "name": "stdout",
     "output_type": "stream",
     "text": [
      "t2 : [1, 123]\n"
     ]
    }
   ],
   "source": [
    "# Copy\n",
    "\n",
    "t2 = t3.copy()\n",
    "\n",
    "print('t2 :',t2)"
   ]
  },
  {
   "cell_type": "code",
   "execution_count": 25,
   "id": "d3ab56a1",
   "metadata": {},
   "outputs": [
    {
     "name": "stdout",
     "output_type": "stream",
     "text": [
      "t2 after append of y : [1, 123, 'y']\n"
     ]
    }
   ],
   "source": [
    "t2.append('y')\n",
    "\n",
    "print('t2 after append of y :',t2)"
   ]
  },
  {
   "cell_type": "code",
   "execution_count": 26,
   "id": "e25cde9c",
   "metadata": {},
   "outputs": [
    {
     "name": "stdout",
     "output_type": "stream",
     "text": [
      "Number of occurances of object y is : 1\n"
     ]
    }
   ],
   "source": [
    "# Count\n",
    "\n",
    "print('Number of occurances of object y is :',t2.count('y'))"
   ]
  },
  {
   "cell_type": "code",
   "execution_count": 27,
   "id": "375d1d52",
   "metadata": {},
   "outputs": [
    {
     "name": "stdout",
     "output_type": "stream",
     "text": [
      "[1, 'abc', 2.3]\n",
      "[1, 123]\n"
     ]
    }
   ],
   "source": [
    "# Extend\n",
    "\n",
    "print(t1)\n",
    "\n",
    "print(t3)\n"
   ]
  },
  {
   "cell_type": "code",
   "execution_count": 28,
   "id": "27453c93",
   "metadata": {},
   "outputs": [
    {
     "name": "stdout",
     "output_type": "stream",
     "text": [
      "t3 after extendind it with the elements of t1: [1, 123, 1, 'abc', 2.3]\n"
     ]
    }
   ],
   "source": [
    "t3.extend(t1)\n",
    "\n",
    "print('t3 after extendind it with the elements of t1:',t3)"
   ]
  },
  {
   "cell_type": "code",
   "execution_count": 30,
   "id": "77a46538",
   "metadata": {},
   "outputs": [
    {
     "name": "stdout",
     "output_type": "stream",
     "text": [
      "The index of 1 in t3 : 0\n",
      "The index of abc in t3 : 3\n"
     ]
    }
   ],
   "source": [
    "print('The index of 1 in t3 :',t3.index(1))\n",
    "\n",
    "print('The index of abc in t3 :',t3.index('abc'))\n"
   ]
  },
  {
   "cell_type": "code",
   "execution_count": 32,
   "id": "d02a8a09",
   "metadata": {},
   "outputs": [
    {
     "name": "stdout",
     "output_type": "stream",
     "text": [
      "[1, 123, 1, 'abc', 2.3]\n",
      "t3 after reversing the elements : [2.3, 'abc', 1, 123, 1]\n"
     ]
    }
   ],
   "source": [
    "# Reverse\n",
    "\n",
    "print(t3)\n",
    "\n",
    "t3.reverse()\n",
    "\n",
    "print('t3 after reversing the elements :',t3)"
   ]
  },
  {
   "cell_type": "code",
   "execution_count": 34,
   "id": "a2f58af8",
   "metadata": {},
   "outputs": [
    {
     "name": "stdout",
     "output_type": "stream",
     "text": [
      "The list of t4 : [10, 13, 5, 100, 123, 567, 34]\n",
      "t4 after sorting : [5, 10, 13, 34, 100, 123, 567]\n"
     ]
    }
   ],
   "source": [
    "t4 = [10,13,5,100,123,567,34]\n",
    "\n",
    "print('The list of t4 :',t4)\n",
    "\n",
    "t4.sort()\n",
    "\n",
    "print('t4 after sorting :',t4)"
   ]
  },
  {
   "cell_type": "markdown",
   "id": "09ec9cdb",
   "metadata": {},
   "source": [
    "# Iterating over a list"
   ]
  },
  {
   "cell_type": "code",
   "execution_count": 38,
   "id": "35faac13",
   "metadata": {},
   "outputs": [
    {
     "name": "stdout",
     "output_type": "stream",
     "text": [
      "The list of names are : ['Suresh', 'Ramesh', 'Mahesh', 'Avinash', 'Anand']\n",
      "hello Suresh\n",
      "hello Ramesh\n",
      "hello Mahesh\n",
      "hello Avinash\n",
      "hello Anand\n"
     ]
    }
   ],
   "source": [
    "# Example \n",
    "\n",
    "names = ['Suresh','Ramesh','Mahesh','Avinash','Anand']\n",
    "\n",
    "print('The list of names are :',names)\n",
    "\n",
    "for i in names:\n",
    "    print('hello '+i)"
   ]
  },
  {
   "cell_type": "code",
   "execution_count": 41,
   "id": "cd689c46",
   "metadata": {},
   "outputs": [
    {
     "name": "stdout",
     "output_type": "stream",
     "text": [
      "Enter a name to search in the name list :Arun\n",
      "The element  Arun  is not present in the list\n"
     ]
    }
   ],
   "source": [
    "name_val = input('Enter a name to search in the name list :')\n",
    "\n",
    "if name_val in names:\n",
    "    print('The element ',name_val,' is present is the list')\n",
    "    \n",
    "else:\n",
    "    print('The element ',name_val,' is not present in the list')\n"
   ]
  },
  {
   "cell_type": "markdown",
   "id": "f8b74e13",
   "metadata": {},
   "source": [
    "# Tuples"
   ]
  },
  {
   "cell_type": "code",
   "execution_count": 43,
   "id": "c8b68618",
   "metadata": {},
   "outputs": [
    {
     "name": "stdout",
     "output_type": "stream",
     "text": [
      "The tuple 1 is : (1, 3, 5, 7)\n"
     ]
    }
   ],
   "source": [
    "# Creating a tuple\n",
    "\n",
    "tuple1 = (1,3,5,7)\n",
    "\n",
    "print('The tuple 1 is :',tuple1)\n"
   ]
  },
  {
   "cell_type": "code",
   "execution_count": 48,
   "id": "f162bff3",
   "metadata": {},
   "outputs": [
    {
     "name": "stdout",
     "output_type": "stream",
     "text": [
      "The list 1 is : [1, 2, 3, 4, 5]\n",
      "The tuple t1 is : (1, 2, 3, 4, 5)\n",
      "The data type of list1 and t1 are : <class 'list'> <class 'tuple'>\n"
     ]
    }
   ],
   "source": [
    "list1 = [1,2,3,4,5]\n",
    "\n",
    "print('The list 1 is :',list1)\n",
    "\n",
    "t1 = tuple(list1)\n",
    "\n",
    "print('The tuple t1 is :',t1)\n",
    "\n",
    "print('The data type of list1 and t1 are :',type(list1), type(t1))"
   ]
  },
  {
   "cell_type": "code",
   "execution_count": 50,
   "id": "8b8d7414",
   "metadata": {},
   "outputs": [
    {
     "name": "stdout",
     "output_type": "stream",
     "text": [
      "tuple1 : (1, 3, 5, 7)\n",
      "tuple[0] : 1\n",
      "tuple[3] : 7\n",
      "The length of tuple1 : 4\n"
     ]
    }
   ],
   "source": [
    "# Accessing elements of a tuple\n",
    "\n",
    "print('tuple1 :',tuple1)\n",
    "\n",
    "print('tuple[0] :',tuple1[0])\n",
    "\n",
    "print('tuple[3] :',tuple1[3])\n",
    "\n",
    "print('The length of tuple1 :',len(tuple1))"
   ]
  },
  {
   "cell_type": "markdown",
   "id": "0240f5fd",
   "metadata": {},
   "source": [
    "## Tuple Operations"
   ]
  },
  {
   "cell_type": "code",
   "execution_count": 52,
   "id": "4de87595",
   "metadata": {},
   "outputs": [
    {
     "name": "stdout",
     "output_type": "stream",
     "text": [
      "1\n",
      "John\n",
      "True\n",
      "-23.45\n",
      "John is present\n"
     ]
    }
   ],
   "source": [
    "# Example\n",
    "\n",
    "tup2 = (1,'John',True,-23.45)\n",
    "\n",
    "for i in tup2:\n",
    "    print(i)\n",
    "    \n",
    "if 'John' in tup2:\n",
    "    print('John is present')"
   ]
  },
  {
   "cell_type": "code",
   "execution_count": 55,
   "id": "8d61f8e9",
   "metadata": {},
   "outputs": [
    {
     "name": "stdout",
     "output_type": "stream",
     "text": [
      "tuple1 : (1, 3, 5, 7)\n",
      "tuple2 : ('Ramesh', 'Suresh', 'Dinesh', 'Mahesh')\n",
      "tuple3 : (42, (1, 3, 5, 7), ('Ramesh', 'Suresh', 'Dinesh', 'Mahesh'), 5.5)\n",
      "tuple3[2] : ('Ramesh', 'Suresh', 'Dinesh', 'Mahesh')\n",
      "tuple3[2][1]: Suresh\n"
     ]
    }
   ],
   "source": [
    "# Nested Tuple\n",
    "\n",
    "tup1 = (1,3,5,7)\n",
    "\n",
    "tup2 = ('Ramesh','Suresh','Dinesh','Mahesh')\n",
    "\n",
    "print('tuple1 :',tup1)\n",
    "\n",
    "print('tuple2 :',tup2)\n",
    "\n",
    "tup3 = (42, tup1,tup2,5.5)\n",
    "\n",
    "print('tuple3 :',tup3)\n",
    "\n",
    "print('tuple3[2] :',tup3[2])\n",
    "\n",
    "print('tuple3[2][1]:',tup3[2][1]) # Index\n"
   ]
  },
  {
   "cell_type": "code",
   "execution_count": 56,
   "id": "57067f76",
   "metadata": {},
   "outputs": [
    {
     "data": {
      "text/plain": [
       "True"
      ]
     },
     "execution_count": 56,
     "metadata": {},
     "output_type": "execute_result"
    }
   ],
   "source": [
    "# Comparing Tuples\n",
    "\n",
    "(0,1,200000) < (0,3,5)\n"
   ]
  },
  {
   "cell_type": "markdown",
   "id": "fcad1d9b",
   "metadata": {},
   "source": [
    "# Sets"
   ]
  },
  {
   "cell_type": "code",
   "execution_count": 58,
   "id": "131d441c",
   "metadata": {},
   "outputs": [
    {
     "name": "stdout",
     "output_type": "stream",
     "text": [
      "s1 is : {1, 2.334, 'abc'}\n",
      "s2 is : set()\n",
      "s3 is : {1, 2, 3, 4}\n"
     ]
    }
   ],
   "source": [
    "# Example\n",
    "\n",
    "s1 = {1,'abc',2.334}\n",
    "\n",
    "s2 = set()\n",
    "\n",
    "print('s1 is :',s1)\n",
    "\n",
    "print('s2 is :',s2)\n",
    "\n",
    "l1 = [1,2,3,4]\n",
    "\n",
    "s3 = set(l1)\n",
    "\n",
    "print('s3 is :',s3)"
   ]
  },
  {
   "cell_type": "code",
   "execution_count": 67,
   "id": "f9bd565a",
   "metadata": {},
   "outputs": [
    {
     "name": "stdout",
     "output_type": "stream",
     "text": [
      "{'orange', 'apple', 'banana', 'kiwi', 'pear'}\n",
      "orange\n",
      "apple\n",
      "banana\n",
      "kiwi\n",
      "pear\n",
      "apple is present\n"
     ]
    }
   ],
   "source": [
    "basket = {'apple','orange','pear','kiwi','banana','apple'}\n",
    "\n",
    "print(basket)\n",
    "\n",
    "for i in basket:  # only unique values are printed\n",
    "    print(i)\n",
    "    \n",
    "if 'apple' in basket:\n",
    "    print('apple is present')"
   ]
  },
  {
   "cell_type": "code",
   "execution_count": 70,
   "id": "19331347",
   "metadata": {},
   "outputs": [
    {
     "name": "stdout",
     "output_type": "stream",
     "text": [
      "{'orange', 'apple', 'banana', 'carrot', 'grapes', 'kiwi', 'pear', 'fig'}\n"
     ]
    }
   ],
   "source": [
    "basket.add('fig')\n",
    "\n",
    "basket.update(['grapes','carrot'])\n",
    "\n",
    "print(basket)"
   ]
  },
  {
   "cell_type": "code",
   "execution_count": 71,
   "id": "c4130801",
   "metadata": {},
   "outputs": [
    {
     "name": "stdout",
     "output_type": "stream",
     "text": [
      "Number of items present in basket : 8\n"
     ]
    }
   ],
   "source": [
    "print('Number of items present in basket :',len(basket))"
   ]
  },
  {
   "cell_type": "code",
   "execution_count": 73,
   "id": "b588d6af",
   "metadata": {},
   "outputs": [
    {
     "name": "stdout",
     "output_type": "stream",
     "text": [
      "The max and min values in s1 are : 78 2\n"
     ]
    }
   ],
   "source": [
    "s1 = {12,24,34,2,5,56,78}\n",
    "\n",
    "print('The max and min values in s1 are :',max(s1),min(s1))"
   ]
  },
  {
   "cell_type": "code",
   "execution_count": 78,
   "id": "5e4ad438",
   "metadata": {},
   "outputs": [
    {
     "name": "stdout",
     "output_type": "stream",
     "text": [
      "{'orange', 'apple', 'banana', 'carrot', 'grapes', 'kiwi', 'pear', 'fig'}\n",
      "basket after removing apple is : {'orange', 'banana', 'carrot', 'grapes', 'kiwi', 'pear', 'fig'}\n"
     ]
    }
   ],
   "source": [
    "print(basket)\n",
    "\n",
    "basket.remove('apple')\n",
    "\n",
    "print('basket after removing apple is :',basket)"
   ]
  },
  {
   "cell_type": "code",
   "execution_count": 81,
   "id": "a7ac4076",
   "metadata": {},
   "outputs": [
    {
     "name": "stdout",
     "output_type": "stream",
     "text": [
      "s3 is : {'abc', (1, 2, 3)}\n"
     ]
    }
   ],
   "source": [
    "s3 = {'abc',(1,2,3)} # only tuple is allowed to nest inside set.\n",
    "\n",
    "print('s3 is :',s3)\n"
   ]
  },
  {
   "cell_type": "markdown",
   "id": "9b3d0980",
   "metadata": {},
   "source": [
    "# Mathematical set opeartions\n"
   ]
  },
  {
   "cell_type": "code",
   "execution_count": 84,
   "id": "429e0528",
   "metadata": {},
   "outputs": [
    {
     "name": "stdout",
     "output_type": "stream",
     "text": [
      "s1 is : {'orange', 'apple', 'banana'}\n",
      "s2 is : {'banana', 'lime', 'grapefruit'}\n",
      "Union : {'orange', 'apple', 'lime', 'banana', 'grapefruit'}\n",
      "Intersection : {'banana'}\n",
      "Difference : {'orange', 'apple'}\n",
      "Symmetric_difference : {'orange', 'apple', 'lime', 'grapefruit'}\n"
     ]
    }
   ],
   "source": [
    "# Example\n",
    "\n",
    "s1 = {'apple','orange','banana'}\n",
    "\n",
    "s2 = {'grapefruit','lime','banana'}\n",
    "\n",
    "print('s1 is :',s1)\n",
    "\n",
    "print('s2 is :',s2)\n",
    "\n",
    "print('Union :',s1 | s2)\n",
    "\n",
    "print('Intersection :',s1 & s2)\n",
    "\n",
    "print('Difference :',s1 - s2)\n",
    "\n",
    "print('Symmetric_difference :',s1 ^ s2)"
   ]
  },
  {
   "cell_type": "code",
   "execution_count": 85,
   "id": "9755cc18",
   "metadata": {},
   "outputs": [
    {
     "name": "stdout",
     "output_type": "stream",
     "text": [
      "Union :  {'orange', 'apple', 'lime', 'banana', 'grapefruit'}\n",
      "Intersection :  {'banana'}\n",
      "Difference :  {'orange', 'apple'}\n",
      "Symmetric_Difference :  {'orange', 'apple', 'lime', 'grapefruit'}\n"
     ]
    }
   ],
   "source": [
    "print('Union : ',s1.union(s2))\n",
    "\n",
    "print('Intersection : ',s1.intersection(s2))\n",
    "\n",
    "print('Difference : ',s1.difference(s2))\n",
    "\n",
    "print('Symmetric_Difference : ',s1.symmetric_difference(s2))\n"
   ]
  },
  {
   "cell_type": "markdown",
   "id": "4b291a09",
   "metadata": {},
   "source": [
    "# Dictionary"
   ]
  },
  {
   "cell_type": "code",
   "execution_count": 113,
   "id": "e7552992",
   "metadata": {},
   "outputs": [
    {
     "name": "stdout",
     "output_type": "stream",
     "text": [
      "Capitals : {'Telangana': 'Hyd', 'Tamilnadu': 'Ch', 'Karnataka': 'Ben', 'Maharastra': 'Mum', 'Andhra Pradesh': 'Hyd'}\n"
     ]
    }
   ],
   "source": [
    "# Creating Dictionary called capitals\n",
    "\n",
    "capitals = {'Telangana':'Hyd','Tamilnadu':'Ch','Karnataka':'Ben','Maharastra':'Mum','Andhra Pradesh':'Hyd'}\n",
    "\n",
    "print('Capitals :',capitals)"
   ]
  },
  {
   "cell_type": "code",
   "execution_count": 89,
   "id": "959e3f6e",
   "metadata": {},
   "outputs": [
    {
     "name": "stdout",
     "output_type": "stream",
     "text": [
      "dict1 : {'uk': 'London', 'ireland': 'Dublin', 'france': 'Paris'}\n",
      "dict2 : {'uk': 'london', 'ireland': 'dublin', 'france': 'paris'}\n",
      "dict3 : {'uk': 'london', 'ireland': 'dublin', 'france': 'paris'}\n"
     ]
    }
   ],
   "source": [
    "# Creating dictionary from other collection types\n",
    "\n",
    "\n",
    "# from strings\n",
    "\n",
    "dict1 = dict(uk = 'London', ireland = 'Dublin', france = 'Paris')\n",
    "\n",
    "print('dict1 :',dict1)\n",
    "\n",
    "# from list of tuples\n",
    "\n",
    "dict2 = dict([('uk','london'),('ireland','dublin'),('france','paris')])\n",
    "\n",
    "print('dict2 :',dict2)\n",
    "\n",
    "# from tuple of lists\n",
    "\n",
    "dict3 = dict((['uk','london'],['ireland','dublin'],['france','paris']))\n",
    "\n",
    "print('dict3 :',dict3)\n"
   ]
  },
  {
   "cell_type": "code",
   "execution_count": 91,
   "id": "d84e5a18",
   "metadata": {},
   "outputs": [
    {
     "name": "stdout",
     "output_type": "stream",
     "text": [
      "The capitals of dictionary : {'Telangana': 'Hyd', 'Tamilnadu': 'Ch', 'Karnataka': 'Ben', 'Maharastra': 'Mum'}\n",
      "The capital of Telangana : Hyd\n",
      "The modified capitals dictionary: {'Telangana': 'Hyd', 'Tamilnadu': 'Ch', 'Karnataka': 'Ben', 'Maharastra': 'Mum', 'Kerala': 'Trivandrum'}\n"
     ]
    }
   ],
   "source": [
    "# Accessing Elements in the dictionary\n",
    "\n",
    "print('The capitals of dictionary :',capitals)\n",
    "\n",
    "print('The capital of Telangana :',capitals['Telangana'])\n"
   ]
  },
  {
   "cell_type": "code",
   "execution_count": null,
   "id": "55cea98e",
   "metadata": {},
   "outputs": [],
   "source": [
    "# Adding New Key:Value pair to the dictionary\n",
    "\n",
    "capitals['Kerala'] = 'Trivandrum'\n",
    "\n",
    "print('The modified capitals dictionary:',capitals)"
   ]
  },
  {
   "cell_type": "code",
   "execution_count": 93,
   "id": "56740b40",
   "metadata": {},
   "outputs": [
    {
     "name": "stdout",
     "output_type": "stream",
     "text": [
      "The modified capitals is : {'Telangana': 'Hyd', 'Tamilnadu': 'Ch', 'Karnataka': 'Ben', 'Maharastra': 'Mum', 'Andhra Pradesh': 'Amaravathi'}\n"
     ]
    }
   ],
   "source": [
    "# Modifying an existing element\n",
    "\n",
    "capitals['Andhra Pradesh'] = 'Amaravathi'\n",
    "\n",
    "print('The modified capitals is :',capitals)"
   ]
  },
  {
   "cell_type": "code",
   "execution_count": 94,
   "id": "4bb45b5b",
   "metadata": {},
   "outputs": [
    {
     "name": "stdout",
     "output_type": "stream",
     "text": [
      "False\n",
      "True\n"
     ]
    }
   ],
   "source": [
    "# in and not in operators\n",
    "\n",
    "print('Assam' in capitals)\n",
    "\n",
    "print('Odisa' not in capitals)"
   ]
  },
  {
   "cell_type": "code",
   "execution_count": 95,
   "id": "904aec45",
   "metadata": {},
   "outputs": [
    {
     "name": "stdout",
     "output_type": "stream",
     "text": [
      "The length of the disctionary : 5\n"
     ]
    }
   ],
   "source": [
    "# Length\n",
    "\n",
    "print('The length of the disctionary :',len(capitals))"
   ]
  },
  {
   "cell_type": "code",
   "execution_count": 96,
   "id": "6c0f95ed",
   "metadata": {},
   "outputs": [
    {
     "name": "stdout",
     "output_type": "stream",
     "text": [
      "{'Telangana': 'Hyd', 'Tamilnadu': 'Ch', 'Karnataka': 'Ben', 'Maharastra': 'Mum', 'Andhra Pradesh': 'Amaravathi'}\n"
     ]
    }
   ],
   "source": [
    "# Removing items from dictionary\n",
    "\n",
    "print(capitals)"
   ]
  },
  {
   "cell_type": "code",
   "execution_count": 100,
   "id": "7f0e1684",
   "metadata": {},
   "outputs": [
    {
     "name": "stdout",
     "output_type": "stream",
     "text": [
      "The last item inserted, which is deleted by popitem : ('Maharastra', 'Mum')\n"
     ]
    }
   ],
   "source": [
    "# popitem\n",
    "\n",
    "print('The last item inserted, which is deleted by popitem :',capitals.popitem())"
   ]
  },
  {
   "cell_type": "code",
   "execution_count": 99,
   "id": "d5044107",
   "metadata": {},
   "outputs": [
    {
     "name": "stdout",
     "output_type": "stream",
     "text": [
      "{'Telangana': 'Hyd', 'Tamilnadu': 'Ch', 'Karnataka': 'Ben', 'Maharastra': 'Mum'}\n"
     ]
    }
   ],
   "source": [
    "print(capitals)"
   ]
  },
  {
   "cell_type": "code",
   "execution_count": 109,
   "id": "c1caa7ee",
   "metadata": {},
   "outputs": [
    {
     "name": "stdout",
     "output_type": "stream",
     "text": [
      "The capital of maharastra is : Mum\n"
     ]
    }
   ],
   "source": [
    "# delete\n",
    "\n",
    "print('The capital of maharastra is :',capitals.pop('Maharastra'))\n"
   ]
  },
  {
   "cell_type": "code",
   "execution_count": 110,
   "id": "22e4c676",
   "metadata": {},
   "outputs": [
    {
     "name": "stdout",
     "output_type": "stream",
     "text": [
      "{'Telangana': 'Hyd', 'Tamilnadu': 'Ch', 'Karnataka': 'Ben', 'Andhra Pradesh': 'Hyd'}\n"
     ]
    }
   ],
   "source": [
    "print(capitals)"
   ]
  },
  {
   "cell_type": "code",
   "execution_count": 111,
   "id": "33c65d24",
   "metadata": {},
   "outputs": [
    {
     "name": "stdout",
     "output_type": "stream",
     "text": [
      "{'Telangana': 'Hyd', 'Tamilnadu': 'Ch', 'Andhra Pradesh': 'Hyd'}\n"
     ]
    }
   ],
   "source": [
    "del capitals['Karnataka']\n",
    "\n",
    "print(capitals)"
   ]
  },
  {
   "cell_type": "code",
   "execution_count": 112,
   "id": "950b1837",
   "metadata": {},
   "outputs": [
    {
     "name": "stdout",
     "output_type": "stream",
     "text": [
      "{}\n"
     ]
    }
   ],
   "source": [
    "capitals.clear()\n",
    "\n",
    "print(capitals)"
   ]
  },
  {
   "cell_type": "code",
   "execution_count": 119,
   "id": "4b5b0581",
   "metadata": {},
   "outputs": [
    {
     "name": "stdout",
     "output_type": "stream",
     "text": [
      "{'Telangana': 'Hyd', 'Tamilnadu': 'Ch', 'Karnataka': 'Ben', 'Maharastra': 'Mum', 'Andhra Pradesh': 'Hyd'}\n",
      "Telangana,Hyd\n",
      "Tamilnadu,Ch\n",
      "Karnataka,Ben\n",
      "Maharastra,Mum\n",
      "Andhra Pradesh,Hyd\n",
      "Telangana\n",
      "Tamilnadu\n",
      "Karnataka\n",
      "Maharastra\n",
      "Andhra Pradesh\n",
      "Hyd\n",
      "Ch\n",
      "Ben\n",
      "Mum\n",
      "Hyd\n"
     ]
    }
   ],
   "source": [
    "# Itereate over keys and values\n",
    "\n",
    "print(capitals)\n",
    "\n",
    "for state in capitals:\n",
    "    print(state,end = ',')\n",
    "    print(capitals[state])\n",
    "\n",
    "for cap in capitals:\n",
    "    print(cap)\n",
    "    \n",
    "for cap in capitals.values():\n",
    "    print(cap)"
   ]
  },
  {
   "cell_type": "code",
   "execution_count": 120,
   "id": "667cdef2",
   "metadata": {},
   "outputs": [
    {
     "name": "stdout",
     "output_type": "stream",
     "text": [
      "dict_values(['Hyd', 'Ch', 'Ben', 'Mum', 'Hyd'])\n",
      "dict_keys(['Telangana', 'Tamilnadu', 'Karnataka', 'Maharastra', 'Andhra Pradesh'])\n",
      "dict_items([('Telangana', 'Hyd'), ('Tamilnadu', 'Ch'), ('Karnataka', 'Ben'), ('Maharastra', 'Mum'), ('Andhra Pradesh', 'Hyd')])\n"
     ]
    }
   ],
   "source": [
    "# View\n",
    "\n",
    "print(capitals.values())\n",
    "\n",
    "print(capitals.keys())\n",
    "\n",
    "print(capitals.items())\n"
   ]
  },
  {
   "cell_type": "code",
   "execution_count": 123,
   "id": "7e0a05c1",
   "metadata": {},
   "outputs": [
    {
     "name": "stdout",
     "output_type": "stream",
     "text": [
      "{'Spring': ('Mar', 'Apr', 'May'), 'Summer': ('June', 'July', 'Aug'), 'Autumn': ('Sept', 'Oct', 'Nov'), 'Winter': ('Dec', 'Jan', 'Feb')}\n",
      "('Sept', 'Oct', 'Nov')\n"
     ]
    }
   ],
   "source": [
    "# Nested Dictionary\n",
    "\n",
    "seasons = {'Spring':('Mar','Apr','May'),\n",
    "         'Summer':('June','July','Aug'),\n",
    "         'Autumn':('Sept','Oct','Nov'),\n",
    "         'Winter':('Dec','Jan','Feb')}\n",
    "\n",
    "print(seasons)\n"
   ]
  },
  {
   "cell_type": "code",
   "execution_count": 124,
   "id": "e0cfa553",
   "metadata": {},
   "outputs": [
    {
     "name": "stdout",
     "output_type": "stream",
     "text": [
      "('Sept', 'Oct', 'Nov')\n",
      "Nov\n"
     ]
    }
   ],
   "source": [
    "print(seasons['Autumn'])\n",
    "\n",
    "print(seasons['Autumn'][2])"
   ]
  },
  {
   "cell_type": "code",
   "execution_count": 126,
   "id": "4b0e0d31",
   "metadata": {},
   "outputs": [
    {
     "name": "stdout",
     "output_type": "stream",
     "text": [
      "Enter the sentence :The collection python are list, tuple, set and dictionary\n",
      "The Histogram : {'T': 1, 'h': 2, 'e': 5, ' ': 8, 'c': 3, 'o': 4, 'l': 4, 't': 6, 'i': 4, 'n': 4, 'p': 2, 'y': 2, 'a': 3, 'r': 2, 's': 2, ',': 2, 'u': 1, 'd': 2}\n"
     ]
    }
   ],
   "source": [
    "# Implement a Histogram to count a numbers of letters in a sentence\n",
    "\n",
    "sentence = input('Enter the sentence :')\n",
    "\n",
    "d = dict()\n",
    "\n",
    "for c in sentence:\n",
    "    if c not in d:\n",
    "        d[c] = 1\n",
    "        \n",
    "    else:\n",
    "        d[c] += 1\n",
    "        \n",
    "print('The Histogram :',d)"
   ]
  },
  {
   "cell_type": "code",
   "execution_count": 131,
   "id": "9aab66ce",
   "metadata": {},
   "outputs": [
    {
     "name": "stdout",
     "output_type": "stream",
     "text": [
      "Enter the sentence :Hi Arun, Hi Prakash, Hi Mahesh, Arun Developer, Prakash Engineer Mahesh Engineer\n",
      "['Hi', 'Arun,', 'Hi', 'Prakash,', 'Hi', 'Mahesh,', 'Arun', 'Developer,', 'Prakash', 'Engineer', 'Mahesh', 'Engineer']\n",
      "The frequency of each word in the given sentence is : {'Hi': 3, 'Arun,': 1, 'Prakash,': 1, 'Mahesh,': 1, 'Arun': 1, 'Developer,': 1, 'Prakash': 1, 'Engineer': 2, 'Mahesh': 1}\n"
     ]
    }
   ],
   "source": [
    "counts = dict()\n",
    "\n",
    "line = input('Enter the sentence :')\n",
    "\n",
    "words = line.split()\n",
    "\n",
    "print(words)\n",
    "\n",
    "for word in words:\n",
    "    if word not in counts:\n",
    "        counts[word] = 1\n",
    "    else:\n",
    "        counts[word] += 1\n",
    "\n",
    "print('The frequency of each word in the given sentence is :',counts)\n",
    "              "
   ]
  },
  {
   "cell_type": "markdown",
   "id": "47b7e148",
   "metadata": {},
   "source": [
    "# Week 5"
   ]
  },
  {
   "cell_type": "markdown",
   "id": "73f57655",
   "metadata": {},
   "source": [
    "# Functions\n",
    "\n",
    "## Buit-in-functions"
   ]
  },
  {
   "cell_type": "code",
   "execution_count": 3,
   "id": "5bfc346b",
   "metadata": {},
   "outputs": [
    {
     "name": "stdout",
     "output_type": "stream",
     "text": [
      "The list1 is  : [23, 45, 64, 32, 14, 677, 8321, 12464]\n",
      "The max element of the list1 is : 12464\n",
      "The min element of the list1 is : 14\n",
      "The lenght of list1 is : 8\n",
      "The type of list1 is ; <class 'list'>\n"
     ]
    }
   ],
   "source": [
    "# Example\n",
    "\n",
    "list1 = [23,45,64,32,14,677,8321,12464]\n",
    "\n",
    "print('The list1 is  :',list1)\n",
    "\n",
    "print('The max element of the list1 is :',max(list1))\n",
    "\n",
    "print('The min element of the list1 is :',min(list1))\n",
    "\n",
    "print('The lenght of list1 is :',len(list1))\n",
    "\n",
    "print('The type of list1 is ;',type(list1))\n"
   ]
  },
  {
   "cell_type": "code",
   "execution_count": 6,
   "id": "a51f2a4a",
   "metadata": {},
   "outputs": [
    {
     "name": "stdout",
     "output_type": "stream",
     "text": [
      "a, b, c : 32.0 32 32.0\n",
      "The type of a,b,c is : <class 'float'> <class 'int'> <class 'str'>\n"
     ]
    }
   ],
   "source": [
    "a = 32.0\n",
    "\n",
    "b = int(a)\n",
    "\n",
    "c = str(a)\n",
    "\n",
    "print('a, b, c :',a,b,c)\n",
    "\n",
    "print('The type of a,b,c is :',type(a),type(b),type(c))\n"
   ]
  },
  {
   "cell_type": "code",
   "execution_count": 8,
   "id": "89e02d25",
   "metadata": {},
   "outputs": [
    {
     "name": "stdout",
     "output_type": "stream",
     "text": [
      "Enter a number to find  the square root :25\n",
      "The  square root of  25  is : 5.0\n"
     ]
    }
   ],
   "source": [
    "# Math Funtions\n",
    "\n",
    "import math\n",
    "\n",
    "n = int(input('Enter a number to find  the square root :'))\n",
    "\n",
    "print('The  square root of ',n,' is :',math.sqrt(n))"
   ]
  },
  {
   "cell_type": "code",
   "execution_count": 13,
   "id": "c8b0a304",
   "metadata": {},
   "outputs": [
    {
     "name": "stdout",
     "output_type": "stream",
     "text": [
      "A random number between 0.0 and 1.0 : 0.18513713511034424\n",
      "Select random number from the certain range : 6\n"
     ]
    }
   ],
   "source": [
    "# Random Module\n",
    "\n",
    "import random\n",
    "\n",
    "print('A random number between 0.0 and 1.0 :',random.random())\n",
    "\n",
    "print('Select random number from the certain range :',random.randint(5,10))"
   ]
  },
  {
   "cell_type": "code",
   "execution_count": 14,
   "id": "89cb49af",
   "metadata": {},
   "outputs": [
    {
     "name": "stdout",
     "output_type": "stream",
     "text": [
      "Enter the low value :10\n",
      "Enter the high value :100\n",
      "A random number between the low and high value : 85\n"
     ]
    }
   ],
   "source": [
    "low = int(input('Enter the low value :'))\n",
    "\n",
    "high = int(input('Enter the high value :'))\n",
    "\n",
    "print('A random number between the low and high value :',random .randint(low,high))"
   ]
  },
  {
   "cell_type": "code",
   "execution_count": 16,
   "id": "3a6a6c7a",
   "metadata": {},
   "outputs": [
    {
     "name": "stdout",
     "output_type": "stream",
     "text": [
      "The tuple t is : (1, 2, 3, 4, 5, 6, 7, 8, 9, 10, 100)\n",
      "The random item from the tuple t is : 7\n"
     ]
    }
   ],
   "source": [
    "t = (1,2,3,4,5,6,7,8,9,10,100)\n",
    "\n",
    "print('The tuple t is :',t)\n",
    "\n",
    "print('The random item from the tuple t is :',random.choice(t))"
   ]
  },
  {
   "cell_type": "markdown",
   "id": "64cf9ac5",
   "metadata": {},
   "source": [
    "# User-Defined Functions"
   ]
  },
  {
   "cell_type": "code",
   "execution_count": 19,
   "id": "1d842b9d",
   "metadata": {},
   "outputs": [
    {
     "name": "stdout",
     "output_type": "stream",
     "text": [
      "Hello World !\n",
      "The is after the functiuon call :\n",
      "Hello World !\n"
     ]
    }
   ],
   "source": [
    "# Example\n",
    "\n",
    "def display_msg():    # Function Definition\n",
    "    print('Hello World !')\n",
    "    \n",
    "display_msg()  # Function Calling\n",
    "\n",
    "print('The is after the functiuon call :')\n",
    "\n",
    "display_msg()"
   ]
  },
  {
   "cell_type": "code",
   "execution_count": 21,
   "id": "99562a8c",
   "metadata": {},
   "outputs": [
    {
     "name": "stdout",
     "output_type": "stream",
     "text": [
      "Hello World !\n",
      "The is after the functiuon call :\n",
      "Hello World !\n",
      "The description  of display_msg function is :  This function display a hello world message.....\n"
     ]
    }
   ],
   "source": [
    "# Docstring\n",
    "\n",
    "def display_msg():    # Function Definition\n",
    "    \n",
    "    ''' This function display a hello world message.....'''\n",
    "    print('Hello World !')\n",
    "    \n",
    "display_msg()  # Function Calling\n",
    "\n",
    "print('The is after the functiuon call :')\n",
    "\n",
    "display_msg()\n",
    "\n",
    "print('The description  of display_msg function is :',display_msg.__doc__)"
   ]
  },
  {
   "cell_type": "code",
   "execution_count": 24,
   "id": "9ee56031",
   "metadata": {},
   "outputs": [
    {
     "name": "stdout",
     "output_type": "stream",
     "text": [
      "The message received is : Hello Students\n",
      "The message received is : Good Morning\n"
     ]
    }
   ],
   "source": [
    "# Functions  which take argument as a parameter\n",
    "\n",
    "def display_msg(msg):\n",
    "    print('The message received is :',msg)\n",
    "    \n",
    "display_msg('Hello Students')\n",
    "display_msg('Good Morning')\n"
   ]
  },
  {
   "cell_type": "code",
   "execution_count": 28,
   "id": "01aef937",
   "metadata": {},
   "outputs": [
    {
     "name": "stdout",
     "output_type": "stream",
     "text": [
      "The return value is : 625\n",
      "The square of 345 is : 119025\n"
     ]
    }
   ],
   "source": [
    "# Function with return statement\n",
    "\n",
    "def square(n):\n",
    "    result = n * n\n",
    "    return result\n",
    "\n",
    "square(5) # output\n",
    "\n",
    "sqr = square(25)\n",
    "\n",
    "print('The return value is :',sqr)\n",
    "\n",
    "print('The square of 345 is :',square(345))"
   ]
  },
  {
   "cell_type": "code",
   "execution_count": 29,
   "id": "9cf5de4f",
   "metadata": {},
   "outputs": [
    {
     "name": "stdout",
     "output_type": "stream",
     "text": [
      "The result is : 590\n"
     ]
    }
   ],
   "source": [
    "# Functions to return the sum of two numbers\n",
    "\n",
    "def sum_of_two(x,y):\n",
    "    return x + y \n",
    "\n",
    "res = sum_of_two(245,345)\n",
    "\n",
    "print('The result is :',res)\n"
   ]
  },
  {
   "cell_type": "code",
   "execution_count": 34,
   "id": "96f35716",
   "metadata": {},
   "outputs": [
    {
     "name": "stdout",
     "output_type": "stream",
     "text": [
      "Yugi Welcome to Python Programming\n",
      "Yugi Welcome World\n",
      "Yugi Hello Welcome\n"
     ]
    }
   ],
   "source": [
    "# Default Parameter\n",
    "\n",
    "def greeter(name, prompt='Welcome', msg ='to Python Programming'):\n",
    "            print(name,prompt,msg)\n",
    "            \n",
    "greeter('Yugi')\n",
    "\n",
    "greeter('Yugi',msg = 'World')\n",
    "\n",
    "greeter(msg = 'Welcome', name = 'Yugi', prompt = 'Hello')\n"
   ]
  },
  {
   "cell_type": "code",
   "execution_count": 36,
   "id": "ff8f7af6",
   "metadata": {},
   "outputs": [
    {
     "name": "stdout",
     "output_type": "stream",
     "text": [
      "Welcome  Ramesh\n",
      "Welcome  Mahesh\n",
      "Welcome  Suresh\n",
      "Welcome  Dinesh\n",
      "Welcome  Ramesh\n",
      "Welcome  Mahesh\n",
      "Welcome  Suresh\n"
     ]
    }
   ],
   "source": [
    "# Arbitrary Positional Arguements \n",
    "\n",
    "def greeter(*args):\n",
    "    for name in args:\n",
    "        print('Welcome ',name)\n",
    "\n",
    "greeter('Ramesh','Mahesh','Suresh','Dinesh')\n",
    "\n",
    "greeter('Ramesh','Mahesh','Suresh')"
   ]
  },
  {
   "cell_type": "code",
   "execution_count": 37,
   "id": "d7a8cbec",
   "metadata": {},
   "outputs": [
    {
     "name": "stdout",
     "output_type": "stream",
     "text": [
      "args : Ramesh\n",
      "args : Mahesh\n",
      "Key : son  has value : Dinesh\n",
      "Key : daughter  has value : Alice\n"
     ]
    }
   ],
   "source": [
    "# Positional and Keyword Arguments\n",
    "\n",
    "def my_function(*args, **kwargs):\n",
    "    for arg in args:\n",
    "        print('args :',arg)\n",
    "        \n",
    "    for key in kwargs.keys():\n",
    "        print('Key :',key,' has value :',kwargs[key])\n",
    "        \n",
    "my_function('Ramesh','Mahesh',son = 'Dinesh', daughter = 'Alice')"
   ]
  },
  {
   "cell_type": "code",
   "execution_count": 42,
   "id": "75f74c7c",
   "metadata": {},
   "outputs": [
    {
     "name": "stdout",
     "output_type": "stream",
     "text": [
      "args : Ramesh\n",
      "args : Alice\n",
      "Key : son_number_one  has value : Andrew\n",
      "Key : son_number_two  has value : James\n",
      "Key : daughter  has value : Joselyn\n"
     ]
    }
   ],
   "source": [
    "my_function('Ramesh','Alice',son_number_one = 'Andrew',son_number_two = 'James',daughter = 'Joselyn')"
   ]
  },
  {
   "cell_type": "code",
   "execution_count": 44,
   "id": "62d5d60a",
   "metadata": {},
   "outputs": [
    {
     "name": "stdout",
     "output_type": "stream",
     "text": [
      "arg : a  has value : 1\n",
      "arg : b  has value : 2\n",
      "arg : c  has value : 3\n",
      "arg : d  has value : 4\n"
     ]
    }
   ],
   "source": [
    "# Function with only kwargs\n",
    "\n",
    "def named(**kwargs):\n",
    "    for key in kwargs.keys():\n",
    "        print('arg :',key,' has value :',kwargs[key])\n",
    "\n",
    "named(a=1, b=2, c=3, d=4)"
   ]
  },
  {
   "cell_type": "code",
   "execution_count": 48,
   "id": "e1b91ee2",
   "metadata": {},
   "outputs": [
    {
     "name": "stdout",
     "output_type": "stream",
     "text": [
      "100\n"
     ]
    }
   ],
   "source": [
    "# Global & Local Variable\n",
    "\n",
    "def my_function():\n",
    "    a_variable = 100 # Local_Variable\n",
    "    print(a_variable)\n",
    "    \n",
    "my_function()"
   ]
  },
  {
   "cell_type": "code",
   "execution_count": 50,
   "id": "321f44c1",
   "metadata": {},
   "outputs": [
    {
     "name": "stdout",
     "output_type": "stream",
     "text": [
      "The value of a_var is : 100\n",
      "The value of a_var outside my_func is : 200\n"
     ]
    }
   ],
   "source": [
    "# Global Variables\n",
    "\n",
    "a_var = 200 # Global Variable\n",
    "\n",
    "def my_func():\n",
    "    a_var = 100 # Local Variable\n",
    "    print('The value of a_var is :',a_var) # print the value of local a_var\n",
    "    \n",
    "my_func()\n",
    "\n",
    "print('The value of a_var outside my_func is :',a_var) # prints the value of global a_var\n"
   ]
  },
  {
   "cell_type": "code",
   "execution_count": 55,
   "id": "9408ebfa",
   "metadata": {},
   "outputs": [
    {
     "name": "stdout",
     "output_type": "stream",
     "text": [
      "The value of after increment is : 201\n",
      "The value of x outside my_func1 is : 201\n"
     ]
    }
   ],
   "source": [
    "# Access a global variable from within a function\n",
    "\n",
    "x = 200\n",
    "\n",
    "def my_func1():\n",
    "    \n",
    "    global x\n",
    "    \n",
    "    x = x + 1\n",
    "    print('The value of after increment is :',x)\n",
    "    \n",
    "my_func1()\n",
    "\n",
    "print('The value of x outside my_func1 is :',x)"
   ]
  },
  {
   "cell_type": "code",
   "execution_count": 57,
   "id": "f840d22e",
   "metadata": {},
   "outputs": [
    {
     "name": "stdout",
     "output_type": "stream",
     "text": [
      "x in func1 is : 100\n",
      "x in func2 is : 101\n",
      "The value of x after call to func2 : 101\n"
     ]
    }
   ],
   "source": [
    "# Function within a function - non local variable\n",
    "\n",
    "def func1(): # Outer Function\n",
    "    x = 100  # Local vaiable to func1\n",
    "    print('x in func1 is :',x)\n",
    "    \n",
    "    def func2(): # inner Function\n",
    "        nonlocal x # \n",
    "        x = x + 1\n",
    "        print('x in func2 is :',x)\n",
    "        \n",
    "    func2()\n",
    "    print('The value of x after call to func2 :',x)\n",
    "    \n",
    "func1()"
   ]
  },
  {
   "cell_type": "code",
   "execution_count": null,
   "id": "3f0f61fa",
   "metadata": {},
   "outputs": [],
   "source": [
    "# Recursion\n",
    "\n",
    "# Example : 5! = 5 * 4 * 3 * 2 * 1 \n",
    "\n",
    "# 5! = 5 * 4!,   4! = 4 * 3!,   3! = 3 * 2!,    2! = 2 * 1!,   1! = 1 * 0!,  0! = 1\n"
   ]
  },
  {
   "cell_type": "code",
   "execution_count": 58,
   "id": "da6ac19e",
   "metadata": {},
   "outputs": [
    {
     "name": "stdout",
     "output_type": "stream",
     "text": [
      "Enter the number :5\n",
      "The factorial of  5  is : 120\n"
     ]
    }
   ],
   "source": [
    "# Factorial of a number using recursion\n",
    "\n",
    "def fact(x):\n",
    "    if x <= 1:\n",
    "        return 1\n",
    "    else:\n",
    "        return x * fact(x-1)\n",
    "    \n",
    "n = int(input('Enter the number :'))\n",
    "\n",
    "print('The factorial of ',n, ' is :',fact(n))\n",
    "    "
   ]
  },
  {
   "cell_type": "code",
   "execution_count": 59,
   "id": "bdac8857",
   "metadata": {},
   "outputs": [
    {
     "name": "stdout",
     "output_type": "stream",
     "text": [
      "25\n"
     ]
    }
   ],
   "source": [
    "# Anonymous functions / lambda functions \n",
    "\n",
    "square = lambda i : i * i \n",
    "\n",
    "print(square(5))\n"
   ]
  },
  {
   "cell_type": "code",
   "execution_count": 62,
   "id": "356297b1",
   "metadata": {},
   "outputs": [
    {
     "name": "stdout",
     "output_type": "stream",
     "text": [
      "Lambda function with no arguements\n",
      "25\n",
      "6\n",
      "15\n"
     ]
    }
   ],
   "source": [
    "func0 = lambda : print('Lambda function with no arguements')\n",
    "\n",
    "func1 = lambda x : x * x\n",
    "\n",
    "func2 = lambda x, y: x * y\n",
    "\n",
    "func3 = lambda x, y, z : x + y + z\n",
    "\n",
    "func0()\n",
    "\n",
    "print(func1(5))\n",
    "\n",
    "print(func2(2,3))\n",
    "\n",
    "print(func3(4,5,6))"
   ]
  },
  {
   "cell_type": "code",
   "execution_count": 2,
   "id": "d1b6ba3f",
   "metadata": {},
   "outputs": [
    {
     "name": "stdout",
     "output_type": "stream",
     "text": [
      "100\n"
     ]
    }
   ],
   "source": [
    "# Higher order functions \n",
    "\n",
    "def apply(x,function):\n",
    "    result = function(x)\n",
    "    return result\n",
    "\n",
    "def square(n):\n",
    "    return n * n\n",
    "\n",
    "print(apply(10,square))"
   ]
  },
  {
   "cell_type": "code",
   "execution_count": 5,
   "id": "3c4b2370",
   "metadata": {},
   "outputs": [
    {
     "name": "stdout",
     "output_type": "stream",
     "text": [
      "f1(3) = False\n",
      "f2(3) = True\n",
      "f3(3) = False\n"
     ]
    }
   ],
   "source": [
    "# Functions which return function as return value\n",
    "\n",
    "def make_checker(s):\n",
    "    if s =='even':\n",
    "        return lambda n : n % 2 == 0\n",
    "    elif s == 'positive':\n",
    "        return lambda n : n >= 0\n",
    "    elif s == 'negative':\n",
    "        return lambda n : n <= 0\n",
    "    \n",
    "f1 = make_checker('even')\n",
    "\n",
    "f2 = make_checker('positive')\n",
    "\n",
    "f3 = make_checker('negative')\n",
    "\n",
    "print('f1(3) =',f1(3))\n",
    "\n",
    "print('f2(3) =',f2(3))\n",
    "\n",
    "print('f3(3) =',f3(3)) "
   ]
  },
  {
   "cell_type": "code",
   "execution_count": 7,
   "id": "f2571def",
   "metadata": {},
   "outputs": [
    {
     "name": "stdout",
     "output_type": "stream",
     "text": [
      "data : [1, 2, 3, 4, 5, 6, 7, 8, 9, 10]\n",
      "The filtered data is : [2, 4, 6, 8, 10]\n"
     ]
    }
   ],
   "source": [
    "# Filter Function\n",
    "\n",
    "data = [1,2,3,4,5,6,7,8,9,10]\n",
    "\n",
    "print('data :',data)\n",
    "\n",
    "def is_even(i):\n",
    "    return i % 2 == 0\n",
    "\n",
    "# Filter for even numbers\n",
    "\n",
    "even_data = list(filter(is_even, data))\n",
    "\n",
    "print('The filtered data is :',even_data)"
   ]
  },
  {
   "cell_type": "code",
   "execution_count": 4,
   "id": "1d50d65d",
   "metadata": {},
   "outputs": [
    {
     "name": "stdout",
     "output_type": "stream",
     "text": [
      "Data : [1, 2, 3, 4, 5, 6, 7, 8, 9, 10]\n",
      "The result of the map opeartion : [2, 3, 4, 5, 6, 7, 8, 9, 10, 11]\n"
     ]
    }
   ],
   "source": [
    "# Map Function\n",
    "\n",
    "data = [1,2,3,4,5,6,7,8,9,10]\n",
    "\n",
    "print('Data :',data)\n",
    "\n",
    "# Apply the lambda function to each element in the list using map fucntion\n",
    "\n",
    "d1 = list(map(lambda i : i + 1, data))\n",
    "\n",
    "print('The result of the map opeartion :',d1)"
   ]
  },
  {
   "cell_type": "code",
   "execution_count": 6,
   "id": "00ed3a62",
   "metadata": {},
   "outputs": [
    {
     "name": "stdout",
     "output_type": "stream",
     "text": [
      "The result of map opeartion is : [3, 6, 11, 15]\n"
     ]
    }
   ],
   "source": [
    "data1 = [1,2,5,7]\n",
    "\n",
    "data2 = [2,4,6,8]\n",
    "\n",
    "result = list(map(lambda x,y : x + y, data1,data2))\n",
    "\n",
    "print('The result of map opeartion is :',result)"
   ]
  },
  {
   "cell_type": "code",
   "execution_count": 8,
   "id": "0edab504",
   "metadata": {},
   "outputs": [
    {
     "name": "stdout",
     "output_type": "stream",
     "text": [
      "date : [1, 2, 3, 4, 5, 6, 7, 8, 9, 10]\n",
      "Result is : [1, 4, 9, 16, 25, 36, 49, 64, 81, 100]\n"
     ]
    }
   ],
   "source": [
    "data = [1,2,3,4,5,6,7,8,9,10]\n",
    "\n",
    "print('date :',data)\n",
    "\n",
    "def square(n):\n",
    "    return n * n\n",
    "\n",
    "result = list(map(square,data))\n",
    "\n",
    "print('Result is :',result)\n"
   ]
  },
  {
   "cell_type": "code",
   "execution_count": 11,
   "id": "c3e0edf1",
   "metadata": {},
   "outputs": [
    {
     "name": "stdout",
     "output_type": "stream",
     "text": [
      "The result of applying the reduce operation is : 15\n",
      "The result of multiplication operation is : 120\n"
     ]
    }
   ],
   "source": [
    "# Reduce  Function\n",
    "\n",
    "from functools import reduce\n",
    "\n",
    "data = [1,2,3,4,5]\n",
    "\n",
    "result = reduce(lambda total, value : total + value, data)\n",
    "\n",
    "print('The result of applying the reduce operation is :',result)\n",
    "\n",
    "result2 = reduce(lambda total, value: total * value, data)\n",
    "\n",
    "print('The result of multiplication operation is :',result2)"
   ]
  },
  {
   "cell_type": "code",
   "execution_count": null,
   "id": "5e45056a",
   "metadata": {},
   "outputs": [],
   "source": []
  },
  {
   "cell_type": "code",
   "execution_count": null,
   "id": "7b0e4745",
   "metadata": {},
   "outputs": [],
   "source": []
  },
  {
   "cell_type": "code",
   "execution_count": null,
   "id": "f04d0d3d",
   "metadata": {},
   "outputs": [],
   "source": []
  },
  {
   "cell_type": "code",
   "execution_count": null,
   "id": "3123f6aa",
   "metadata": {},
   "outputs": [],
   "source": []
  },
  {
   "cell_type": "code",
   "execution_count": null,
   "id": "712a635d",
   "metadata": {},
   "outputs": [],
   "source": []
  },
  {
   "cell_type": "code",
   "execution_count": null,
   "id": "63705e57",
   "metadata": {},
   "outputs": [],
   "source": []
  },
  {
   "cell_type": "code",
   "execution_count": null,
   "id": "adf94f4a",
   "metadata": {},
   "outputs": [],
   "source": []
  },
  {
   "cell_type": "code",
   "execution_count": null,
   "id": "64013eae",
   "metadata": {},
   "outputs": [],
   "source": []
  },
  {
   "cell_type": "code",
   "execution_count": null,
   "id": "eebb77cb",
   "metadata": {},
   "outputs": [],
   "source": []
  },
  {
   "cell_type": "code",
   "execution_count": null,
   "id": "e354375e",
   "metadata": {},
   "outputs": [],
   "source": []
  },
  {
   "cell_type": "code",
   "execution_count": null,
   "id": "d4b72f16",
   "metadata": {},
   "outputs": [],
   "source": []
  },
  {
   "cell_type": "code",
   "execution_count": null,
   "id": "8fb1a99e",
   "metadata": {},
   "outputs": [],
   "source": []
  },
  {
   "cell_type": "code",
   "execution_count": null,
   "id": "9ca0bf76",
   "metadata": {},
   "outputs": [],
   "source": []
  }
 ],
 "metadata": {
  "kernelspec": {
   "display_name": "Python 3 (ipykernel)",
   "language": "python",
   "name": "python3"
  },
  "language_info": {
   "codemirror_mode": {
    "name": "ipython",
    "version": 3
   },
   "file_extension": ".py",
   "mimetype": "text/x-python",
   "name": "python",
   "nbconvert_exporter": "python",
   "pygments_lexer": "ipython3",
   "version": "3.11.5"
  }
 },
 "nbformat": 4,
 "nbformat_minor": 5
}
