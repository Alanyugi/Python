{
 "cells": [
  {
   "cell_type": "markdown",
   "id": "1e97c3cf",
   "metadata": {},
   "source": [
    "# Part 4"
   ]
  },
  {
   "cell_type": "markdown",
   "id": "6f6cab43",
   "metadata": {},
   "source": [
    "# Numpy"
   ]
  },
  {
   "cell_type": "code",
   "execution_count": 1,
   "id": "89a5604f",
   "metadata": {},
   "outputs": [],
   "source": [
    "import numpy as np"
   ]
  },
  {
   "cell_type": "code",
   "execution_count": 4,
   "id": "833705e6",
   "metadata": {},
   "outputs": [],
   "source": [
    "# creating one dimentinal array\n",
    "\n",
    "a1 = np.array([1,2,3,4,5])\n",
    "\n",
    "# create 2 dimentional array\n",
    "\n",
    "a2 = np.array([[1,2],[3,4],[5,6]])"
   ]
  },
  {
   "cell_type": "code",
   "execution_count": 5,
   "id": "d29958ac",
   "metadata": {},
   "outputs": [
    {
     "name": "stdout",
     "output_type": "stream",
     "text": [
      "a1 : \n",
      "[1 2 3 4 5]\n",
      "a2 : \n",
      "[[1 2]\n",
      " [3 4]\n",
      " [5 6]]\n"
     ]
    }
   ],
   "source": [
    "print('a1 : ')\n",
    "print(a1)\n",
    "\n",
    "print('a2 : ')\n",
    "print(a2)"
   ]
  },
  {
   "cell_type": "code",
   "execution_count": 8,
   "id": "87f5b73b",
   "metadata": {},
   "outputs": [
    {
     "name": "stdout",
     "output_type": "stream",
     "text": [
      "Data Type of a1 :  int32\n",
      "Data Type of a2:  int32\n"
     ]
    }
   ],
   "source": [
    "print('Data Type of a1 : ',a1.dtype)\n",
    "\n",
    "print('Data Type of a2: ',a2.dtype)\n"
   ]
  },
  {
   "cell_type": "code",
   "execution_count": 9,
   "id": "f11f3d56",
   "metadata": {},
   "outputs": [
    {
     "name": "stdout",
     "output_type": "stream",
     "text": [
      "The shape of a1 :  (5,)\n",
      "The shape of a2 :  (3, 2)\n"
     ]
    }
   ],
   "source": [
    "print('The shape of a1 : ',a1.shape)\n",
    "\n",
    "print('The shape of a2 : ',a2.shape)\n"
   ]
  },
  {
   "cell_type": "code",
   "execution_count": 5,
   "id": "ee76ce0c",
   "metadata": {},
   "outputs": [
    {
     "name": "stdout",
     "output_type": "stream",
     "text": [
      "[[1 2 3]\n",
      " [4 5 6]]\n",
      "(2, 3)\n"
     ]
    }
   ],
   "source": [
    "a4 = a2.reshape(2,3)\n",
    "\n",
    "print(a4)\n",
    "\n",
    "print(a4.shape)"
   ]
  },
  {
   "cell_type": "code",
   "execution_count": 13,
   "id": "d12b80c8",
   "metadata": {},
   "outputs": [],
   "source": [
    "str_arr = np.array(['Sunday', 'Monday','Tuesday'])"
   ]
  },
  {
   "cell_type": "code",
   "execution_count": 14,
   "id": "d428a239",
   "metadata": {},
   "outputs": [
    {
     "name": "stdout",
     "output_type": "stream",
     "text": [
      "['Sunday' 'Monday' 'Tuesday']\n",
      "<U7\n"
     ]
    }
   ],
   "source": [
    "print(str_arr)\n",
    "\n",
    "print(str_arr.dtype)"
   ]
  },
  {
   "cell_type": "code",
   "execution_count": 16,
   "id": "0d9094f4",
   "metadata": {},
   "outputs": [
    {
     "name": "stdout",
     "output_type": "stream",
     "text": [
      "[[-1299329568         529]\n",
      " [          0           0]\n",
      " [          1         121]]\n"
     ]
    }
   ],
   "source": [
    "x = np.empty([3,2],dtype = int) # Random Values\n",
    "\n",
    "print(x)"
   ]
  },
  {
   "cell_type": "code",
   "execution_count": 17,
   "id": "59e843d3",
   "metadata": {},
   "outputs": [],
   "source": [
    "x[2][0] = 510 # [2]- 3rd row, [0]- Zero'th Column"
   ]
  },
  {
   "cell_type": "code",
   "execution_count": 18,
   "id": "d20b3475",
   "metadata": {},
   "outputs": [
    {
     "name": "stdout",
     "output_type": "stream",
     "text": [
      "[[-1299329568         529]\n",
      " [          0           0]\n",
      " [        510         121]]\n"
     ]
    }
   ],
   "source": [
    "print(x)"
   ]
  },
  {
   "cell_type": "code",
   "execution_count": 20,
   "id": "2dafbda7",
   "metadata": {},
   "outputs": [
    {
     "name": "stdout",
     "output_type": "stream",
     "text": [
      "[[-1299329568         529]\n",
      " [          0           0]\n",
      " [        510         900]]\n"
     ]
    }
   ],
   "source": [
    "x[2][1] = 900\n",
    "\n",
    "print(x)"
   ]
  },
  {
   "cell_type": "code",
   "execution_count": 21,
   "id": "653964ad",
   "metadata": {},
   "outputs": [
    {
     "name": "stdout",
     "output_type": "stream",
     "text": [
      "[[0. 0. 0.]\n",
      " [0. 0. 0.]\n",
      " [0. 0. 0.]\n",
      " [0. 0. 0.]\n",
      " [0. 0. 0.]]\n"
     ]
    }
   ],
   "source": [
    "y = np.zeros([5,3],dtype =float)\n",
    "\n",
    "print(y)"
   ]
  },
  {
   "cell_type": "code",
   "execution_count": 23,
   "id": "c4848658",
   "metadata": {},
   "outputs": [
    {
     "name": "stdout",
     "output_type": "stream",
     "text": [
      "[1 1 1 1 1]\n"
     ]
    }
   ],
   "source": [
    "z = np.ones(5,dtype = int)\n",
    "\n",
    "print(z)"
   ]
  },
  {
   "cell_type": "code",
   "execution_count": 24,
   "id": "bca1a671",
   "metadata": {},
   "outputs": [
    {
     "name": "stdout",
     "output_type": "stream",
     "text": [
      "[1, 2, 3]\n"
     ]
    }
   ],
   "source": [
    "x = [1,2,3] # a python list\n",
    "\n",
    "print(x)"
   ]
  },
  {
   "cell_type": "code",
   "execution_count": 26,
   "id": "89800444",
   "metadata": {},
   "outputs": [
    {
     "name": "stdout",
     "output_type": "stream",
     "text": [
      "<class 'list'>\n"
     ]
    }
   ],
   "source": [
    "print(type(x))"
   ]
  },
  {
   "cell_type": "code",
   "execution_count": 28,
   "id": "47e1ebde",
   "metadata": {},
   "outputs": [
    {
     "name": "stdout",
     "output_type": "stream",
     "text": [
      "[1. 2. 3.]\n",
      "float64\n",
      "<class 'numpy.ndarray'>\n"
     ]
    }
   ],
   "source": [
    "a = np.asarray(x,dtype = float)\n",
    "\n",
    "print(a)\n",
    "\n",
    "print(a.dtype)\n",
    "\n",
    "print(type(a))"
   ]
  },
  {
   "cell_type": "code",
   "execution_count": 29,
   "id": "83928ca1",
   "metadata": {},
   "outputs": [
    {
     "name": "stdout",
     "output_type": "stream",
     "text": [
      "range(0, 5)\n"
     ]
    }
   ],
   "source": [
    "list1 = range(5)\n",
    "\n",
    "print(list1)\n"
   ]
  },
  {
   "cell_type": "code",
   "execution_count": 30,
   "id": "ff4092d9",
   "metadata": {},
   "outputs": [
    {
     "name": "stdout",
     "output_type": "stream",
     "text": [
      "0\n",
      "1\n",
      "2\n",
      "3\n",
      "4\n"
     ]
    }
   ],
   "source": [
    "for i in list1:\n",
    "    print(i)"
   ]
  },
  {
   "cell_type": "code",
   "execution_count": 31,
   "id": "45c49036",
   "metadata": {},
   "outputs": [
    {
     "name": "stdout",
     "output_type": "stream",
     "text": [
      "[0. 1. 2. 3. 4.]\n"
     ]
    }
   ],
   "source": [
    "x1 = np.fromiter(list1,dtype = float)\n",
    "\n",
    "print(x1)"
   ]
  },
  {
   "cell_type": "code",
   "execution_count": 32,
   "id": "ac1acfb6",
   "metadata": {},
   "outputs": [
    {
     "name": "stdout",
     "output_type": "stream",
     "text": [
      "<class 'numpy.ndarray'>\n"
     ]
    }
   ],
   "source": [
    "print(type(x1))"
   ]
  },
  {
   "cell_type": "code",
   "execution_count": 6,
   "id": "b20dd10b",
   "metadata": {},
   "outputs": [],
   "source": [
    "# Create arrays from numerical ranges\n",
    "\n",
    "x = np.arange(0,10,2,float)"
   ]
  },
  {
   "cell_type": "code",
   "execution_count": 7,
   "id": "3f259b1a",
   "metadata": {},
   "outputs": [
    {
     "name": "stdout",
     "output_type": "stream",
     "text": [
      "[0. 2. 4. 6. 8.]\n"
     ]
    }
   ],
   "source": [
    "print(x)"
   ]
  },
  {
   "cell_type": "code",
   "execution_count": 8,
   "id": "e0b24544",
   "metadata": {},
   "outputs": [
    {
     "name": "stdout",
     "output_type": "stream",
     "text": [
      "[ 75  79  83  87  91  95  99 103 107 111 115 119 123 127 131 135 139 143\n",
      " 147 151 155 159 163 167 171 175 179 183 187 191 195 199 203 207 211]\n"
     ]
    }
   ],
   "source": [
    "y = np.arange(75,213,4,int)\n",
    "\n",
    "print(y)"
   ]
  },
  {
   "cell_type": "code",
   "execution_count": 9,
   "id": "16069751",
   "metadata": {},
   "outputs": [
    {
     "name": "stdout",
     "output_type": "stream",
     "text": [
      "[10.         10.71428571 11.42857143 12.14285714 12.85714286 13.57142857\n",
      " 14.28571429 15.         15.71428571 16.42857143 17.14285714 17.85714286\n",
      " 18.57142857 19.28571429 20.        ]\n"
     ]
    }
   ],
   "source": [
    "z = np.linspace(10,20,15) # Evenly spaced values\n",
    "\n",
    "print(z)"
   ]
  },
  {
   "cell_type": "code",
   "execution_count": 10,
   "id": "ece85816",
   "metadata": {},
   "outputs": [
    {
     "name": "stdout",
     "output_type": "stream",
     "text": [
      "[123.         208.22222222 293.44444444 378.66666667 463.88888889\n",
      " 549.11111111 634.33333333 719.55555556 804.77777778 890.        ]\n"
     ]
    }
   ],
   "source": [
    "z = np.linspace(123,890,10)\n",
    "\n",
    "print(z)"
   ]
  },
  {
   "cell_type": "code",
   "execution_count": 3,
   "id": "1633095d",
   "metadata": {},
   "outputs": [
    {
     "name": "stdout",
     "output_type": "stream",
     "text": [
      "[0 1 2 3 4 5 6 7 8 9]\n",
      "[2 4 6]\n",
      "[2 5]\n"
     ]
    }
   ],
   "source": [
    "# indexing and slicing opeartion\n",
    "\n",
    "a = np.arange(10)\n",
    "\n",
    "print(a)\n",
    "\n",
    "b = a[2:7:2] # 2 is a starting index 7 is a final index 2 is range\n",
    "\n",
    "print(b)\n",
    "\n",
    "b1 = a[2:7:3] # 2 is a starting index 7 is a final index 3 is range\n",
    "\n",
    "print(b1)\n"
   ]
  },
  {
   "cell_type": "code",
   "execution_count": 6,
   "id": "a5b3aa3e",
   "metadata": {},
   "outputs": [
    {
     "name": "stdout",
     "output_type": "stream",
     "text": [
      "a : [[1 2 3]\n",
      " [4 5 6]\n",
      " [7 8 9]]\n",
      "a[1:] : [[4 5 6]\n",
      " [7 8 9]]\n",
      "a[1][2] : 6\n",
      "a[1][2] : 1\n"
     ]
    }
   ],
   "source": [
    "a = np.array([[1,2,3],[4,5,6],[7,8,9]])\n",
    "\n",
    "print(\"a :\",a)\n",
    "\n",
    "print(\"a[1:] :\",a[1:])\n",
    "\n",
    "print(\"a[1][2] :\",a[1][2]) # 2nd Row 3rd Column\n",
    "\n",
    "print(\"a[0][0] :\",a[0][0]) # 1st Row and 1 Column\n"
   ]
  },
  {
   "cell_type": "code",
   "execution_count": 3,
   "id": "53fd768c",
   "metadata": {},
   "outputs": [
    {
     "name": "stdout",
     "output_type": "stream",
     "text": [
      "The Array arr10 : [101, 322, 390, 122]\n",
      "The Array arr11 : [101 322 390 122]\n"
     ]
    }
   ],
   "source": [
    "arr9 = np.array([[101,322,768],[233,124,390],[534,122,216]])\n",
    "\n",
    "arr10 = [arr9[0][0],arr9[0][1],arr9[1][2],arr9[2][1]]\n",
    "\n",
    "arr11 = arr9[[0, 0, 1, 2], [0, 1, 2, 1]] # chat gpt advanced indexing \n",
    "\n",
    "print(\"The Array arr10 :\",arr10)\n",
    "\n",
    "print(\"The Array arr11 :\",arr11) "
   ]
  },
  {
   "cell_type": "code",
   "execution_count": 17,
   "id": "547ca9f6",
   "metadata": {},
   "outputs": [
    {
     "name": "stdout",
     "output_type": "stream",
     "text": [
      "[7 8 9]\n"
     ]
    }
   ],
   "source": [
    "print(a[2])"
   ]
  },
  {
   "cell_type": "code",
   "execution_count": 19,
   "id": "65b4d7d0",
   "metadata": {},
   "outputs": [
    {
     "name": "stdout",
     "output_type": "stream",
     "text": [
      "[[1 2]\n",
      " [3 4]\n",
      " [5 6]]\n"
     ]
    }
   ],
   "source": [
    "# advanced integer indexing \n",
    "\n",
    "x = np.array([[1,2],[3,4],[5,6]])\n",
    "\n",
    "print(x)"
   ]
  },
  {
   "cell_type": "code",
   "execution_count": 20,
   "id": "78ab30bb",
   "metadata": {},
   "outputs": [
    {
     "name": "stdout",
     "output_type": "stream",
     "text": [
      "[1 4 5]\n"
     ]
    }
   ],
   "source": [
    "y = x[[0,1,2],[0,1,0]] # 1st row & 1st column, 2nd row & 2nd column, 3rd row & 1st column\n",
    "\n",
    "print(y)"
   ]
  },
  {
   "cell_type": "code",
   "execution_count": 7,
   "id": "938448ea",
   "metadata": {},
   "outputs": [
    {
     "name": "stdout",
     "output_type": "stream",
     "text": [
      "[[ 0  1  2]\n",
      " [ 3  4  5]\n",
      " [ 6  7  8]\n",
      " [ 9 10 11]]\n"
     ]
    }
   ],
   "source": [
    "x = np.array([[0,1,2],[3,4,5],[6,7,8],[9,10,11]])\n",
    "\n",
    "print(x)"
   ]
  },
  {
   "cell_type": "code",
   "execution_count": 22,
   "id": "8cce3533",
   "metadata": {},
   "outputs": [
    {
     "name": "stdout",
     "output_type": "stream",
     "text": [
      "[[3 4]\n",
      " [6 7]]\n"
     ]
    }
   ],
   "source": [
    "y = x[1:3,[0,1]] # 1st & 2nd Row, 1st & 2nd column\n",
    "\n",
    "print(y)"
   ]
  },
  {
   "cell_type": "code",
   "execution_count": 23,
   "id": "4a976dc7",
   "metadata": {},
   "outputs": [
    {
     "name": "stdout",
     "output_type": "stream",
     "text": [
      "[[ 0  1  2]\n",
      " [ 3  4  5]\n",
      " [ 6  7  8]\n",
      " [ 9 10 11]]\n"
     ]
    }
   ],
   "source": [
    "# Boolean Indexing\n",
    "\n",
    "print(x)"
   ]
  },
  {
   "cell_type": "code",
   "execution_count": 24,
   "id": "ee1f9a09",
   "metadata": {},
   "outputs": [
    {
     "name": "stdout",
     "output_type": "stream",
     "text": [
      " The items greater than x\n",
      "[ 6  7  8  9 10 11]\n"
     ]
    }
   ],
   "source": [
    "print(\" The items greater than x\")\n",
    "\n",
    "print(x[x>5])"
   ]
  },
  {
   "cell_type": "code",
   "execution_count": 8,
   "id": "fe202d05",
   "metadata": {},
   "outputs": [
    {
     "name": "stdout",
     "output_type": "stream",
     "text": [
      "[ 0  1  2  3  4  5  6  7  8  9 10 11]\n"
     ]
    }
   ],
   "source": [
    "print(x[~np.isnan(x)])"
   ]
  },
  {
   "cell_type": "code",
   "execution_count": 28,
   "id": "27f653e8",
   "metadata": {},
   "outputs": [
    {
     "name": "stdout",
     "output_type": "stream",
     "text": [
      "[]\n"
     ]
    }
   ],
   "source": [
    "print(x[x.dtype !='int'])"
   ]
  },
  {
   "cell_type": "code",
   "execution_count": 32,
   "id": "91de3140",
   "metadata": {},
   "outputs": [
    {
     "name": "stdout",
     "output_type": "stream",
     "text": [
      "[[0. 0. 0.]\n",
      " [1. 1. 1.]\n",
      " [2. 2. 2.]\n",
      " [3. 3. 3.]]\n",
      "[10. 20. 30.]\n"
     ]
    }
   ],
   "source": [
    "# Broadcasting\n",
    "\n",
    "a = np.array([[0.0,0.0,0.0],[1.0,1.0,1.0],[2.0,2.0,2.0],[3.0,3.0,3.0]])\n",
    "\n",
    "print(a)\n",
    "\n",
    "b = np.array([10.0,20.0,30.0])\n",
    "\n",
    "print(b)"
   ]
  },
  {
   "cell_type": "code",
   "execution_count": 33,
   "id": "4b8c9d37",
   "metadata": {},
   "outputs": [
    {
     "name": "stdout",
     "output_type": "stream",
     "text": [
      "First_Array + Second_Array\n",
      "[[10. 20. 30.]\n",
      " [11. 21. 31.]\n",
      " [12. 22. 32.]\n",
      " [13. 23. 33.]]\n"
     ]
    }
   ],
   "source": [
    "print(\"First_Array + Second_Array\")\n",
    "\n",
    "print(a + b)"
   ]
  },
  {
   "cell_type": "code",
   "execution_count": 34,
   "id": "c53fcce2",
   "metadata": {},
   "outputs": [
    {
     "name": "stdout",
     "output_type": "stream",
     "text": [
      "[[ 0  1  2]\n",
      " [ 3  4  5]\n",
      " [ 6  7  8]\n",
      " [ 9 10 11]]\n"
     ]
    }
   ],
   "source": [
    "# Different Array Operations\n",
    "\n",
    "print(x)"
   ]
  },
  {
   "cell_type": "code",
   "execution_count": 35,
   "id": "fb058bb7",
   "metadata": {},
   "outputs": [
    {
     "name": "stdout",
     "output_type": "stream",
     "text": [
      "Transpose of x :\n",
      "[[ 0  3  6  9]\n",
      " [ 1  4  7 10]\n",
      " [ 2  5  8 11]]\n"
     ]
    }
   ],
   "source": [
    "print('Transpose of x :')\n",
    "\n",
    "print(x.T)"
   ]
  },
  {
   "cell_type": "code",
   "execution_count": 11,
   "id": "18552dc3",
   "metadata": {},
   "outputs": [
    {
     "name": "stdout",
     "output_type": "stream",
     "text": [
      "[[1 2]\n",
      " [3 4]]\n",
      "[[5 6]\n",
      " [7 8]]\n",
      "[1 2 3]\n"
     ]
    }
   ],
   "source": [
    "a = np.array([[1,2],[3,4]])\n",
    "\n",
    "b = np.array([[5,6],[7,8]])\n",
    "\n",
    "print(a)\n",
    "\n",
    "print(b)\n"
   ]
  },
  {
   "cell_type": "code",
   "execution_count": 42,
   "id": "97067d07",
   "metadata": {},
   "outputs": [
    {
     "name": "stdout",
     "output_type": "stream",
     "text": [
      "Joining the two arrays a and b along the axis 0\n",
      "[[1 2]\n",
      " [3 4]\n",
      " [5 6]\n",
      " [7 8]]\n"
     ]
    }
   ],
   "source": [
    "print(\"Joining the two arrays a and b along the axis 0\")\n",
    "\n",
    "print(np.concatenate((a,b), axis = 0)) # Row wise concatination"
   ]
  },
  {
   "cell_type": "code",
   "execution_count": 41,
   "id": "eced7179",
   "metadata": {},
   "outputs": [
    {
     "name": "stdout",
     "output_type": "stream",
     "text": [
      "[[1 2 5 6]\n",
      " [3 4 7 8]]\n"
     ]
    }
   ],
   "source": [
    "print(np.concatenate((a,b),axis = 1)) # Column wise concatination "
   ]
  },
  {
   "cell_type": "code",
   "execution_count": 43,
   "id": "a30eb612",
   "metadata": {},
   "outputs": [
    {
     "name": "stdout",
     "output_type": "stream",
     "text": [
      "0\n",
      "1\n",
      "2\n",
      "3\n",
      "4\n",
      "5\n",
      "6\n",
      "7\n",
      "8\n",
      "9\n",
      "10\n",
      "11\n"
     ]
    }
   ],
   "source": [
    " for i in np.nditer(x):\n",
    "        print(i)"
   ]
  },
  {
   "cell_type": "code",
   "execution_count": 1,
   "id": "1ed18166",
   "metadata": {},
   "outputs": [],
   "source": [
    "# working with opencv\n",
    "\n",
    "import cv2\n",
    "\n",
    "# reading the image from a file into an array or matrix\n",
    "\n",
    "im_g = cv2.imread('hello.png',0)"
   ]
  },
  {
   "cell_type": "code",
   "execution_count": 2,
   "id": "af7757d3",
   "metadata": {},
   "outputs": [
    {
     "name": "stdout",
     "output_type": "stream",
     "text": [
      "[[224 224 224 ... 235 237 237]\n",
      " [224 224 224 ... 235 237 237]\n",
      " [225 225 225 ... 235 237 237]\n",
      " ...\n",
      " [241 241 241 ... 212 212 211]\n",
      " [241 241 241 ... 212 212 212]\n",
      " [241 241 241 ... 212 212 212]]\n"
     ]
    }
   ],
   "source": [
    "print(im_g)"
   ]
  },
  {
   "cell_type": "code",
   "execution_count": 5,
   "id": "3f6e24f9",
   "metadata": {},
   "outputs": [],
   "source": [
    "# stacking numpy arrays\n",
    "# Horizondal\n",
    "\n",
    "im_h = np.hstack((im_g,im_g))\n"
   ]
  },
  {
   "cell_type": "code",
   "execution_count": 18,
   "id": "69b16d2d",
   "metadata": {},
   "outputs": [
    {
     "name": "stdout",
     "output_type": "stream",
     "text": [
      "[[224 224 224 ... 235 237 237]\n",
      " [224 224 224 ... 235 237 237]\n",
      " [225 225 225 ... 235 237 237]\n",
      " ...\n",
      " [241 241 241 ... 212 212 211]\n",
      " [241 241 241 ... 212 212 212]\n",
      " [241 241 241 ... 212 212 212]]\n"
     ]
    },
    {
     "data": {
      "text/plain": [
       "True"
      ]
     },
     "execution_count": 18,
     "metadata": {},
     "output_type": "execute_result"
    }
   ],
   "source": [
    "print(im_h)\n",
    "\n",
    "cv2.imwrite('hstack.png',im_h)"
   ]
  },
  {
   "cell_type": "code",
   "execution_count": 9,
   "id": "982f405b",
   "metadata": {},
   "outputs": [],
   "source": [
    "#Vertical\n",
    "\n",
    "im_v = np.vstack((im_g,im_g))"
   ]
  },
  {
   "cell_type": "code",
   "execution_count": 10,
   "id": "1acb1442",
   "metadata": {},
   "outputs": [
    {
     "name": "stdout",
     "output_type": "stream",
     "text": [
      "[[224 224 224 ... 235 237 237]\n",
      " [224 224 224 ... 235 237 237]\n",
      " [225 225 225 ... 235 237 237]\n",
      " ...\n",
      " [241 241 241 ... 212 212 211]\n",
      " [241 241 241 ... 212 212 212]\n",
      " [241 241 241 ... 212 212 212]]\n"
     ]
    },
    {
     "data": {
      "text/plain": [
       "True"
      ]
     },
     "execution_count": 10,
     "metadata": {},
     "output_type": "execute_result"
    }
   ],
   "source": [
    "print(im_v)\n",
    "\n",
    "cv2.imwrite('vstack.png',im_v)"
   ]
  },
  {
   "cell_type": "code",
   "execution_count": 14,
   "id": "0ef4d8c4",
   "metadata": {},
   "outputs": [],
   "source": [
    "# splitting Numpy Arrays\n",
    "\n",
    "im_sp_h = np.hsplit(im_h,2)"
   ]
  },
  {
   "cell_type": "code",
   "execution_count": 12,
   "id": "ce451f9a",
   "metadata": {},
   "outputs": [
    {
     "name": "stdout",
     "output_type": "stream",
     "text": [
      "[array([[224, 224, 224, ..., 235, 237, 237],\n",
      "       [224, 224, 224, ..., 235, 237, 237],\n",
      "       [225, 225, 225, ..., 235, 237, 237],\n",
      "       ...,\n",
      "       [241, 241, 241, ..., 212, 212, 211],\n",
      "       [241, 241, 241, ..., 212, 212, 212],\n",
      "       [241, 241, 241, ..., 212, 212, 212]], dtype=uint8), array([[224, 224, 224, ..., 235, 237, 237],\n",
      "       [224, 224, 224, ..., 235, 237, 237],\n",
      "       [225, 225, 225, ..., 235, 237, 237],\n",
      "       ...,\n",
      "       [241, 241, 241, ..., 212, 212, 211],\n",
      "       [241, 241, 241, ..., 212, 212, 212],\n",
      "       [241, 241, 241, ..., 212, 212, 212]], dtype=uint8)]\n"
     ]
    }
   ],
   "source": [
    "print(im_sp_h)"
   ]
  },
  {
   "cell_type": "code",
   "execution_count": 15,
   "id": "4167c8c5",
   "metadata": {},
   "outputs": [],
   "source": [
    "# vertical split \n",
    "\n",
    "im_sp_v = np.vsplit(im_v,2)"
   ]
  },
  {
   "cell_type": "code",
   "execution_count": 16,
   "id": "d7b6b466",
   "metadata": {},
   "outputs": [
    {
     "name": "stdout",
     "output_type": "stream",
     "text": [
      "[array([[224, 224, 224, ..., 235, 237, 237],\n",
      "       [224, 224, 224, ..., 235, 237, 237],\n",
      "       [225, 225, 225, ..., 235, 237, 237],\n",
      "       ...,\n",
      "       [241, 241, 241, ..., 212, 212, 211],\n",
      "       [241, 241, 241, ..., 212, 212, 212],\n",
      "       [241, 241, 241, ..., 212, 212, 212]], dtype=uint8), array([[224, 224, 224, ..., 235, 237, 237],\n",
      "       [224, 224, 224, ..., 235, 237, 237],\n",
      "       [225, 225, 225, ..., 235, 237, 237],\n",
      "       ...,\n",
      "       [241, 241, 241, ..., 212, 212, 211],\n",
      "       [241, 241, 241, ..., 212, 212, 212],\n",
      "       [241, 241, 241, ..., 212, 212, 212]], dtype=uint8)]\n"
     ]
    }
   ],
   "source": [
    "print(im_sp_v)"
   ]
  },
  {
   "cell_type": "code",
   "execution_count": 17,
   "id": "011d96b8",
   "metadata": {},
   "outputs": [
    {
     "name": "stdout",
     "output_type": "stream",
     "text": [
      "[[224 224 224 ... 235 237 237]\n",
      " [224 224 224 ... 235 237 237]\n",
      " [225 225 225 ... 235 237 237]\n",
      " ...\n",
      " [241 241 241 ... 212 212 211]\n",
      " [241 241 241 ... 212 212 212]\n",
      " [241 241 241 ... 212 212 212]]\n"
     ]
    }
   ],
   "source": [
    "# smoothing an image\n",
    "\n",
    "print(im_g)"
   ]
  },
  {
   "cell_type": "code",
   "execution_count": 23,
   "id": "934a1e8d",
   "metadata": {},
   "outputs": [
    {
     "name": "stdout",
     "output_type": "stream",
     "text": [
      "[[225 225 225 ... 236 236 236]\n",
      " [225 225 225 ... 236 236 236]\n",
      " [225 225 225 ... 236 236 236]\n",
      " ...\n",
      " [241 241 241 ... 213 213 213]\n",
      " [241 241 241 ... 213 213 213]\n",
      " [241 241 241 ... 213 213 213]]\n"
     ]
    }
   ],
   "source": [
    "img_blur = cv2.blur(im_g,(100,150))\n",
    "\n",
    "print(img_blur)"
   ]
  },
  {
   "cell_type": "code",
   "execution_count": 24,
   "id": "2eac5c3a",
   "metadata": {},
   "outputs": [
    {
     "data": {
      "text/plain": [
       "True"
      ]
     },
     "execution_count": 24,
     "metadata": {},
     "output_type": "execute_result"
    }
   ],
   "source": [
    "cv2.imwrite('Blurred.png',img_blur)"
   ]
  },
  {
   "cell_type": "code",
   "execution_count": 35,
   "id": "9edfee86",
   "metadata": {},
   "outputs": [
    {
     "name": "stdout",
     "output_type": "stream",
     "text": [
      "[[[228 236 195 255]\n",
      "  [228 236 195 255]\n",
      "  [228 236 195 255]\n",
      "  ...\n",
      "  [248 236 230 255]\n",
      "  [248 238 231 255]\n",
      "  [248 238 231 255]]\n",
      "\n",
      " [[228 236 195 255]\n",
      "  [228 236 195 255]\n",
      "  [228 236 195 255]\n",
      "  ...\n",
      "  [248 236 230 255]\n",
      "  [248 238 231 255]\n",
      "  [248 238 231 255]]\n",
      "\n",
      " [[229 237 196 255]\n",
      "  [229 237 196 255]\n",
      "  [229 237 196 255]\n",
      "  ...\n",
      "  [248 236 230 255]\n",
      "  [248 238 231 255]\n",
      "  [248 238 231 255]]\n",
      "\n",
      " ...\n",
      "\n",
      " [[255 245 227 255]\n",
      "  [255 245 227 255]\n",
      "  [255 245 227 255]\n",
      "  ...\n",
      "  [246 210 202 255]\n",
      "  [243 210 201 255]\n",
      "  [241 210 201 255]]\n",
      "\n",
      " [[255 245 227 255]\n",
      "  [255 245 227 255]\n",
      "  [255 245 227 255]\n",
      "  ...\n",
      "  [246 210 202 255]\n",
      "  [243 210 201 255]\n",
      "  [243 210 201 255]]\n",
      "\n",
      " [[255 245 227 255]\n",
      "  [255 245 227 255]\n",
      "  [255 245 227 255]\n",
      "  ...\n",
      "  [245 209 201 255]\n",
      "  [243 210 201 255]\n",
      "  [243 210 201 255]]]\n"
     ]
    },
    {
     "data": {
      "text/plain": [
       "True"
      ]
     },
     "execution_count": 35,
     "metadata": {},
     "output_type": "execute_result"
    }
   ],
   "source": [
    "# Read an Image from a file and superimpose some text over back that image\n",
    "\n",
    "im_hello = cv2.imread('hello.png',cv2.IMREAD_UNCHANGED)\n",
    "\n",
    "print(im_hello)\n",
    "\n",
    "position = (1750,2250)\n",
    "\n",
    "cv2.putText(im_hello, \n",
    "            \"Welcome to Python\",\n",
    "            position,\n",
    "            cv2.FONT_HERSHEY_SIMPLEX,\n",
    "            10,\n",
    "            (0,255,0),\n",
    "            50) \n",
    "# Image into which the text is to be written,\n",
    "# Text to be written\n",
    "# Position at which the text has to be written\n",
    "# Font Family\n",
    "# Font Size\n",
    "# Font Color\n",
    "# Font Stroke \n",
    "\n",
    "cv2.imwrite('output.png',im_hello)"
   ]
  },
  {
   "cell_type": "code",
   "execution_count": 36,
   "id": "1d418157",
   "metadata": {},
   "outputs": [
    {
     "data": {
      "text/plain": [
       "True"
      ]
     },
     "execution_count": 36,
     "metadata": {},
     "output_type": "execute_result"
    }
   ],
   "source": [
    "blur = cv2.blur(im_hello,(75,100))\n",
    "\n",
    "cv2.imwrite('Blur.png',blur)"
   ]
  },
  {
   "cell_type": "code",
   "execution_count": 37,
   "id": "95375628",
   "metadata": {},
   "outputs": [],
   "source": [
    "# Read am image and display it using matplotlib\n",
    "\n",
    "import matplotlib.pyplot as plt\n",
    "\n",
    "%matplotlib inline"
   ]
  },
  {
   "cell_type": "code",
   "execution_count": 40,
   "id": "bea2e685",
   "metadata": {},
   "outputs": [
    {
     "data": {
      "text/plain": [
       "True"
      ]
     },
     "execution_count": 40,
     "metadata": {},
     "output_type": "execute_result"
    },
    {
     "data": {
      "image/png": "[encoded data removed]",
      "text/plain": [
       "<Figure size 640x480 with 1 Axes>"
      ]
     },
     "metadata": {},
     "output_type": "display_data"
    }
   ],
   "source": [
    "img1 = cv2.imread('hello.png ')\n",
    "\n",
    "img2 = cv2.cvtColor(img1,cv2.COLOR_BGR2RGB)\n",
    "\n",
    "plt.imshow(img1)\n",
    "\n",
    "cv2.imwrite('test_write.png',img1)"
   ]
  },
  {
   "cell_type": "code",
   "execution_count": 42,
   "id": "550eebd2",
   "metadata": {},
   "outputs": [
    {
     "data": {
      "text/plain": [
       "True"
      ]
     },
     "execution_count": 42,
     "metadata": {},
     "output_type": "execute_result"
    },
    {
     "data": {
      "image/png": "[encoded data removed]",
      "text/plain": [
       "<Figure size 640x480 with 1 Axes>"
      ]
     },
     "metadata": {},
     "output_type": "display_data"
    }
   ],
   "source": [
    "# Read an image and convert it into greyscale HSV formats\n",
    "\n",
    "img2 = cv2.imread('hello.png')\n",
    "\n",
    "gray_scale = cv2.cvtColor(img2,cv2.COLOR_BGR2GRAY)\n",
    "\n",
    "plt.imshow(gray_scale)\n",
    "\n",
    "cv2.imwrite('sample_hello.png',gray_scale)\n",
    "\n",
    "hsv_img = cv2.cvtColor(img2,cv2.COLOR_BGR2HSV)\n",
    "\n",
    "plt.imshow(hsv_img)\n",
    "\n",
    "cv2.imwrite('sample_hsv.png',hsv_img)"
   ]
  },
  {
   "cell_type": "code",
   "execution_count": 47,
   "id": "2fee1c1d",
   "metadata": {},
   "outputs": [
    {
     "data": {
      "text/plain": [
       "True"
      ]
     },
     "execution_count": 47,
     "metadata": {},
     "output_type": "execute_result"
    },
    {
     "data": {
      "image/png": "[encoded data removed]",
      "text/plain": [
       "<Figure size 640x480 with 1 Axes>"
      ]
     },
     "metadata": {},
     "output_type": "display_data"
    }
   ],
   "source": [
    "# Resizing images\n",
    "\n",
    "img3 = cv2.imread('hello.png')\n",
    "\n",
    "smaller_image = cv2.resize(img3,(200,70),interpolation=3)\n",
    "\n",
    "plt.imshow(smaller_image)\n",
    "\n",
    "cv2.imwrite('hello_small.png',smaller_image)"
   ]
  },
  {
   "cell_type": "markdown",
   "id": "aec699d8",
   "metadata": {},
   "source": [
    "# Week 11\n",
    "\n",
    "\n",
    "## Tkinter GUI Applications"
   ]
  },
  {
   "cell_type": "code",
   "execution_count": null,
   "id": "11de91a7",
   "metadata": {},
   "outputs": [],
   "source": [
    "# Adding button widget\n",
    "\n",
    "from tkinter import*"
   ]
  },
  {
   "cell_type": "code",
   "execution_count": null,
   "id": "681264a4",
   "metadata": {},
   "outputs": [],
   "source": [
    "window = Tk()\n",
    "\n",
    "b1 = Button(window,text=\"Execute\")\n",
    "\n",
    "b1.grid(row=0,column=0)\n",
    "\n",
    "window.mainloop()"
   ]
  },
  {
   "cell_type": "code",
   "execution_count": null,
   "id": "da141737",
   "metadata": {},
   "outputs": [],
   "source": [
    "# Entry & Text Widgets\n",
    "\n",
    "window = Tk()\n",
    "\n",
    "b1 = Button(window,text=\"Execute\")\n",
    "\n",
    "b1.grid(row=0,column=0)\n",
    "\n",
    "e1 = Entry(window)\n",
    "\n",
    "e1.grid(row=0,column=1)\n",
    "\n",
    "t1 = Text(window,height=1,width=20)\n",
    "\n",
    "t1.grid(row=0,column=2)\n",
    "\n",
    "window.mainloop()"
   ]
  },
  {
   "cell_type": "code",
   "execution_count": null,
   "id": "bd4a4556",
   "metadata": {},
   "outputs": [],
   "source": [
    "# Callback function \n",
    "# Convert km into miles\n",
    "\n",
    "window = Tk()\n",
    "\n",
    "def km_to_mile():\n",
    "    miles = float(e1_val.get()) * 1.6\n",
    "    t1.delete(\"1.0\",END)\n",
    "    t1.insert(END,miles)\n",
    "    print('Successfully Executed')\n",
    "    \n",
    "l1 = Label(window,text=\"Enter Kilometer :\")\n",
    "\n",
    "l1.grid(row=0,column=0)\n",
    "\n",
    "e1_val = StringVar()\n",
    "\n",
    "e1 = Entry(window,textvariable=e1_val)\n",
    "\n",
    "e1.grid(row=0,column=1)\n",
    "\n",
    "l2 = Label(window,text = \"Kilometers in Miles :\")\n",
    "\n",
    "l2.grid(row=1,column=0)\n",
    "\n",
    "t1 =  Text(window,height=1,width=20)\n",
    "\n",
    "t1.grid(row=1,column=1)\n",
    "\n",
    "b1 = Button(window,text=\"Convert\",command = km_to_mile)\n",
    "\n",
    "b1.grid(row=2,column=1)\n",
    "\n",
    "window.mainloop()"
   ]
  },
  {
   "cell_type": "code",
   "execution_count": null,
   "id": "b532af8a",
   "metadata": {},
   "outputs": [],
   "source": [
    "# Creating Menu\n",
    "\n",
    "window = Tk()\n",
    "\n",
    "def Hello():\n",
    "    print(\"Hello World\")\n",
    "    \n",
    "# Create a top level menu in the main window\n",
    "\n",
    "menubar = Menu(window)\n",
    "\n",
    "# Pulldown Menu\n",
    "\n",
    "filemenu = Menu(menubar)\n",
    "\n",
    "filemenu.add_command(label ='Open',command = Hello)\n",
    "\n",
    "filemenu.add_separator()\n",
    "\n",
    "filemenu.add_command(label='Exit',command = window.destroy)\n",
    "\n",
    "filemenu.add_separator()\n",
    "\n",
    "menubar.add_cascade(label='File',menu=filemenu)\n",
    "\n",
    "window.config(menu=menubar)\n",
    "\n",
    "window.mainloop()"
   ]
  },
  {
   "cell_type": "code",
   "execution_count": null,
   "id": "f6b69fd6",
   "metadata": {},
   "outputs": [],
   "source": [
    "# Radio Buttons\n",
    "\n",
    "window = Tk()\n",
    "\n",
    "def sel():\n",
    "    selection = \"You selected the option\"+str(var.get())\n",
    "    label.config(text=selection)\n",
    "    \n",
    "var = IntVar()\n",
    "\n",
    "R1 = Radiobutton(window,text='option1',variable = var, value = 1,command=sel)\n",
    "\n",
    "R1.pack() # Geometry Pack Manager\n",
    "\n",
    "R2 = Radiobutton(window,text='option2',variable = var, value = 2,command=sel)\n",
    "\n",
    "R2.pack()\n",
    "\n",
    "R3 = Radiobutton(window,text='option3',variable = var, value = 3,command=sel)\n",
    "\n",
    "R3.pack()\n",
    "\n",
    "label = Label(window)\n",
    "\n",
    "label.pack()\n",
    "\n",
    "window.mainloop()"
   ]
  },
  {
   "cell_type": "code",
   "execution_count": null,
   "id": "4b85b718",
   "metadata": {},
   "outputs": [],
   "source": [
    "window = Tk()\n",
    "\n",
    "def Gender():\n",
    "    selection = \"You are \"+var.get()\n",
    "    label.config(text=selection)\n",
    "    \n",
    "var = StringVar()\n",
    "\n",
    "R1 = Radiobutton(window,text='M',variable = var, value = 'Male',command=Gender)\n",
    "\n",
    "R1.pack() # Geometry Pack Manager\n",
    "\n",
    "R2 = Radiobutton(window,text='F',variable = var, value = 'Female',command=Gender)\n",
    "\n",
    "R2.pack()\n",
    "\n",
    "R3 = Radiobutton(window,text='T',variable = var, value = 'Trangender',command=Gender)\n",
    "\n",
    "R3.pack()\n",
    "\n",
    "label = Label(window)\n",
    "\n",
    "label.pack()\n",
    "\n",
    "window.mainloop()"
   ]
  },
  {
   "cell_type": "code",
   "execution_count": null,
   "id": "cda5148a",
   "metadata": {},
   "outputs": [],
   "source": [
    "# check buttons example\n",
    "\n",
    "def sel1():\n",
    "    if (CheckVar1.get() == 1):\n",
    "        selection = \" You selected the python programming option\"\n",
    "        \n",
    "    else:\n",
    "        selection = \" You de-selected the python programming option\"\n",
    "        \n",
    "    label.config(text=selection)\n",
    "\n",
    "def sel2():\n",
    "    if (CheckVar2.get() == 1):\n",
    "        selection = \" You selected the Tkinter option \"\n",
    "        \n",
    "    else:\n",
    "        selection = \" You de-selected the Tkinter option\"\n",
    "        \n",
    "    label.config(text=selection) "
   ]
  },
  {
   "cell_type": "code",
   "execution_count": null,
   "id": "0e925c98",
   "metadata": {},
   "outputs": [],
   "source": [
    "window = Tk()\n",
    "\n",
    "CheckVar1 = IntVar()\n",
    "CheckVar2 = IntVar()\n",
    "\n",
    "C1 = Checkbutton(window,text='Python Programming',variable=CheckVar1,onvalue=1,offvalue=0,height=5,width=20,command = sel1)\n",
    "C2= Checkbutton(window,text='Tkinter',variable=CheckVar2,onvalue=1,offvalue=0,height=5,width=20,command = sel2)\n",
    "\n",
    "C1.pack()\n",
    "C2.pack()\n",
    "\n",
    "label = Label(window)\n",
    "label.pack()\n",
    "\n",
    "window.mainloop()"
   ]
  },
  {
   "cell_type": "code",
   "execution_count": null,
   "id": "01791ab5",
   "metadata": {},
   "outputs": [],
   "source": [
    "# List Box\n",
    "\n",
    "window = Tk()\n",
    "\n",
    "def my_upd():\n",
    "    print(l1.get(ACTIVE)) # Get the active / selected element\n",
    "    \n",
    "l1 = Listbox(window,height=4)\n",
    "\n",
    "l1.pack()\n",
    "\n",
    "my_list = ['Tkinter','Python','Numpy','Pandas']\n",
    "\n",
    "for element in my_list:\n",
    "    l1.insert(END,element)\n",
    "    \n",
    "b1 = Button(window,text='Show',width=10,bg='yellow',command=my_upd)\n",
    "\n",
    "b1.pack()\n",
    "\n",
    "window.mainloop()"
   ]
  },
  {
   "cell_type": "markdown",
   "id": "3d2a3fb3",
   "metadata": {},
   "source": [
    "# Week 12\n",
    "\n",
    "\n",
    "## DataBases - Interacting with database"
   ]
  },
  {
   "cell_type": "code",
   "execution_count": 2,
   "id": "eda6a5a2",
   "metadata": {},
   "outputs": [],
   "source": [
    "import sqlite3"
   ]
  },
  {
   "cell_type": "code",
   "execution_count": 3,
   "id": "8528d544",
   "metadata": {},
   "outputs": [],
   "source": [
    "# Step One : Connect to Databases\n",
    "\n",
    "con = sqlite3.connect('mystudent.db')"
   ]
  },
  {
   "cell_type": "code",
   "execution_count": 4,
   "id": "f9c2d91d",
   "metadata": {},
   "outputs": [],
   "source": [
    "# Step 2: Create a cursor object\n",
    "\n",
    "cursorObj = con.cursor()"
   ]
  },
  {
   "cell_type": "code",
   "execution_count": 10,
   "id": "a8fe1367",
   "metadata": {},
   "outputs": [
    {
     "data": {
      "text/plain": [
       "<sqlite3.Cursor at 0x29ec48532c0>"
      ]
     },
     "execution_count": 10,
     "metadata": {},
     "output_type": "execute_result"
    }
   ],
   "source": [
    "# Step 3: Use the execute method to run SQL query \n",
    "# In this example we are going to create a table\n",
    "\n",
    "cursorObj.execute(\"create table if not exists student(rollno integer, name text, gpa real)\")"
   ]
  },
  {
   "cell_type": "code",
   "execution_count": 6,
   "id": "ea9f0b75",
   "metadata": {},
   "outputs": [
    {
     "data": {
      "text/plain": [
       "<sqlite3.Cursor at 0x29ec48532c0>"
      ]
     },
     "execution_count": 6,
     "metadata": {},
     "output_type": "execute_result"
    }
   ],
   "source": [
    "cursorObj.execute('select * from student')"
   ]
  },
  {
   "cell_type": "code",
   "execution_count": 7,
   "id": "f7380d4e",
   "metadata": {},
   "outputs": [
    {
     "data": {
      "text/plain": [
       "<sqlite3.Cursor at 0x29ec48532c0>"
      ]
     },
     "execution_count": 7,
     "metadata": {},
     "output_type": "execute_result"
    }
   ],
   "source": [
    "cursorObj.execute('insert into student values(101,\"Ramesh\",9.0)')"
   ]
  },
  {
   "cell_type": "code",
   "execution_count": 11,
   "id": "2954ec77",
   "metadata": {},
   "outputs": [],
   "source": [
    "def insert(r,n,g):\n",
    "    con = sqlite3.connect('mystudent.db')\n",
    "    cursorObj = con.cursor()\n",
    "    cursorObj.execute(\"insert into student values(?,?,?)\",(r,n,g))\n",
    "    con.commit()\n",
    "    con.close()"
   ]
  },
  {
   "cell_type": "code",
   "execution_count": 12,
   "id": "ebae1623",
   "metadata": {},
   "outputs": [
    {
     "ename": "OperationalError",
     "evalue": "database is locked",
     "output_type": "error",
     "traceback": [
      "\u001b[1;31m---------------------------------------------------------------------------\u001b[0m",
      "\u001b[1;31mOperationalError\u001b[0m                          Traceback (most recent call last)",
      "Cell \u001b[1;32mIn[12], line 1\u001b[0m\n\u001b[1;32m----> 1\u001b[0m insert(\u001b[38;5;241m102\u001b[39m,\u001b[38;5;124m\"\u001b[39m\u001b[38;5;124mSuresh\u001b[39m\u001b[38;5;124m\"\u001b[39m,\u001b[38;5;241m8.9\u001b[39m)\n",
      "Cell \u001b[1;32mIn[11], line 4\u001b[0m, in \u001b[0;36minsert\u001b[1;34m(r, n, g)\u001b[0m\n\u001b[0;32m      2\u001b[0m con \u001b[38;5;241m=\u001b[39m sqlite3\u001b[38;5;241m.\u001b[39mconnect(\u001b[38;5;124m'\u001b[39m\u001b[38;5;124mmystudent.db\u001b[39m\u001b[38;5;124m'\u001b[39m)\n\u001b[0;32m      3\u001b[0m cursorObj \u001b[38;5;241m=\u001b[39m con\u001b[38;5;241m.\u001b[39mcursor()\n\u001b[1;32m----> 4\u001b[0m cursorObj\u001b[38;5;241m.\u001b[39mexecute(\u001b[38;5;124m\"\u001b[39m\u001b[38;5;124minsert into student values(?,?,?)\u001b[39m\u001b[38;5;124m\"\u001b[39m,(r,n,g))\n\u001b[0;32m      5\u001b[0m con\u001b[38;5;241m.\u001b[39mcommit()\n\u001b[0;32m      6\u001b[0m con\u001b[38;5;241m.\u001b[39mclose()\n",
      "\u001b[1;31mOperationalError\u001b[0m: database is locked"
     ]
    }
   ],
   "source": [
    "insert(102,\"Suresh\",8.9)"
   ]
  },
  {
   "cell_type": "code",
   "execution_count": 9,
   "id": "8e99a779",
   "metadata": {},
   "outputs": [],
   "source": [
    "def create_table():\n",
    "    con = sqlite3.connect('mystudent.db')\n",
    "    cur = con.cursor()\n",
    "    cur.execute('create table if not exists student(rollno integer,name text,gpa real)')\n",
    "    con.commit()\n",
    "    con.close"
   ]
  },
  {
   "cell_type": "code",
   "execution_count": 10,
   "id": "d550eac9",
   "metadata": {},
   "outputs": [],
   "source": [
    "create_table()"
   ]
  },
  {
   "cell_type": "code",
   "execution_count": 11,
   "id": "89eedba5",
   "metadata": {},
   "outputs": [],
   "source": [
    "# Data Retreival \n",
    "\n",
    "def view():\n",
    "    con = sqlite3.connect('mystudent.db')\n",
    "    cursorObj = con.cursor()\n",
    "    cursorObj.execute('select * from student')\n",
    "    rows = cursorObj.fetchall()\n",
    "    con.close()\n",
    "    return rows"
   ]
  },
  {
   "cell_type": "code",
   "execution_count": 56,
   "id": "d6599ebf",
   "metadata": {},
   "outputs": [
    {
     "data": {
      "text/plain": [
       "[]"
      ]
     },
     "execution_count": 56,
     "metadata": {},
     "output_type": "execute_result"
    }
   ],
   "source": [
    "view()"
   ]
  },
  {
   "cell_type": "code",
   "execution_count": 16,
   "id": "4f376e36",
   "metadata": {},
   "outputs": [],
   "source": [
    "insert(103,'Mahesh',9.6)"
   ]
  },
  {
   "cell_type": "code",
   "execution_count": 17,
   "id": "4e7b77b9",
   "metadata": {},
   "outputs": [
    {
     "data": {
      "text/plain": [
       "[(101, 'Ramesh', 9.0), (102, 'Suresh', 8.9), (103, 'Mahesh', 9.6)]"
      ]
     },
     "execution_count": 17,
     "metadata": {},
     "output_type": "execute_result"
    }
   ],
   "source": [
    "view()"
   ]
  },
  {
   "cell_type": "code",
   "execution_count": 18,
   "id": "e30fd1cb",
   "metadata": {},
   "outputs": [],
   "source": [
    "def view1(n):\n",
    "    con = sqlite3.connect('mystudent.db')\n",
    "    cursorObj = con.cursor()\n",
    "    cursorObj.execute('select * from student where gpa > ?',(n,))\n",
    "    rows = cursorObj.fetchall()\n",
    "    con.close()\n",
    "    return rows"
   ]
  },
  {
   "cell_type": "code",
   "execution_count": 19,
   "id": "e9e63baa",
   "metadata": {},
   "outputs": [
    {
     "data": {
      "text/plain": [
       "[(103, 'Mahesh', 9.6)]"
      ]
     },
     "execution_count": 19,
     "metadata": {},
     "output_type": "execute_result"
    }
   ],
   "source": [
    "view1(9)"
   ]
  },
  {
   "cell_type": "code",
   "execution_count": 20,
   "id": "095112fb",
   "metadata": {},
   "outputs": [],
   "source": [
    "def view2(n1,n2):\n",
    "    con = sqlite3.connect('mystudent.db')\n",
    "    cur = con.cursor()\n",
    "    cur.execute('select * from student where gpa > ? and gpa < ?',(n1,n2))\n",
    "    rows = cur.fetchall()\n",
    "    con.close()\n",
    "    return rows"
   ]
  },
  {
   "cell_type": "code",
   "execution_count": 21,
   "id": "bdbb1ced",
   "metadata": {},
   "outputs": [],
   "source": [
    "insert(104,'Dinesh',8.2)"
   ]
  },
  {
   "cell_type": "code",
   "execution_count": 22,
   "id": "cf5f0982",
   "metadata": {},
   "outputs": [],
   "source": [
    "insert(105,'Harish',8.5)"
   ]
  },
  {
   "cell_type": "code",
   "execution_count": 23,
   "id": "a8feee7c",
   "metadata": {},
   "outputs": [
    {
     "data": {
      "text/plain": [
       "[(101, 'Ramesh', 9.0),\n",
       " (102, 'Suresh', 8.9),\n",
       " (103, 'Mahesh', 9.6),\n",
       " (104, 'Dinesh', 8.2),\n",
       " (105, 'Harish', 8.5)]"
      ]
     },
     "execution_count": 23,
     "metadata": {},
     "output_type": "execute_result"
    }
   ],
   "source": [
    "view()"
   ]
  },
  {
   "cell_type": "code",
   "execution_count": 24,
   "id": "96d8670f",
   "metadata": {},
   "outputs": [
    {
     "data": {
      "text/plain": [
       "[(101, 'Ramesh', 9.0), (102, 'Suresh', 8.9), (103, 'Mahesh', 9.6)]"
      ]
     },
     "execution_count": 24,
     "metadata": {},
     "output_type": "execute_result"
    }
   ],
   "source": [
    "view2(8.5,10.0)"
   ]
  },
  {
   "cell_type": "code",
   "execution_count": 25,
   "id": "db0311f9",
   "metadata": {},
   "outputs": [],
   "source": [
    "def view3(n1,n2):\n",
    "    con = sqlite3.connect('mystudent.db')\n",
    "    cur = con.cursor()\n",
    "    cur.execute('select * from student where name = ? or name = ?',(n1,n2))\n",
    "    rows = cur.fetchall()\n",
    "    con.close()\n",
    "    return rows"
   ]
  },
  {
   "cell_type": "code",
   "execution_count": 26,
   "id": "046ba07a",
   "metadata": {},
   "outputs": [
    {
     "data": {
      "text/plain": [
       "[(101, 'Ramesh', 9.0)]"
      ]
     },
     "execution_count": 26,
     "metadata": {},
     "output_type": "execute_result"
    }
   ],
   "source": [
    "view3('Ramesh','Basha')"
   ]
  },
  {
   "cell_type": "code",
   "execution_count": 27,
   "id": "b5c77f2a",
   "metadata": {},
   "outputs": [
    {
     "data": {
      "text/plain": [
       "[(101, 'Ramesh', 9.0),\n",
       " (102, 'Suresh', 8.9),\n",
       " (103, 'Mahesh', 9.6),\n",
       " (104, 'Dinesh', 8.2),\n",
       " (105, 'Harish', 8.5)]"
      ]
     },
     "execution_count": 27,
     "metadata": {},
     "output_type": "execute_result"
    }
   ],
   "source": [
    "view()"
   ]
  },
  {
   "cell_type": "code",
   "execution_count": 28,
   "id": "de98ddc8",
   "metadata": {},
   "outputs": [],
   "source": [
    "def view4(n):\n",
    "    con = sqlite3.connect('mystudent.db')\n",
    "    cur = con.cursor()\n",
    "    cur.execute('select rollno,gpa from student where gpa > ?',(n,))\n",
    "    rows = cur.fetchall()\n",
    "    con.close()\n",
    "    return rows"
   ]
  },
  {
   "cell_type": "code",
   "execution_count": 30,
   "id": "828b94a4",
   "metadata": {},
   "outputs": [
    {
     "data": {
      "text/plain": [
       "[(101, 9.0), (102, 8.9), (103, 9.6), (105, 8.5)]"
      ]
     },
     "execution_count": 30,
     "metadata": {},
     "output_type": "execute_result"
    }
   ],
   "source": [
    "view4(8.4)"
   ]
  },
  {
   "cell_type": "code",
   "execution_count": 31,
   "id": "b30c6578",
   "metadata": {},
   "outputs": [],
   "source": [
    "# Deleting data from a table\n",
    "\n",
    "def delete(r):\n",
    "    con = sqlite3.connect('mystudent.db')\n",
    "    cur = con.cursor()\n",
    "    cur.execute('delete from student where rollno = ?',(r,))\n",
    "    con.commit()\n",
    "    con.close()"
   ]
  },
  {
   "cell_type": "code",
   "execution_count": 32,
   "id": "1dd829c3",
   "metadata": {},
   "outputs": [],
   "source": [
    "delete(104)"
   ]
  },
  {
   "cell_type": "code",
   "execution_count": 33,
   "id": "cd72fcee",
   "metadata": {},
   "outputs": [
    {
     "data": {
      "text/plain": [
       "[(101, 'Ramesh', 9.0),\n",
       " (102, 'Suresh', 8.9),\n",
       " (103, 'Mahesh', 9.6),\n",
       " (105, 'Harish', 8.5)]"
      ]
     },
     "execution_count": 33,
     "metadata": {},
     "output_type": "execute_result"
    }
   ],
   "source": [
    "view()"
   ]
  },
  {
   "cell_type": "code",
   "execution_count": 34,
   "id": "ace1cc72",
   "metadata": {},
   "outputs": [],
   "source": [
    "insert(104,'Basha',8.9)"
   ]
  },
  {
   "cell_type": "code",
   "execution_count": 35,
   "id": "cde2e6ba",
   "metadata": {},
   "outputs": [
    {
     "data": {
      "text/plain": [
       "[(101, 'Ramesh', 9.0),\n",
       " (102, 'Suresh', 8.9),\n",
       " (103, 'Mahesh', 9.6),\n",
       " (105, 'Harish', 8.5),\n",
       " (104, 'Basha', 8.9)]"
      ]
     },
     "execution_count": 35,
     "metadata": {},
     "output_type": "execute_result"
    }
   ],
   "source": [
    "view()"
   ]
  },
  {
   "cell_type": "code",
   "execution_count": 36,
   "id": "8704ecea",
   "metadata": {},
   "outputs": [],
   "source": [
    "def delete1():\n",
    "    con = sqlite3.connect('mystudent.db')\n",
    "    cur = con.cursor()\n",
    "    cur.execute('delete from student')\n",
    "    con.commit()\n",
    "    con.close()"
   ]
  },
  {
   "cell_type": "code",
   "execution_count": 37,
   "id": "2fa2b4d2",
   "metadata": {},
   "outputs": [
    {
     "data": {
      "text/plain": [
       "[(101, 'Ramesh', 9.0),\n",
       " (102, 'Suresh', 8.9),\n",
       " (103, 'Mahesh', 9.6),\n",
       " (105, 'Harish', 8.5),\n",
       " (104, 'Basha', 8.9)]"
      ]
     },
     "execution_count": 37,
     "metadata": {},
     "output_type": "execute_result"
    }
   ],
   "source": [
    "view()"
   ]
  },
  {
   "cell_type": "code",
   "execution_count": 38,
   "id": "bb803ca6",
   "metadata": {},
   "outputs": [],
   "source": [
    "delete1()"
   ]
  },
  {
   "cell_type": "code",
   "execution_count": 39,
   "id": "9ead6441",
   "metadata": {},
   "outputs": [
    {
     "data": {
      "text/plain": [
       "[]"
      ]
     },
     "execution_count": 39,
     "metadata": {},
     "output_type": "execute_result"
    }
   ],
   "source": [
    "view()"
   ]
  },
  {
   "cell_type": "code",
   "execution_count": null,
   "id": "34bc8433",
   "metadata": {},
   "outputs": [],
   "source": []
  },
  {
   "cell_type": "code",
   "execution_count": null,
   "id": "121b7514",
   "metadata": {},
   "outputs": [],
   "source": []
  },
  {
   "cell_type": "code",
   "execution_count": null,
   "id": "56383c55",
   "metadata": {},
   "outputs": [],
   "source": []
  },
  {
   "cell_type": "code",
   "execution_count": null,
   "id": "0160bede",
   "metadata": {},
   "outputs": [],
   "source": []
  },
  {
   "cell_type": "code",
   "execution_count": null,
   "id": "2a0570c6",
   "metadata": {},
   "outputs": [],
   "source": []
  },
  {
   "cell_type": "code",
   "execution_count": null,
   "id": "026e25f8",
   "metadata": {},
   "outputs": [],
   "source": []
  },
  {
   "cell_type": "code",
   "execution_count": null,
   "id": "85d2614a",
   "metadata": {},
   "outputs": [],
   "source": []
  },
  {
   "cell_type": "code",
   "execution_count": null,
   "id": "39f7f1dc",
   "metadata": {},
   "outputs": [],
   "source": []
  }
 ],
 "metadata": {
  "kernelspec": {
   "display_name": "Python 3 (ipykernel)",
   "language": "python",
   "name": "python3"
  },
  "language_info": {
   "codemirror_mode": {
    "name": "ipython",
    "version": 3
   },
   "file_extension": ".py",
   "mimetype": "text/x-python",
   "name": "python",
   "nbconvert_exporter": "python",
   "pygments_lexer": "ipython3",
   "version": "3.11.5"
  }
 },
 "nbformat": 4,
 "nbformat_minor": 5
}
