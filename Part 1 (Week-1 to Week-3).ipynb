{
 "cells": [
  {
   "cell_type": "markdown",
   "id": "1273840b",
   "metadata": {},
   "source": [
    "# Week-1"
   ]
  },
  {
   "cell_type": "code",
   "execution_count": 1,
   "id": "cc861a69",
   "metadata": {},
   "outputs": [
    {
     "data": {
      "text/plain": [
       "'This is a multi-line comments\\nin python programming'"
      ]
     },
     "execution_count": 1,
     "metadata": {},
     "output_type": "execute_result"
    }
   ],
   "source": [
    "# single line comments\n",
    "'''This is a multi-line comments\n",
    "in python programming'''\n",
    "\n"
   ]
  },
  {
   "cell_type": "code",
   "execution_count": 3,
   "id": "3e376b62",
   "metadata": {},
   "outputs": [
    {
     "name": "stdout",
     "output_type": "stream",
     "text": [
      "The value of x : 10\n",
      "The datatype of x : <class 'int'>\n"
     ]
    }
   ],
   "source": [
    "x = 10 # x is called a variable\n",
    "\n",
    "print('The value of x :',x)\n",
    "\n",
    "# The properties of variables are: name, value, type\n",
    "\n",
    "print('The datatype of x :',type(x))"
   ]
  },
  {
   "cell_type": "code",
   "execution_count": 6,
   "id": "55f4277e",
   "metadata": {},
   "outputs": [
    {
     "name": "stdout",
     "output_type": "stream",
     "text": [
      "The value of x : 15.12\n",
      "The datatype of x : <class 'float'>\n"
     ]
    }
   ],
   "source": [
    "# Number, String & Bool\n",
    "\n",
    "# Numeric datatypes of python : int,float,complex\n",
    "\n",
    "x = 15.12\n",
    "\n",
    "print('The value of x :',x)\n",
    "\n",
    "print('The datatype of x :',type(x))"
   ]
  },
  {
   "cell_type": "code",
   "execution_count": 7,
   "id": "fc3343b5",
   "metadata": {},
   "outputs": [
    {
     "name": "stdout",
     "output_type": "stream",
     "text": [
      "The value of y : (4+5j)\n",
      "The datatype of y : <class 'complex'>\n"
     ]
    }
   ],
   "source": [
    "# complex number\n",
    "\n",
    "y = 4 + 5j # complex number a + bj\n",
    "\n",
    "print('The value of y :',y)\n",
    "\n",
    "print('The datatype of y :',type(y))"
   ]
  },
  {
   "cell_type": "code",
   "execution_count": 11,
   "id": "449d4e33",
   "metadata": {},
   "outputs": [
    {
     "name": "stdout",
     "output_type": "stream",
     "text": [
      "The string str1 : Good Morning\n",
      "The string str2 : Good Morning\n",
      "The string str3 : Good \n",
      "         Morning\n",
      "The datatypes of str1,str2,str3 : <class 'str'> <class 'str'> <class 'str'>\n"
     ]
    }
   ],
   "source": [
    "# String Datatypes\n",
    "\n",
    "str1 = 'Good Morning'\n",
    "\n",
    "str2 = \"Good Morning\"\n",
    "\n",
    "str3 = '''Good \n",
    "         Morning'''\n",
    "\n",
    "print('The string str1 :',str1)\n",
    "\n",
    "print('The string str2 :',str2)\n",
    "\n",
    "print('The string str3 :',str3)\n",
    "\n",
    "print('The datatypes of str1,str2,str3 :',type(str1),type(str2),type(str3))"
   ]
  },
  {
   "cell_type": "code",
   "execution_count": 14,
   "id": "36a95ef2",
   "metadata": {},
   "outputs": [
    {
     "name": "stdout",
     "output_type": "stream",
     "text": [
      "The value of flag1 : True\n",
      "The datatype of flag1 : <class 'bool'>\n",
      "The changed value of flag1 : False\n"
     ]
    }
   ],
   "source": [
    "# Bool type\n",
    "\n",
    "flag1 = True\n",
    "\n",
    "print('The value of flag1 :',flag1)\n",
    "\n",
    "print('The datatype of flag1 :',type(flag1))\n",
    "\n",
    "flag1 = False\n",
    "\n",
    "print('The changed value of flag1 :',flag1)"
   ]
  },
  {
   "cell_type": "code",
   "execution_count": 15,
   "id": "49127832",
   "metadata": {},
   "outputs": [
    {
     "name": "stdout",
     "output_type": "stream",
     "text": [
      "10\n",
      "12\n"
     ]
    }
   ],
   "source": [
    "# Arithmetic Operators \n",
    "\n",
    "\n",
    "x = 10\n",
    "\n",
    "print(x)\n",
    "\n",
    "x = x + 2 # Addition\n",
    "\n",
    "print(x)"
   ]
  },
  {
   "cell_type": "code",
   "execution_count": 16,
   "id": "e4163755",
   "metadata": {},
   "outputs": [
    {
     "name": "stdout",
     "output_type": "stream",
     "text": [
      "9\n"
     ]
    }
   ],
   "source": [
    "y = 3\n",
    "\n",
    "z = x - y # Minus or Subtraction \n",
    "\n",
    "print(z)"
   ]
  },
  {
   "cell_type": "code",
   "execution_count": 17,
   "id": "279863f3",
   "metadata": {},
   "outputs": [
    {
     "name": "stdout",
     "output_type": "stream",
     "text": [
      "36\n"
     ]
    }
   ],
   "source": [
    "a = x * y # Multiplication\n",
    "\n",
    "print(a)"
   ]
  },
  {
   "cell_type": "code",
   "execution_count": 20,
   "id": "ddd31652",
   "metadata": {},
   "outputs": [
    {
     "name": "stdout",
     "output_type": "stream",
     "text": [
      "4.0\n"
     ]
    }
   ],
   "source": [
    "b = x / y # Division with decimel values \n",
    "\n",
    "print(b)"
   ]
  },
  {
   "cell_type": "code",
   "execution_count": 21,
   "id": "64420c48",
   "metadata": {},
   "outputs": [
    {
     "name": "stdout",
     "output_type": "stream",
     "text": [
      "4\n"
     ]
    }
   ],
   "source": [
    "b1 = x // y # Division without decimel values\n",
    "\n",
    "print(b1)"
   ]
  },
  {
   "cell_type": "code",
   "execution_count": 22,
   "id": "064d99d4",
   "metadata": {},
   "outputs": [
    {
     "name": "stdout",
     "output_type": "stream",
     "text": [
      "1728\n"
     ]
    }
   ],
   "source": [
    "c = x ** y # Power (12 power 3 = 1728)\n",
    "\n",
    "print(c)"
   ]
  },
  {
   "cell_type": "code",
   "execution_count": 24,
   "id": "4866371f",
   "metadata": {},
   "outputs": [
    {
     "name": "stdout",
     "output_type": "stream",
     "text": [
      "0\n",
      "1\n"
     ]
    }
   ],
   "source": [
    "d = x % y # Modulo Operator (Reminder of 12/3 = 0)\n",
    "\n",
    "print(d)\n",
    "\n",
    "e = 15 % 2 # Reminder of (15/2 is 1)\n",
    "\n",
    "print(e)\n",
    "\n",
    "# a,b,c,d,x,y these are all operands and +,-,*,/,%, these are all binery operators"
   ]
  },
  {
   "cell_type": "code",
   "execution_count": 26,
   "id": "881d796f",
   "metadata": {},
   "outputs": [
    {
     "name": "stdout",
     "output_type": "stream",
     "text": [
      "-10\n",
      "10\n"
     ]
    }
   ],
   "source": [
    "# Unary Operators \n",
    "\n",
    "x = 10 \n",
    "\n",
    "y = -x\n",
    "\n",
    "print(y) # + * - becomes -\n",
    "\n",
    "z = -y\n",
    "\n",
    "print(z) # - * - becomes +"
   ]
  },
  {
   "cell_type": "markdown",
   "id": "ffd8dd6b",
   "metadata": {},
   "source": [
    "# PEMDAS Rule\n",
    "\n",
    "\n",
    "### Paranthesis, Exponent, (Multiplication, Division), (Addition and Subtraction)"
   ]
  },
  {
   "cell_type": "code",
   "execution_count": 28,
   "id": "9ce1bcab",
   "metadata": {},
   "outputs": [
    {
     "name": "stdout",
     "output_type": "stream",
     "text": [
      "310\n",
      "15\n"
     ]
    }
   ],
   "source": [
    "x = 10\n",
    "\n",
    "y = 15\n",
    "\n",
    "z = 20\n",
    "\n",
    "res = x + y * z # Multiplication happens first then addition\n",
    "\n",
    "print(res)\n",
    "\n",
    "Res = x -y + z # starts from left side \n",
    "\n",
    "print(Res)"
   ]
  },
  {
   "cell_type": "code",
   "execution_count": 29,
   "id": "ac014527",
   "metadata": {},
   "outputs": [
    {
     "name": "stdout",
     "output_type": "stream",
     "text": [
      "Value of x : 10 Value of y : 10\n"
     ]
    }
   ],
   "source": [
    "# Assignment Opeartors =,+=,-=,*=,/=,**=,//=,%=\n",
    "\n",
    "x = 10\n",
    "\n",
    "y = x\n",
    "\n",
    "print('Value of x :',x,'Value of y :',y)"
   ]
  },
  {
   "cell_type": "code",
   "execution_count": 33,
   "id": "3c8c6cf2",
   "metadata": {},
   "outputs": [
    {
     "name": "stdout",
     "output_type": "stream",
     "text": [
      "13\n"
     ]
    }
   ],
   "source": [
    "x += 2 # x = x + 2 \n",
    "\n",
    "print(x)"
   ]
  },
  {
   "cell_type": "code",
   "execution_count": 34,
   "id": "0f98655e",
   "metadata": {},
   "outputs": [
    {
     "name": "stdout",
     "output_type": "stream",
     "text": [
      "8\n"
     ]
    }
   ],
   "source": [
    "x -= 5 # x = x - 5\n",
    "\n",
    "print(x)"
   ]
  },
  {
   "cell_type": "code",
   "execution_count": 35,
   "id": "8bbf1ec3",
   "metadata": {},
   "outputs": [
    {
     "name": "stdout",
     "output_type": "stream",
     "text": [
      "16\n"
     ]
    }
   ],
   "source": [
    "x *= 2 # x = x * 2 \n",
    "\n",
    "print(x)"
   ]
  },
  {
   "cell_type": "code",
   "execution_count": 36,
   "id": "72d5c66b",
   "metadata": {},
   "outputs": [
    {
     "name": "stdout",
     "output_type": "stream",
     "text": [
      "4.0\n"
     ]
    }
   ],
   "source": [
    "x /= 4 # x = x / 4 \n",
    "\n",
    "print(x)"
   ]
  },
  {
   "cell_type": "code",
   "execution_count": 38,
   "id": "c45a095a",
   "metadata": {},
   "outputs": [
    {
     "name": "stdout",
     "output_type": "stream",
     "text": [
      "0.0\n",
      "10.0\n"
     ]
    }
   ],
   "source": [
    "x %= 2 # x = 4 % 2 \n",
    "\n",
    "print(x)\n",
    "\n",
    "y = x + 10\n",
    "\n",
    "print(y)"
   ]
  },
  {
   "cell_type": "code",
   "execution_count": 39,
   "id": "5b118dbf",
   "metadata": {},
   "outputs": [
    {
     "name": "stdout",
     "output_type": "stream",
     "text": [
      "5.0\n"
     ]
    }
   ],
   "source": [
    "y //= 2 # y = y // 2\n",
    "\n",
    "print(y)"
   ]
  },
  {
   "cell_type": "code",
   "execution_count": 40,
   "id": "470d9283",
   "metadata": {},
   "outputs": [
    {
     "name": "stdout",
     "output_type": "stream",
     "text": [
      "25.0\n"
     ]
    }
   ],
   "source": [
    "y **= 2 # y = y ** 2\n",
    "\n",
    "print(y)"
   ]
  },
  {
   "cell_type": "markdown",
   "id": "4bffb3e2",
   "metadata": {},
   "source": [
    "# Input Statement"
   ]
  },
  {
   "cell_type": "code",
   "execution_count": 43,
   "id": "88f35d0a",
   "metadata": {},
   "outputs": [
    {
     "name": "stdout",
     "output_type": "stream",
     "text": [
      "Enter the str1:Hi Team\n",
      "Hi Team\n"
     ]
    }
   ],
   "source": [
    "str1 = input('Enter the str1:')\n",
    "\n",
    "print(str1)"
   ]
  },
  {
   "cell_type": "code",
   "execution_count": 46,
   "id": "781437b4",
   "metadata": {},
   "outputs": [
    {
     "name": "stdout",
     "output_type": "stream",
     "text": [
      "First num :15\n",
      "Second num :25\n",
      "40\n",
      "40.0\n"
     ]
    }
   ],
   "source": [
    "# Accepts two number from the user and find their sum\n",
    "\n",
    "num1 = int(input('First num :'))\n",
    "\n",
    "num2 = int(input('Second num :'))\n",
    "\n",
    "res = num1 + num2\n",
    "\n",
    "res1 = float(num1 + num2)\n",
    "\n",
    "print(res)\n",
    "print(res1)"
   ]
  },
  {
   "cell_type": "code",
   "execution_count": 50,
   "id": "ece75cce",
   "metadata": {},
   "outputs": [
    {
     "name": "stdout",
     "output_type": "stream",
     "text": [
      "Radius of the circle :15\n",
      "The area of the circle : 706.5\n",
      "The circumference of the circle : 94.2\n"
     ]
    }
   ],
   "source": [
    "# Calculate area & circumference of a circle by accepting radius as input\n",
    "\n",
    "radius = float(input('Radius of the circle :'))\n",
    "\n",
    "area = 3.14 * (radius * radius)\n",
    "\n",
    "circumference = 2 * 3.14 * radius\n",
    "\n",
    "print('The area of the circle :',area)\n",
    "\n",
    "print('The circumference of the circle :',circumference)"
   ]
  },
  {
   "cell_type": "code",
   "execution_count": 53,
   "id": "d43cbdfe",
   "metadata": {},
   "outputs": [
    {
     "name": "stdout",
     "output_type": "stream",
     "text": [
      "(-7+8j)\n",
      "(13+2j)\n"
     ]
    }
   ],
   "source": [
    "# Arithmetic Operations on Complex Numbers \n",
    "\n",
    "a = 3 + 5j\n",
    "\n",
    "b = 10 - 3j\n",
    "\n",
    "c = a - b\n",
    "\n",
    "d = a + b\n",
    "\n",
    "print(c)\n",
    "\n",
    "print(d)"
   ]
  },
  {
   "cell_type": "markdown",
   "id": "93a1cd01",
   "metadata": {},
   "source": [
    "# Week-2"
   ]
  },
  {
   "cell_type": "code",
   "execution_count": 2,
   "id": "fe36d00f",
   "metadata": {},
   "outputs": [
    {
     "name": "stdout",
     "output_type": "stream",
     "text": [
      "The string str1 : Hello World\n",
      "The string str2 : Good Morning Students \n",
      "The string str3 : Welcome to the Week 2 \n",
      "          Python Programming,\n",
      "          Lets start the session\n",
      "The datatypes of str1,str2,str3 : <class 'str'> <class 'str'> <class 'str'>\n"
     ]
    }
   ],
   "source": [
    "str1 = 'Hello World'\n",
    "\n",
    "str2 = \"Good Morning Students \"\n",
    "\n",
    "str3 = '''Welcome to the Week 2 \n",
    "          Python Programming,\n",
    "          Lets start the session'''\n",
    "\n",
    "print('The string str1 :',str1)\n",
    "\n",
    "print('The string str2 :',str2)\n",
    "\n",
    "print('The string str3 :',str3)\n",
    "\n",
    "print('The datatypes of str1,str2,str3 :',type(str1),type(str2),type(str3))"
   ]
  },
  {
   "cell_type": "code",
   "execution_count": 5,
   "id": "18045ca6",
   "metadata": {},
   "outputs": [
    {
     "name": "stdout",
     "output_type": "stream",
     "text": [
      "Good Day\n",
      "Hello World\n"
     ]
    }
   ],
   "source": [
    "# Concatenation \n",
    "\n",
    "str1 = 'Good'\n",
    "\n",
    "str2 = ' Day'\n",
    "\n",
    "str3 = str1 + str2\n",
    "\n",
    "print(str3)\n",
    "\n",
    "print('Hello '+'World')"
   ]
  },
  {
   "cell_type": "code",
   "execution_count": 8,
   "id": "d9f0f908",
   "metadata": {},
   "outputs": [
    {
     "name": "stdout",
     "output_type": "stream",
     "text": [
      "The length of str3 : 8\n",
      "The length of hello is : 5\n"
     ]
    }
   ],
   "source": [
    "# len\n",
    "\n",
    "print('The length of str3 :',len(str3))\n",
    "\n",
    "print('The length of Hello is :',len('Hello'))"
   ]
  },
  {
   "cell_type": "code",
   "execution_count": 10,
   "id": "62377730",
   "metadata": {},
   "outputs": [
    {
     "name": "stdout",
     "output_type": "stream",
     "text": [
      "Good Day\n",
      "The third character of str3 : o\n",
      "The sixth character of str3 : D\n",
      "o\n",
      "ello\n",
      "Hell\n",
      "o World\n",
      "Hello World\n"
     ]
    }
   ],
   "source": [
    "# Accessing Sting Characters & String Slicing\n",
    "\n",
    "print(str3)\n",
    "\n",
    "print('The third character of str3 :',str3[2])\n",
    "\n",
    "print('The sixth character of str3 :',str3[5])\n",
    "\n",
    "# Accessing a grgoup of characters \n",
    "\n",
    "my_string = 'Hello World'\n",
    "\n",
    "print(my_string[4])\n",
    "\n",
    "print(my_string[1:5])\n",
    "\n",
    "print(my_string[:4])\n",
    "\n",
    "print(my_string[4:])\n",
    "\n",
    "print(my_string[:])\n"
   ]
  },
  {
   "cell_type": "code",
   "execution_count": 12,
   "id": "27146b25",
   "metadata": {},
   "outputs": [
    {
     "name": "stdout",
     "output_type": "stream",
     "text": [
      "##########\n",
      "HelloHelloHelloHelloHello\n"
     ]
    }
   ],
   "source": [
    "# Repeat\n",
    "\n",
    "str4 = '#' * 10\n",
    "\n",
    "print(str4)\n",
    "\n",
    "print('Hello' * 5)"
   ]
  },
  {
   "cell_type": "code",
   "execution_count": 17,
   "id": "ea90741b",
   "metadata": {},
   "outputs": [
    {
     "name": "stdout",
     "output_type": "stream",
     "text": [
      "Source string_1 :  Welcome, to the exciting world, of python programming\n",
      "Split the comma : [' Welcome', ' to the exciting world', ' of python programming']\n",
      "Split using colon : [' Welcome ', ' to the exciting world ', ' of python programming']\n",
      "Split using spaces : ['', 'Welcome,', 'to', 'the', 'exciting', 'world,', 'of', 'python', 'programming']\n"
     ]
    }
   ],
   "source": [
    "# Split Opeartion\n",
    "\n",
    "string_1 = \" Welcome, to the exciting world, of python programming\"\n",
    "\n",
    "print('Source string_1 :',string_1)\n",
    "\n",
    "print('Split the comma :',string_1.split(','))\n",
    "\n",
    "string_2 = \" Welcome : to the exciting world : of python programming\"\n",
    "\n",
    "print('Split using colon :',string_2.split(':'))\n",
    "\n",
    "print('Split using spaces :',string_1.split(' '))"
   ]
  },
  {
   "cell_type": "code",
   "execution_count": 18,
   "id": "7a3dfc75",
   "metadata": {},
   "outputs": [
    {
     "name": "stdout",
     "output_type": "stream",
     "text": [
      "No of spaces in my_string : 4\n",
      "No of 'a' in my_string : 1\n"
     ]
    }
   ],
   "source": [
    "# count\n",
    "\n",
    "my_string = 'Count ther number of spaces'\n",
    "\n",
    "print('No of spaces in my_string :',my_string.count(' '))\n",
    "\n",
    "print(\"No of 'a' in my_string :\",my_string.count('a'))\n"
   ]
  },
  {
   "cell_type": "code",
   "execution_count": 19,
   "id": "2aba3611",
   "metadata": {},
   "outputs": [
    {
     "name": "stdout",
     "output_type": "stream",
     "text": [
      "welcome_message : Hello World\n",
      "str1 : Bye World\n"
     ]
    }
   ],
   "source": [
    "# Replace\n",
    "\n",
    "welcome_message = 'Hello World'\n",
    "\n",
    "str1 = welcome_message.replace('Hello','Bye')\n",
    "\n",
    "print('welcome_message :',welcome_message)\n",
    "\n",
    "print('str1 :',str1)"
   ]
  },
  {
   "cell_type": "code",
   "execution_count": 21,
   "id": "c2523ea7",
   "metadata": {},
   "outputs": [
    {
     "name": "stdout",
     "output_type": "stream",
     "text": [
      "str1 : 9\n",
      "str1 : 35\n",
      "str1 : -1\n",
      "str1 : -1\n"
     ]
    }
   ],
   "source": [
    "# Find\n",
    "\n",
    "str1 = 'Welcome, to the exciting world, of python programming'\n",
    "\n",
    "print('str1 :',str1.find('to'))\n",
    "\n",
    "print('str1 :',str1.find('python'))\n",
    "\n",
    "print('str1 :',str1.find('Java'))\n",
    "\n",
    "print('str1 :',str1.find('Bye'))"
   ]
  },
  {
   "cell_type": "code",
   "execution_count": 23,
   "id": "de0496eb",
   "metadata": {},
   "outputs": [
    {
     "name": "stdout",
     "output_type": "stream",
     "text": [
      "False\n",
      "True\n"
     ]
    }
   ],
   "source": [
    "# String comparison operation\n",
    "\n",
    "str1 = 'James'\n",
    "\n",
    "str2 = 'John'\n",
    "\n",
    "print(str1 == str2)\n",
    "\n",
    "print(str1 != str2)"
   ]
  },
  {
   "cell_type": "code",
   "execution_count": 43,
   "id": "94a79f47",
   "metadata": {},
   "outputs": [
    {
     "name": "stdout",
     "output_type": "stream",
     "text": [
      "The string is : Hello World!\n",
      "str1 startswith('H'): True\n",
      "str1 startswith('h'): False\n",
      "str1 ends with 'd' : False\n",
      "str1 ends with '!' : True\n",
      "str1 istitle : True\n",
      "str2 istitle : False\n",
      "str1 is upper : False\n",
      "str1 is lower : False\n",
      "str2 is lower : True\n",
      "str3 is upper : True\n",
      "str1 is alpha : False\n",
      "str2 is alpha : True\n",
      "str3 is alpha : True\n",
      "str2 : helloworld\n",
      "str2 : HELLOWORLD\n",
      "str3 : HELLOWORLD\n",
      "str3 : helloworld\n",
      "str2.title : Hello World\n",
      "str3 swapcase : gOOD dAY\n",
      "str2 : Hello World\n"
     ]
    }
   ],
   "source": [
    "str1 = 'Hello World!'\n",
    "\n",
    "print('The string is :',str1)\n",
    "\n",
    "# Starts with operation\n",
    "\n",
    "print(\"str1 startswith('H'):\",str1.startswith('H'))\n",
    "\n",
    "print(\"str1 startswith('h'):\",str1.startswith('h'))\n",
    "\n",
    "# Ends with \n",
    "\n",
    "print(\"str1 ends with 'd' :\",str1.endswith('d'))\n",
    "\n",
    "print(\"str1 ends with '!' :\",str1.endswith('!'))\n",
    "\n",
    "#istitle\n",
    "\n",
    "print(\"str1 istitle :\",str1.istitle())\n",
    "\n",
    "str2 = 'Hello world'\n",
    "\n",
    "print(\"str2 istitle :\",str2.istitle())\n",
    "\n",
    "# isupper, islower\n",
    "\n",
    "print(\"str1 is upper :\",str1.isupper())\n",
    "\n",
    "print(\"str1 is lower :\",str1.islower())\n",
    "\n",
    "str2 = 'helloworld'\n",
    "\n",
    "str3 = 'HELLOWORLD'\n",
    "\n",
    "print(\"str2 is lower :\",str2.islower())\n",
    "\n",
    "print(\"str3 is upper :\",str3.isupper())\n",
    "\n",
    "# isalpha - shoud not contain a special character\n",
    "\n",
    "print('str1 is alpha :',str1.isalpha())\n",
    "\n",
    "print('str2 is alpha :',str2.isalpha())\n",
    "\n",
    "print('str3 is alpha :',str3.isalpha())\n",
    "\n",
    "# upper, lower\n",
    "\n",
    "print( 'str2 :',str2)\n",
    "\n",
    "print('str2 :',str2.upper())\n",
    "\n",
    "print('str3 :',str3)\n",
    "\n",
    "print('str3 :',str3.lower())\n",
    "\n",
    "# title - Every new word 1st letter converted into upper case\n",
    "\n",
    "str2 ='hello world'\n",
    "\n",
    "print(\"str2.title :\",str2.title())\n",
    "\n",
    "# Swapcase\n",
    "\n",
    "str3 = 'Good Day'\n",
    "\n",
    "print('str3 swapcase :',str3.swapcase())\n",
    "\n",
    "# strip\n",
    "\n",
    "str2 =\"    Hello World     \"\n",
    "\n",
    "print('str2 :',str2.strip())"
   ]
  },
  {
   "cell_type": "markdown",
   "id": "ebd719dc",
   "metadata": {},
   "source": [
    "# Conditional Statements\n",
    "\n",
    "## Relational Operators :\n",
    "\n",
    "####  <, >, <=, >=, ==, != "
   ]
  },
  {
   "cell_type": "code",
   "execution_count": 46,
   "id": "bf3bcf67",
   "metadata": {},
   "outputs": [
    {
     "name": "stdout",
     "output_type": "stream",
     "text": [
      "a > b : False\n",
      "a < b : True\n",
      "c <= b : True\n",
      "a <= c : True\n",
      "b == c : True\n",
      "a != b : True\n"
     ]
    }
   ],
   "source": [
    "a = 10 \n",
    "b = 20\n",
    "c = 20\n",
    "\n",
    "print('a > b :',a > b)\n",
    "\n",
    "print('a < b :',a < b)\n",
    "\n",
    "print('c <= b :',c <= b)\n",
    "\n",
    "print('a <= c :',a <= c)\n",
    "\n",
    "print('b == c :',b == c)\n",
    "\n",
    "print('a != b :',a != b)"
   ]
  },
  {
   "cell_type": "markdown",
   "id": "bee1131d",
   "metadata": {},
   "source": [
    "# Logical Operators \n",
    "\n",
    "\n",
    "## and, or, not"
   ]
  },
  {
   "cell_type": "code",
   "execution_count": 51,
   "id": "b942ddc2",
   "metadata": {},
   "outputs": [
    {
     "name": "stdout",
     "output_type": "stream",
     "text": [
      "True\n",
      "False\n",
      "True\n",
      "False\n",
      "True\n"
     ]
    }
   ],
   "source": [
    "a = 10 \n",
    "b = 20\n",
    "c = 30\n",
    "\n",
    "print(a > b or a < c)\n",
    "\n",
    "print(a > b or a > c)\n",
    "\n",
    "print(a < b and a < c)\n",
    "\n",
    "print(a < b and a > c)\n",
    "\n",
    "print( not a>b ) "
   ]
  },
  {
   "cell_type": "code",
   "execution_count": 54,
   "id": "01907fe0",
   "metadata": {},
   "outputs": [
    {
     "name": "stdout",
     "output_type": "stream",
     "text": [
      "Enter the number :10\n",
      "The number x is positive\n",
      "Program Completed\n"
     ]
    }
   ],
   "source": [
    "# check whether  a number is positive or not \n",
    "\n",
    "x = int(input('Enter the number :'))\n",
    "\n",
    "if x > 0 :\n",
    "    print('The number x is positive')\n",
    "    \n",
    "print('Program Completed')"
   ]
  },
  {
   "cell_type": "code",
   "execution_count": 56,
   "id": "af820129",
   "metadata": {},
   "outputs": [
    {
     "name": "stdout",
     "output_type": "stream",
     "text": [
      "Enter a non-zero integer:-16\n",
      "The number -16 is negative\n"
     ]
    }
   ],
   "source": [
    "# check whether an integer is positive or negative\n",
    "\n",
    "x = int(input('Enter a non-zero integer:'))\n",
    "\n",
    "if x > 0 :\n",
    "    print('The number',x,' is positive')\n",
    "\n",
    "else:\n",
    "    print('The number',x, 'is negative')"
   ]
  },
  {
   "cell_type": "code",
   "execution_count": 59,
   "id": "1af8a465",
   "metadata": {},
   "outputs": [
    {
     "name": "stdout",
     "output_type": "stream",
     "text": [
      "Entee a positive integer:124\n",
      "The number 124  is even\n"
     ]
    }
   ],
   "source": [
    "# check whether an integer is even or odd\n",
    "\n",
    "x = int(input('Entee a positive integer:'))\n",
    "\n",
    "if x % 2 == 0:\n",
    "    print('The number',x,' is even')\n",
    "    \n",
    "else:\n",
    "    print('The number',x, 'is odd')"
   ]
  },
  {
   "cell_type": "code",
   "execution_count": 63,
   "id": "412d8e94",
   "metadata": {},
   "outputs": [
    {
     "name": "stdout",
     "output_type": "stream",
     "text": [
      "Enter a number :10\n",
      "Enter another number :10\n",
      "10  is equal to 10\n",
      "Program Completed\n"
     ]
    }
   ],
   "source": [
    "# check the realtionship between two number x and y \n",
    "\n",
    "\n",
    "x = int(input('Enter a number :'))\n",
    "\n",
    "y = int(input('Enter another number :'))\n",
    "\n",
    "if x < y :\n",
    "    print(x,' is less than',y)\n",
    "    \n",
    "elif x > y :\n",
    "    print(x,' is greater than',y)\n",
    "    \n",
    "else:\n",
    "    print(x,' is equal to',y)\n",
    "    \n",
    "print('Program Completed')"
   ]
  },
  {
   "cell_type": "code",
   "execution_count": 66,
   "id": "278debd5",
   "metadata": {},
   "outputs": [
    {
     "name": "stdout",
     "output_type": "stream",
     "text": [
      "Enter the first number :12\n",
      "Enter the second number :15\n",
      "x is less than y\n"
     ]
    }
   ],
   "source": [
    "# Nested if Statement\n",
    "\n",
    "x = int(input('Enter the first number :'))\n",
    "\n",
    "y = int(input('Enter the second number :'))\n",
    "\n",
    "if x == y:\n",
    "    print('x and y are equal')\n",
    "    print(x,'and',y,'are equal')\n",
    "else:\n",
    "    if x < y:\n",
    "        print('x is less than y')\n",
    "    else:\n",
    "        print('x is greater then y')"
   ]
  },
  {
   "cell_type": "code",
   "execution_count": 70,
   "id": "580119b4",
   "metadata": {},
   "outputs": [
    {
     "name": "stdout",
     "output_type": "stream",
     "text": [
      "Enter an integer:5\n",
      "x is a positive single digit number\n"
     ]
    }
   ],
   "source": [
    "# find a single digit positive interger\n",
    "\n",
    "x = int(input('Enter an integer:'))\n",
    "\n",
    "if x > 0:\n",
    "    if x < 10:\n",
    "        print('x is a positive single digit number')\n",
    "        "
   ]
  },
  {
   "cell_type": "code",
   "execution_count": 74,
   "id": "7fb24a34",
   "metadata": {},
   "outputs": [
    {
     "name": "stdout",
     "output_type": "stream",
     "text": [
      "Enter an integer:12\n",
      "x is not a positive single digit number\n"
     ]
    }
   ],
   "source": [
    "x = int(input('Enter an integer:'))\n",
    "\n",
    "if x < 10 and x > 0:\n",
    "    \n",
    "    print('x is a positive single digit number')\n",
    "\n",
    "else:\n",
    "    print('x is not a positive single digit number')\n",
    "    "
   ]
  },
  {
   "cell_type": "code",
   "execution_count": 85,
   "id": "2db4b7a0",
   "metadata": {},
   "outputs": [
    {
     "name": "stdout",
     "output_type": "stream",
     "text": [
      "Enter the character :%\n",
      "The character entered is not a letter, digit or space\n"
     ]
    }
   ],
   "source": [
    "# find the type of character that the user enters\n",
    "\n",
    "ch = input('Enter the character :')\n",
    "\n",
    "if ch.isalpha():\n",
    "    print('The character entered is a letter')\n",
    "    if ch.islower():\n",
    "        print('The character entered is in lower case')\n",
    "    elif ch.isupper():\n",
    "        print('The character entered is in upper case')\n",
    "        \n",
    "elif ch.isdigit():\n",
    "    print('The character entered is a digit')\n",
    "    \n",
    "elif ch.isspace():\n",
    "    print('The character entered is a space')\n",
    "    \n",
    "else:\n",
    "    print('The character entered is not a letter, digit or space')"
   ]
  },
  {
   "cell_type": "code",
   "execution_count": 94,
   "id": "c7c82868",
   "metadata": {},
   "outputs": [
    {
     "name": "stdout",
     "output_type": "stream",
     "text": [
      "Enter the name of the month :May\n",
      "May  has 31 days\n"
     ]
    }
   ],
   "source": [
    "# Accept name of a month, print the number of days in that month\n",
    "\n",
    "month = input('Enter the name of the month :')\n",
    "\n",
    "# The months which have 31 days are : Jan, Mar,May,July.Aug,Oct,Dec\n",
    "\n",
    "# The months which have 30 days are : April,June,Sept,November.\n",
    "\n",
    "# Feb has either 28 or 29 days\n",
    "\n",
    "if month == 'January' or month == 'March' or month == 'May' or month == 'July' or month == 'August' or month == 'October' or month == 'December':\n",
    "        print(month,' has 31 days')\n",
    "        \n",
    "elif month == 'April' or month =='June' or month == 'September' or month == 'November':\n",
    "            print(month,' has 3o days')\n",
    "elif month == 'February':\n",
    "            print(month,' has 28 or 29 days')\n",
    "else:\n",
    "    print(month,' is invalid')\n",
    "    "
   ]
  },
  {
   "cell_type": "code",
   "execution_count": 96,
   "id": "babd080e",
   "metadata": {},
   "outputs": [
    {
     "name": "stdout",
     "output_type": "stream",
     "text": [
      "Enter the name of the month :October\n",
      "October  is Monsoon Season\n"
     ]
    }
   ],
   "source": [
    "# Accept  the name of a month  and display the season\n",
    "\n",
    "# Summer months : March, April, May,June\n",
    "# Monsoon months : July, August, September,October\n",
    "# Winter months : November, December, January,February\n",
    "\n",
    "month = input('Enter the name of the month :')\n",
    "\n",
    "if month == 'January' or month == 'February' or month == 'November' or month == 'December':\n",
    "    print(month,' is Winter Season')\n",
    "    \n",
    "elif month == 'March' or month == 'April' or month == 'May' or month == 'June':\n",
    "    print(month,' is Summer Season')\n",
    "    \n",
    "elif month == 'July' or month == 'August' or month == 'September' or month == 'October':\n",
    "    print(month,' is Monsoon Season')\n",
    "    \n",
    "else:\n",
    "    print('The month is invalid')"
   ]
  },
  {
   "cell_type": "code",
   "execution_count": 99,
   "id": "4ec913a1",
   "metadata": {},
   "outputs": [
    {
     "name": "stdout",
     "output_type": "stream",
     "text": [
      "Enter the x number :50\n",
      "Enter the y number :100\n",
      "Enter the z number :150\n",
      "z is the greatest number\n"
     ]
    }
   ],
   "source": [
    "# Find the greatest of three numbers\n",
    "\n",
    "x = int(input('Enter the x number :'))\n",
    "\n",
    "y = int(input('Enter the y number :'))\n",
    "\n",
    "z = int(input('Enter the z number :'))\n",
    "\n",
    "if x > y  and x > z :\n",
    "    print('x is the greatest number')\n",
    "\n",
    "elif y > x and y > z:\n",
    "    print('y is the greatest number')\n",
    "\n",
    "else:\n",
    "    print('z is the greatest number')"
   ]
  },
  {
   "cell_type": "markdown",
   "id": "f051d5c6",
   "metadata": {},
   "source": [
    "# Week 3\n",
    "\n",
    "## Iterative Statements\n",
    "\n",
    "## 1.While Loop"
   ]
  },
  {
   "cell_type": "code",
   "execution_count": 2,
   "id": "b6d327ef",
   "metadata": {},
   "outputs": [
    {
     "name": "stdout",
     "output_type": "stream",
     "text": [
      "Welcome to Iterative Statements, Count = 0\n",
      "Welcome to Iterative Statements, Count = 1\n",
      "Welcome to Iterative Statements, Count = 2\n",
      "Welcome to Iterative Statements, Count = 3\n",
      "Welcome to Iterative Statements, Count = 4\n",
      "Outside the while statement\n"
     ]
    }
   ],
   "source": [
    "# print a message five times \n",
    "\n",
    "count = 0\n",
    "\n",
    "while count < 5:\n",
    "    print('Welcome to Iterative Statements, Count =',count)\n",
    "    count += 1\n",
    "    \n",
    "print('Outside the while statement')"
   ]
  },
  {
   "cell_type": "code",
   "execution_count": 5,
   "id": "254787f9",
   "metadata": {},
   "outputs": [
    {
     "name": "stdout",
     "output_type": "stream",
     "text": [
      "Enter the value of n :10\n",
      "count =  0\n",
      "count =  1\n",
      "count =  2\n",
      "count =  3\n",
      "count =  4\n",
      "count =  5\n",
      "count =  6\n",
      "count =  7\n",
      "count =  8\n",
      "count =  9\n"
     ]
    }
   ],
   "source": [
    "# Print values from 0 to n \n",
    "\n",
    "n = int(input('Enter the value of n :'))\n",
    "\n",
    "count = 0\n",
    "\n",
    "while count < n:\n",
    "    print('count = ',count)\n",
    "    count += 1"
   ]
  },
  {
   "cell_type": "code",
   "execution_count": 7,
   "id": "a7c45af1",
   "metadata": {},
   "outputs": [
    {
     "name": "stdout",
     "output_type": "stream",
     "text": [
      "Enter the value of n :10\n",
      "count =  1\n",
      "count =  2\n",
      "count =  3\n",
      "count =  4\n",
      "count =  5\n",
      "count =  6\n",
      "count =  7\n",
      "count =  8\n",
      "count =  9\n",
      "count =  10\n"
     ]
    }
   ],
   "source": [
    "# print values from 1 to n\n",
    "\n",
    "n = int(input('Enter the value of n :'))\n",
    "\n",
    "count = 1\n",
    "\n",
    "while count <= n:\n",
    "    print('count = ',count)\n",
    "    count += 1"
   ]
  },
  {
   "cell_type": "code",
   "execution_count": 8,
   "id": "83298054",
   "metadata": {},
   "outputs": [
    {
     "name": "stdout",
     "output_type": "stream",
     "text": [
      "Count = 0\n",
      "Count = 2\n",
      "Count = 4\n",
      "Count = 6\n",
      "Count = 8\n",
      "Count = 10\n"
     ]
    }
   ],
   "source": [
    "# print numbers from 0 to 10 with an increment of 2 \n",
    "\n",
    "count = 0\n",
    "\n",
    "while count <= 10:\n",
    "    print('Count =',count)\n",
    "    count +=2"
   ]
  },
  {
   "cell_type": "code",
   "execution_count": 9,
   "id": "b3b4e102",
   "metadata": {},
   "outputs": [
    {
     "name": "stdout",
     "output_type": "stream",
     "text": [
      "Enter the starting value of m :10\n",
      "Enter the ending value of n :20\n",
      "Count = 10\n",
      "Count = 12\n",
      "Count = 14\n",
      "Count = 16\n",
      "Count = 18\n",
      "Count = 20\n"
     ]
    }
   ],
   "source": [
    "# Print values from m to n, with an increment of 2 \n",
    "\n",
    "m = int(input('Enter the starting value of m :'))\n",
    "\n",
    "n = int(input('Enter the ending value of n :'))\n",
    "\n",
    "count = m \n",
    "\n",
    "while count <=n:\n",
    "    print('Count =',count)\n",
    "    count += 2\n"
   ]
  },
  {
   "cell_type": "code",
   "execution_count": 11,
   "id": "22f7ee0c",
   "metadata": {},
   "outputs": [
    {
     "name": "stdout",
     "output_type": "stream",
     "text": [
      "Count : 9\n",
      "Count : 8\n",
      "Count : 7\n",
      "Count : 6\n",
      "Count : 5\n",
      "Count : 4\n",
      "Count : 3\n",
      "Count : 2\n",
      "Count : 1\n",
      "Count : 0\n"
     ]
    }
   ],
   "source": [
    "# Print the numbers 9 to 0 \n",
    "\n",
    "count = 9\n",
    "\n",
    "while count >= 0:\n",
    "    print('Count :',count)\n",
    "    count -= 1"
   ]
  },
  {
   "cell_type": "code",
   "execution_count": 14,
   "id": "95352d23",
   "metadata": {},
   "outputs": [
    {
     "name": "stdout",
     "output_type": "stream",
     "text": [
      "Enter the value of n :5\n",
      "Enter a value :15\n",
      "Enter a value :25\n",
      "Enter a value :356\n",
      "Enter a value :45\n",
      "Enter a value :55\n",
      "The Average of entered numbers is : 99.2\n"
     ]
    }
   ],
   "source": [
    "# Calculate average of n\n",
    "\n",
    "n = int(input('Enter the value of n :'))\n",
    "\n",
    "sum = 0 \n",
    "\n",
    "count = 0\n",
    "\n",
    "while count < n:\n",
    "    num = int(input('Enter a value :'))\n",
    "    sum += num \n",
    "    count += 1\n",
    "    \n",
    "avg = sum/n\n",
    "\n",
    "print('The Average of entered numbers is :',avg)"
   ]
  },
  {
   "cell_type": "markdown",
   "id": "2b0dc68f",
   "metadata": {},
   "source": [
    "# 2. For Loop"
   ]
  },
  {
   "cell_type": "code",
   "execution_count": 18,
   "id": "2a4ca5de",
   "metadata": {},
   "outputs": [
    {
     "name": "stdout",
     "output_type": "stream",
     "text": [
      "range(0, 5)\n",
      "Welcome to for loop : 0\n",
      "Welcome to for loop : 1\n",
      "Welcome to for loop : 2\n",
      "Welcome to for loop : 3\n",
      "Welcome to for loop : 4\n"
     ]
    }
   ],
   "source": [
    "# Print a statement 5 times \n",
    "\n",
    "print(range(5))\n",
    "\n",
    "for i in range(0,5):\n",
    "    print('Welcome to for loop :',i)"
   ]
  },
  {
   "cell_type": "code",
   "execution_count": 21,
   "id": "761153ea",
   "metadata": {},
   "outputs": [
    {
     "name": "stdout",
     "output_type": "stream",
     "text": [
      "i = 0\n",
      "i = 1\n",
      "i = 2\n",
      "i = 3\n",
      "i = 4\n",
      "i = 5\n",
      "i = 6\n",
      "i = 7\n",
      "i = 8\n",
      "i = 9\n",
      "Outside the loop\n"
     ]
    }
   ],
   "source": [
    "# print numbers from 0 to 9\n",
    "\n",
    "for i in range(0,10):\n",
    "    print('i =',i)\n",
    "    \n",
    "print('Outside the loop')"
   ]
  },
  {
   "cell_type": "code",
   "execution_count": 22,
   "id": "7064eb8c",
   "metadata": {},
   "outputs": [
    {
     "name": "stdout",
     "output_type": "stream",
     "text": [
      "i = 0\n",
      "i = 2\n",
      "i = 4\n",
      "i = 6\n",
      "i = 8\n",
      "i = 10\n"
     ]
    }
   ],
   "source": [
    "# print numbers from 0 to 10 with an increment of 2\n",
    "\n",
    "for i in range(0,11,2):\n",
    "    print('i =',i)"
   ]
  },
  {
   "cell_type": "code",
   "execution_count": 25,
   "id": "bec9d7ed",
   "metadata": {},
   "outputs": [
    {
     "name": "stdout",
     "output_type": "stream",
     "text": [
      "10\n",
      "9\n",
      "8\n",
      "7\n",
      "6\n",
      "5\n",
      "4\n",
      "3\n",
      "2\n",
      "1\n"
     ]
    }
   ],
   "source": [
    "# print numbers from 10 to 1\n",
    "\n",
    "for i in range(10,0,-1):\n",
    "    print(i)"
   ]
  },
  {
   "cell_type": "code",
   "execution_count": 27,
   "id": "c6d17434",
   "metadata": {},
   "outputs": [
    {
     "name": "stdout",
     "output_type": "stream",
     "text": [
      "Enter the value of n :5\n",
      "Enter a value :10\n",
      "Enter a value :15\n",
      "Enter a value :20\n",
      "Enter a value :25\n",
      "Enter a value :30\n",
      "Average of the given number : 20.0\n"
     ]
    }
   ],
   "source": [
    "# Find the average of n numbers using for loop\n",
    "\n",
    "n = int(input('Enter the value of n :'))\n",
    "\n",
    "sum = 0\n",
    "\n",
    "for i in range(0,n):\n",
    "    num = int(input('Enter a value :'))\n",
    "    sum += num\n",
    "    \n",
    "avg = sum/n\n",
    "\n",
    "print('Average of the given number :',avg)"
   ]
  },
  {
   "cell_type": "markdown",
   "id": "5d7870d2",
   "metadata": {},
   "source": [
    "# 3. Break Statement"
   ]
  },
  {
   "cell_type": "code",
   "execution_count": 37,
   "id": "b83942c9",
   "metadata": {},
   "outputs": [
    {
     "name": "stdout",
     "output_type": "stream",
     "text": [
      "Before While.....\n",
      "i =  0\n",
      "i =  1\n",
      "i =  2\n",
      "i =  3\n",
      "i =  4\n",
      "i =  5\n",
      "i =  6\n",
      "i =  7\n",
      "Outside While Loop\n"
     ]
    }
   ],
   "source": [
    "# Example of break using while loop\n",
    "\n",
    "i = 0\n",
    "\n",
    "print('Before While.....')\n",
    "\n",
    "while i <= 9:\n",
    "    print('i = ',i)\n",
    "    if i == 7:\n",
    "        break\n",
    "    i += 1    \n",
    "print('Outside While Loop')"
   ]
  },
  {
   "cell_type": "code",
   "execution_count": 36,
   "id": "ce86ef4b",
   "metadata": {},
   "outputs": [
    {
     "name": "stdout",
     "output_type": "stream",
     "text": [
      "i = 0\n",
      "i = 1\n",
      "i = 2\n",
      "i = 3\n",
      "i = 4\n",
      "i = 5\n",
      "i = 6\n",
      "i = 7\n",
      "Outside of for loop\n"
     ]
    }
   ],
   "source": [
    "# Example of break using for loop\n",
    "\n",
    "for i in range (0,10):\n",
    "    print('i =',i)\n",
    "    if i == 7:\n",
    "        break\n",
    "print('Outside of for loop')"
   ]
  },
  {
   "cell_type": "markdown",
   "id": "9da61835",
   "metadata": {},
   "source": [
    "# 4.Continue Statement"
   ]
  },
  {
   "cell_type": "code",
   "execution_count": 39,
   "id": "0d952ec1",
   "metadata": {},
   "outputs": [
    {
     "name": "stdout",
     "output_type": "stream",
     "text": [
      "i = 0\n",
      "i = 1\n",
      "i = 2\n",
      "i = 3\n",
      "i = 4\n",
      "i = 5\n",
      "i = 6\n",
      "i = 8\n",
      "i = 9\n"
     ]
    }
   ],
   "source": [
    "# Example to demonstrate continue statement\n",
    "\n",
    "for i in range(0,10):\n",
    "    if i == 7:\n",
    "        continue\n",
    "    print('i =',i)"
   ]
  },
  {
   "cell_type": "code",
   "execution_count": 46,
   "id": "e244c8c4",
   "metadata": {},
   "outputs": [
    {
     "name": "stdout",
     "output_type": "stream",
     "text": [
      "i = 1\n",
      "i = 2\n",
      "i = 3\n",
      "i = 4\n",
      "i = 5\n",
      "i = 6\n",
      "i = 8\n",
      "i = 9\n",
      "i = 10\n",
      "Outside of while loop\n"
     ]
    }
   ],
   "source": [
    "# Example of continue statement with while loop\n",
    "\n",
    "i = 0\n",
    " \n",
    "while i < 10:\n",
    "    i += 1\n",
    "    if i == 7:\n",
    "        continue\n",
    "    print('i =',i)\n",
    "\n",
    "print('Outside of while loop' )"
   ]
  },
  {
   "cell_type": "markdown",
   "id": "81c8aed7",
   "metadata": {},
   "source": [
    "# 5. Pass Statement"
   ]
  },
  {
   "cell_type": "code",
   "execution_count": 48,
   "id": "a821d2bb",
   "metadata": {},
   "outputs": [
    {
     "name": "stdout",
     "output_type": "stream",
     "text": [
      "Enter an integer :1\n",
      "The value entered is not 10\n"
     ]
    }
   ],
   "source": [
    "# Example of pass statement\n",
    "\n",
    "n = int(input('Enter an integer :'))\n",
    "\n",
    "if n == 10:\n",
    "    pass\n",
    "\n",
    "else:\n",
    "    print('The value entered is not 10')\n",
    "    "
   ]
  },
  {
   "cell_type": "markdown",
   "id": "b7b8e868",
   "metadata": {},
   "source": [
    "# 6. Else statement with for loop"
   ]
  },
  {
   "cell_type": "code",
   "execution_count": 50,
   "id": "4e72fbcc",
   "metadata": {},
   "outputs": [
    {
     "name": "stdout",
     "output_type": "stream",
     "text": [
      "i = 0\n",
      "i = 1\n",
      "i = 2\n",
      "i = 3\n",
      "i = 4\n",
      "i = 5\n",
      "i = 6\n",
      "i = 7\n",
      "Outside of for loop\n"
     ]
    }
   ],
   "source": [
    "# Example\n",
    "\n",
    "for i in range(0,10):\n",
    "    print('i =',i)\n",
    "    if i == 7:\n",
    "        break\n",
    "else:\n",
    "    print('All iterations completed')\n",
    "    \n",
    "print('Outside of for loop')"
   ]
  },
  {
   "cell_type": "code",
   "execution_count": 51,
   "id": "245a093b",
   "metadata": {},
   "outputs": [
    {
     "name": "stdout",
     "output_type": "stream",
     "text": [
      "i = 0\n",
      "i = 1\n",
      "i = 2\n",
      "i = 3\n",
      "i = 4\n",
      "i = 5\n",
      "i = 6\n",
      "i = 7\n",
      "i = 8\n",
      "i = 9\n",
      "All iterations completed\n",
      "Outside of for loop\n"
     ]
    }
   ],
   "source": [
    "for i in range(0,10):\n",
    "    print('i =',i)\n",
    "   # if i == 7:\n",
    "   #     break\n",
    "else:\n",
    "    print('All iterations completed')\n",
    "    \n",
    "print('Outside of for loop')"
   ]
  },
  {
   "cell_type": "markdown",
   "id": "a586804d",
   "metadata": {},
   "source": [
    "# Programming examples"
   ]
  },
  {
   "cell_type": "code",
   "execution_count": 56,
   "id": "53b382ae",
   "metadata": {},
   "outputs": [
    {
     "name": "stdout",
     "output_type": "stream",
     "text": [
      "Enter an integer greater than 10 :20\n",
      "The even numbers from 1 to n are : 2\n",
      "The even numbers from 1 to n are : 4\n",
      "The even numbers from 1 to n are : 6\n",
      "The even numbers from 1 to n are : 8\n",
      "The even numbers from 1 to n are : 10\n",
      "The even numbers from 1 to n are : 12\n",
      "The even numbers from 1 to n are : 14\n",
      "The even numbers from 1 to n are : 16\n",
      "The even numbers from 1 to n are : 18\n",
      "The even numbers from 1 to n are : 20\n"
     ]
    }
   ],
   "source": [
    "# write a program to accept an integer n greater than 10. Then print all the even numbers from 1 to n\n",
    "\n",
    "n = int(input('Enter an integer greater than 10 :'))\n",
    "\n",
    "if n > 10:\n",
    "    for i in range(1,n+1):\n",
    "        if i % 2 == 0:\n",
    "            print('The even numbers from 1 to n are :',i)\n",
    "\n",
    "else:\n",
    "    print('Invalid value of n.')"
   ]
  },
  {
   "cell_type": "code",
   "execution_count": 59,
   "id": "a062bdff",
   "metadata": {},
   "outputs": [
    {
     "name": "stdout",
     "output_type": "stream",
     "text": [
      "Enter an integer n :107\n",
      "The number  107  is prime\n"
     ]
    }
   ],
   "source": [
    "# Write a program to accept a number n. Determine whether the number is prime or not \n",
    "\n",
    "n = int(input('Enter an integer n :'))\n",
    "\n",
    "for i in range(2,n):\n",
    "    if n % i == 0:\n",
    "        print('The number ',n,'is not prime')\n",
    "        break\n",
    "else:\n",
    "    print('The number ',n,' is prime')"
   ]
  },
  {
   "cell_type": "code",
   "execution_count": 107,
   "id": "0f9fd98f",
   "metadata": {},
   "outputs": [
    {
     "name": "stdout",
     "output_type": "stream",
     "text": [
      "Enter an integer n: 105\n",
      "The number 105 is not prime\n"
     ]
    }
   ],
   "source": [
    "n = int(input('Enter an integer n: '))\n",
    "\n",
    "if n <= 1:\n",
    "    print('The number', n, 'is not prime')\n",
    "else:\n",
    "    for i in range(2, n):\n",
    "        if n % i == 0:\n",
    "            print('The number', n, 'is not prime')\n",
    "            break\n",
    "    else:\n",
    "        print('The number', n, 'is prime')"
   ]
  },
  {
   "cell_type": "code",
   "execution_count": 106,
   "id": "2ff42ef6",
   "metadata": {},
   "outputs": [
    {
     "name": "stdout",
     "output_type": "stream",
     "text": [
      "Enter the string :hello\n",
      "The string  hello  is not a palindrom\n",
      "str1 : hello\n"
     ]
    }
   ],
   "source": [
    "# Write a program to accept a string. Determine whethe the string is palindrom or not\n",
    "# Example of palindroms are : madam, civic, level\n",
    "\n",
    "str1 = input('Enter the string :')\n",
    "\n",
    "rev = str1[::-1]\n",
    "\n",
    "for i in range(len(str1)):\n",
    "    if str1[i] != rev[i]:\n",
    "        print('The string ',str1,' is not a palindrom')\n",
    "        break\n",
    "else:\n",
    "    print('The string ',str1,' is a palindrom')"
   ]
  },
  {
   "cell_type": "code",
   "execution_count": 101,
   "id": "56569dac",
   "metadata": {},
   "outputs": [
    {
     "name": "stdout",
     "output_type": "stream",
     "text": [
      "Enter the string :hello\n",
      "The string  hello  is not a palindrom\n"
     ]
    }
   ],
   "source": [
    "str1 = input('Enter the string :')\n",
    "\n",
    "rev = str1[::-1]\n",
    "\n",
    "if str1 == rev:\n",
    "        print('The string ',str1,' is a palindrom')\n",
    "else:\n",
    "    print('The string ',str1,' is not a palindrom')"
   ]
  },
  {
   "cell_type": "code",
   "execution_count": 65,
   "id": "e011406f",
   "metadata": {},
   "outputs": [
    {
     "name": "stdout",
     "output_type": "stream",
     "text": [
      "Enter a sentence :Hello Students, We are in week 3 python programming.\n",
      "The no of spaces in the sentence is : 8\n"
     ]
    }
   ],
   "source": [
    "# write a program to accept a string from the user and count the no of spaces \n",
    "\n",
    "str1 = input('Enter a sentence :')\n",
    "\n",
    "count = 0\n",
    "\n",
    "for i in str1:\n",
    "    if i.isspace():\n",
    "        count += 1\n",
    "        \n",
    "print('The no of spaces in the sentence is :',count)"
   ]
  },
  {
   "cell_type": "code",
   "execution_count": 66,
   "id": "e0a5a8a0",
   "metadata": {},
   "outputs": [
    {
     "name": "stdout",
     "output_type": "stream",
     "text": [
      "Enter a sentence :Hello Team. We Are in Week 3 Python Course\n",
      "No of spaces in my_string str1 : 8\n"
     ]
    }
   ],
   "source": [
    "str1 = input('Enter a sentence :')\n",
    "\n",
    "print('No of spaces in my_string str1 :',str1.count(' '))\n"
   ]
  },
  {
   "cell_type": "code",
   "execution_count": 68,
   "id": "aae78140",
   "metadata": {},
   "outputs": [
    {
     "name": "stdout",
     "output_type": "stream",
     "text": [
      "Enter the sentenceEnter the sentenceHello Team. Good Morning All. We Are at the Week 3 Python Programming.\n",
      "Number of spaces : 14\n",
      "Number of lower : 59\n",
      "Number of upper : 11\n",
      "Number of digit : 1\n",
      "Number of others : 3\n"
     ]
    }
   ],
   "source": [
    "# Write a program to accept a string. Count and display the no of spaces, lowercase letters,uppercase letter and digits\n",
    "\n",
    "no_of_spaces = 0\n",
    "\n",
    "no_of_lower = 0\n",
    "\n",
    "no_of_upper = 0\n",
    "\n",
    "no_of_digit = 0\n",
    "\n",
    "others = 0\n",
    "\n",
    "str1 = input('Enter the sentence')\n",
    "\n",
    "for i in str1:\n",
    "    if i.isspace():\n",
    "        no_of_spaces += 1\n",
    "        \n",
    "    elif i.islower():\n",
    "        no_of_lower += 1\n",
    "    elif i.isupper():\n",
    "        no_of_upper += 1\n",
    "    elif i.isdigit():\n",
    "        no_of_digit += 1\n",
    "    else:\n",
    "        others += 1\n",
    "        \n",
    "print('Number of spaces :',no_of_spaces)\n",
    "\n",
    "print('Number of lower :',no_of_lower)\n",
    "\n",
    "print('Number of upper :',no_of_upper)\n",
    "\n",
    "print('Number of digit :',no_of_digit)\n",
    "\n",
    "print('Number of others :',others)\n"
   ]
  },
  {
   "cell_type": "code",
   "execution_count": 74,
   "id": "57102d83",
   "metadata": {},
   "outputs": [
    {
     "name": "stdout",
     "output_type": "stream",
     "text": [
      "Enter the sentence :a good day\n",
      "a good day is not a palindrom\n",
      "agoodday\n"
     ]
    }
   ],
   "source": [
    "# Write a program to find oput whether a multi-word sentence is a palindrom or not \n",
    "\n",
    "str1 = input('Enter the sentence :')\n",
    "\n",
    "str2 = str1.replace(' ','')\n",
    "\n",
    "rev = str2[::-1]\n",
    "\n",
    "for i in range(len(str2)):\n",
    "    if str2[i] != rev[i]:\n",
    "        print(str1, 'is not a palindrom')\n",
    "        break\n",
    "else:\n",
    "    print(str1, 'is a palindrom')\n"
   ]
  },
  {
   "cell_type": "code",
   "execution_count": 79,
   "id": "0b11af6c",
   "metadata": {},
   "outputs": [
    {
     "name": "stdout",
     "output_type": "stream",
     "text": [
      "Enter the number to conver (greater than 0) :10\n",
      "The binary equivalent of is : 1010\n"
     ]
    }
   ],
   "source": [
    "# write a program to accept a decimel integer and print its binay equivalent\n",
    "\n",
    "'''5 = 101\n",
    "6 = 110\n",
    "7 = 111\n",
    "10 = 1010\n",
    "15 = 1111'''\n",
    "\n",
    "result = '' # result will hold the binary equivalent number\n",
    "\n",
    "q = int(input('Enter the number to conver (greater than 0) :'))\n",
    "\n",
    "while q != 0:\n",
    "    r = q % 2\n",
    "    result += str(r)\n",
    "    q //= 2  \n",
    "    \n",
    "result = result[::-1]\n",
    "\n",
    "print('The binary equivalent of is :',result)"
   ]
  },
  {
   "cell_type": "code",
   "execution_count": 88,
   "id": "fc1dc59b",
   "metadata": {},
   "outputs": [
    {
     "name": "stdout",
     "output_type": "stream",
     "text": [
      "Enter the number to conver (greater than 0) :10\n",
      "0\n",
      "0\n",
      "5\n",
      "1\n",
      "01\n",
      "2\n",
      "0\n",
      "010\n",
      "1\n",
      "1\n",
      "0101\n",
      "0\n",
      "The binary equivalent of is : 1010\n"
     ]
    }
   ],
   "source": [
    "result = '' # result will hold the binary equivalent number\n",
    "\n",
    "q = int(input('Enter the number to conver (greater than 0) :'))\n",
    "\n",
    "while q != 0:\n",
    "    r = q % 2\n",
    "    print(r)\n",
    "    result += str(r)\n",
    "    print(result)\n",
    "    q //= 2  \n",
    "    print(q)\n",
    "    \n",
    "result = result[::-1]\n",
    "\n",
    "print('The binary equivalent of is :',result)"
   ]
  },
  {
   "cell_type": "code",
   "execution_count": 96,
   "id": "bdc282b0",
   "metadata": {},
   "outputs": [
    {
     "name": "stdout",
     "output_type": "stream",
     "text": [
      "0\n",
      "1\n"
     ]
    }
   ],
   "source": [
    "q = 1\n",
    "\n",
    "q //= 2\n",
    "\n",
    "print(q)\n",
    "\n",
    "s = 1\n",
    "\n",
    "s % 2\n",
    "\n",
    "print(s)"
   ]
  },
  {
   "cell_type": "markdown",
   "id": "3570a81c",
   "metadata": {},
   "source": [
    "# 8. Console Inputs"
   ]
  },
  {
   "cell_type": "code",
   "execution_count": 112,
   "id": "e90d3bf3",
   "metadata": {},
   "outputs": [
    {
     "name": "stdout",
     "output_type": "stream",
     "text": [
      "Enter the values of a, b and c :10 20 30\n",
      "10   20   30\n"
     ]
    }
   ],
   "source": [
    "# Example \n",
    "\n",
    "a, b, c = input('Enter the values of a, b and c :').split()\n",
    "\n",
    "print(a,' ',b,' ',c)"
   ]
  },
  {
   "cell_type": "markdown",
   "id": "387ae037",
   "metadata": {},
   "source": [
    "# 9. Console Output"
   ]
  },
  {
   "cell_type": "code",
   "execution_count": 118,
   "id": "b82a5e44",
   "metadata": {},
   "outputs": [
    {
     "name": "stdout",
     "output_type": "stream",
     "text": [
      "Enter the values of a, b and c :10 20 30 \n",
      "10,20,30\n",
      "This is a new statement\n"
     ]
    }
   ],
   "source": [
    "# Example\n",
    "\n",
    "a, b, c = input('Enter the values of a, b and c :').split()\n",
    "\n",
    "print(a,b,c,sep =',',end = '\\n') # '' no space it continues the next statement \\t' gives a tab and '\\n' gives a next line \n",
    "\n",
    "print('This is a new statement')"
   ]
  },
  {
   "cell_type": "markdown",
   "id": "61c8522f",
   "metadata": {},
   "source": [
    "# 10. Formatted Output"
   ]
  },
  {
   "cell_type": "code",
   "execution_count": 130,
   "id": "41bba238",
   "metadata": {},
   "outputs": [
    {
     "name": "stdout",
     "output_type": "stream",
     "text": [
      "radius = 1.5676\n",
      "length = 10.5, breadth = 12.66, radius = 1.5676, name = Subash Chandra Bose\n",
      "Subash    \n",
      "Chandra   \n",
      "Bose      \n",
      "radius = 1.5676, length = 10.5, breadth = 12.66\n",
      "name = Ramesh, age = 30, salary = 45000\n"
     ]
    }
   ],
   "source": [
    "# Example\n",
    "\n",
    "r, l, b, name = 1.5676, 10.5, 12.66, 'Subash Chandra Bose'\n",
    "\n",
    "print(f'radius = {r}')\n",
    "\n",
    "print(f'length = {l}, breadth = {b}, radius = {r}, name = {name}')\n",
    "\n",
    "for i in name.split():\n",
    "    print(f'{i:10}')\n",
    "    \n",
    "# Format Funstion\n",
    "\n",
    "\n",
    "name, age, salary = 'Ramesh', 30, 45000 \n",
    "\n",
    "print('radius = {}, length = {}, breadth = {}'.format(r,l,b))\n",
    "\n",
    "print('name = {}, age = {}, salary = {}'.format(name,age,salary))"
   ]
  },
  {
   "cell_type": "code",
   "execution_count": 136,
   "id": "b992e2be",
   "metadata": {},
   "outputs": [
    {
     "name": "stdout",
     "output_type": "stream",
     "text": [
      "radius = 1.5676, length = 10.5, breadth = 12.66\n",
      "age = 30, salary = 45000, name = Ramesh\n",
      "name = Ramesh         , salary =      45000\n",
      "radius =       1.57\n"
     ]
    }
   ],
   "source": [
    "# print in any desired order\n",
    "\n",
    "print('radius = {2}, length = {1}, breadth = {0}'.format(b,l,r))\n",
    "\n",
    "print('age = {1}, salary = {2}, name = {0}'.format(name,age,salary))\n",
    "\n",
    "# print name in 15 coulums and salary in 10 columns \n",
    "\n",
    "print('name = {0:15}, salary = {1:10}'.format(name,salary))\n",
    "\n",
    "# print the radius in 10 coulmns with only 2 decimel spaces\n",
    "\n",
    "print('radius = {0:10.2f}'.format(r)) #2f decimel values  "
   ]
  },
  {
   "cell_type": "code",
   "execution_count": null,
   "id": "e387edf0",
   "metadata": {},
   "outputs": [],
   "source": []
  },
  {
   "cell_type": "code",
   "execution_count": null,
   "id": "880ee0d0",
   "metadata": {},
   "outputs": [],
   "source": []
  },
  {
   "cell_type": "code",
   "execution_count": null,
   "id": "64836f2b",
   "metadata": {},
   "outputs": [],
   "source": []
  },
  {
   "cell_type": "code",
   "execution_count": null,
   "id": "9a8260c2",
   "metadata": {},
   "outputs": [],
   "source": []
  },
  {
   "cell_type": "code",
   "execution_count": null,
   "id": "4d2a28d2",
   "metadata": {},
   "outputs": [],
   "source": []
  }
 ],
 "metadata": {
  "kernelspec": {
   "display_name": "Python 3 (ipykernel)",
   "language": "python",
   "name": "python3"
  },
  "language_info": {
   "codemirror_mode": {
    "name": "ipython",
    "version": 3
   },
   "file_extension": ".py",
   "mimetype": "text/x-python",
   "name": "python",
   "nbconvert_exporter": "python",
   "pygments_lexer": "ipython3",
   "version": "3.11.5"
  }
 },
 "nbformat": 4,
 "nbformat_minor": 5
}
