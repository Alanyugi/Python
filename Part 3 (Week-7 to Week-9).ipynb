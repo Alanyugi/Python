{
 "cells": [
  {
   "cell_type": "markdown",
   "id": "ef7cdce8",
   "metadata": {},
   "source": [
    "# Week 7\n",
    "\n",
    "## OOPS - Object  Oriented Programming \n",
    "\n",
    "### Classes & Objects "
   ]
  },
  {
   "cell_type": "code",
   "execution_count": 6,
   "id": "c02011c8",
   "metadata": {},
   "outputs": [],
   "source": [
    "# An example employee class to demonstrate the class and object\n",
    "\n",
    "class Employee:\n",
    "    def set_data(self,n,a,s):\n",
    "        self._name = n\n",
    "        self._age = a\n",
    "        self._salary = s\n",
    "    \n",
    "    def display_data(self):\n",
    "        print('Name :',self._name)\n",
    "        print('Age :',self._age)\n",
    "        print('Salary :',self._salary)"
   ]
  },
  {
   "cell_type": "code",
   "execution_count": 9,
   "id": "163136ad",
   "metadata": {},
   "outputs": [
    {
     "name": "stdout",
     "output_type": "stream",
     "text": [
      "Name : Ramesh\n",
      "Age : 25\n",
      "Salary : 20000\n",
      "Name : Suresh\n",
      "Age : 27\n",
      "Salary : 27000\n",
      "Name : Dinesh\n",
      "Age : 26\n",
      "Salary : 30000\n"
     ]
    }
   ],
   "source": [
    "# Create objects of Employee class\n",
    "\n",
    "e1 = Employee()\n",
    "e1.set_data('Ramesh',25,20000)\n",
    "\n",
    "e2 = Employee()\n",
    "e2.set_data('Suresh',27,27000)\n",
    "\n",
    "e1.display_data()\n",
    "\n",
    "e2.display_data()\n",
    "\n",
    "e1.set_data('Dinesh',26,30000)\n",
    "e1.display_data()"
   ]
  },
  {
   "cell_type": "code",
   "execution_count": 21,
   "id": "932b7239",
   "metadata": {},
   "outputs": [],
   "source": [
    "# Demonstrate init and del functions in employee class\n",
    "\n",
    "class Employee1:\n",
    "    ''' An Employee class to create and manipulate Employee Objects'''\n",
    "    def __init__(self, n='', a=0, s=0.0):  # Constructor\n",
    "        self._name = n\n",
    "        self._age = a\n",
    "        self._salary = s\n",
    "        \n",
    "    def set_data(self,n,a,s):\n",
    "        self._name = n\n",
    "        self._age = a\n",
    "        self._salary = s\n",
    "    \n",
    "    def display_data(self):\n",
    "        print('Name :',self._name)\n",
    "        print('Age :',self._age)\n",
    "        print('Salary :',self._salary)\n",
    "        \n",
    "    # def __del__(self):\n",
    "       # print('Deleting the objects :'+str(self))\n",
    "        "
   ]
  },
  {
   "cell_type": "code",
   "execution_count": 23,
   "id": "62e260be",
   "metadata": {},
   "outputs": [
    {
     "name": "stdout",
     "output_type": "stream",
     "text": [
      "Name : Ramesh\n",
      "Age : 26\n",
      "Salary : 28000\n",
      "Name : \n",
      "Age : 0\n",
      "Salary : 0.0\n",
      "Name : Mahesh\n",
      "Age : 29\n",
      "Salary : 32000\n"
     ]
    }
   ],
   "source": [
    "# Creating Objects \n",
    "\n",
    "e1 = Employee1('Ramesh',26,28000)\n",
    "\n",
    "e1.display_data()\n",
    "\n",
    "e2 = Employee1()\n",
    "\n",
    "e2.display_data()\n",
    "\n",
    "e2.set_data('Mahesh',29,32000)\n",
    "e2.display_data()"
   ]
  },
  {
   "cell_type": "code",
   "execution_count": 58,
   "id": "c4560767",
   "metadata": {},
   "outputs": [],
   "source": [
    "# Demonstrate  class variables and class methods\n",
    "\n",
    "class Employee2:\n",
    "    \n",
    "    instance_count = 0\n",
    "    \n",
    "    def __init__(self, n='', a=0, s=0.0):  # Constructor\n",
    "        Employee2.increment_instance_count()\n",
    "        self._name = n\n",
    "        self._age = a\n",
    "        self._salary = s\n",
    "        \n",
    "    def set_data(self,n,a,s):\n",
    "        self._name = n\n",
    "        self._age = a\n",
    "        self._salary = s\n",
    "    \n",
    "    def display_data(self):\n",
    "        print('Name :',self._name)\n",
    "        print('Age :',self._age)\n",
    "        print('Salary :',self._salary)\n",
    "        \n",
    "    @classmethod   # Decorator\n",
    "    def increment_instance_count(cls):\n",
    "        cls.instance_count +=1"
   ]
  },
  {
   "cell_type": "code",
   "execution_count": 59,
   "id": "10e7bc2b",
   "metadata": {},
   "outputs": [
    {
     "name": "stdout",
     "output_type": "stream",
     "text": [
      "Number of employee objects created so far : 3\n"
     ]
    }
   ],
   "source": [
    "# Objects\n",
    "\n",
    "e1 = Employee2()\n",
    "\n",
    "e2 = Employee2('Ramesh', 25, 30000)\n",
    "\n",
    "e3 = Employee2('Suresh',28,33000)\n",
    "\n",
    "print('Number of employee objects created so far :',Employee2.instance_count)"
   ]
  },
  {
   "cell_type": "code",
   "execution_count": 60,
   "id": "1f73ab73",
   "metadata": {},
   "outputs": [
    {
     "data": {
      "text/plain": [
       "mappingproxy({'__module__': '__main__',\n",
       "              'instance_count': 3,\n",
       "              '__init__': <function __main__.Employee2.__init__(self, n='', a=0, s=0.0)>,\n",
       "              'set_data': <function __main__.Employee2.set_data(self, n, a, s)>,\n",
       "              'display_data': <function __main__.Employee2.display_data(self)>,\n",
       "              'increment_instance_count': <classmethod(<function Employee2.increment_instance_count at 0x00000170D045D760>)>,\n",
       "              '__dict__': <attribute '__dict__' of 'Employee2' objects>,\n",
       "              '__weakref__': <attribute '__weakref__' of 'Employee2' objects>,\n",
       "              '__doc__': None})"
      ]
     },
     "execution_count": 60,
     "metadata": {},
     "output_type": "execute_result"
    }
   ],
   "source": [
    "# vars() and dir() functions\n",
    "\n",
    "vars(Employee2) # Dictionary"
   ]
  },
  {
   "cell_type": "code",
   "execution_count": 61,
   "id": "846434af",
   "metadata": {},
   "outputs": [
    {
     "data": {
      "text/plain": [
       "mappingproxy({'__module__': '__main__',\n",
       "              '__doc__': ' An Employee class to create and manipulate Employee Objects',\n",
       "              '__init__': <function __main__.Employee1.__init__(self, n='', a=0, s=0.0)>,\n",
       "              'set_data': <function __main__.Employee1.set_data(self, n, a, s)>,\n",
       "              'display_data': <function __main__.Employee1.display_data(self)>,\n",
       "              '__dict__': <attribute '__dict__' of 'Employee1' objects>,\n",
       "              '__weakref__': <attribute '__weakref__' of 'Employee1' objects>})"
      ]
     },
     "execution_count": 61,
     "metadata": {},
     "output_type": "execute_result"
    }
   ],
   "source": [
    "vars(Employee1)"
   ]
  },
  {
   "cell_type": "code",
   "execution_count": 62,
   "id": "2456d8fa",
   "metadata": {},
   "outputs": [
    {
     "data": {
      "text/plain": [
       "['__class__',\n",
       " '__delattr__',\n",
       " '__dict__',\n",
       " '__dir__',\n",
       " '__doc__',\n",
       " '__eq__',\n",
       " '__format__',\n",
       " '__ge__',\n",
       " '__getattribute__',\n",
       " '__getstate__',\n",
       " '__gt__',\n",
       " '__hash__',\n",
       " '__init__',\n",
       " '__init_subclass__',\n",
       " '__le__',\n",
       " '__lt__',\n",
       " '__module__',\n",
       " '__ne__',\n",
       " '__new__',\n",
       " '__reduce__',\n",
       " '__reduce_ex__',\n",
       " '__repr__',\n",
       " '__setattr__',\n",
       " '__sizeof__',\n",
       " '__str__',\n",
       " '__subclasshook__',\n",
       " '__weakref__',\n",
       " 'display_data',\n",
       " 'increment_instance_count',\n",
       " 'instance_count',\n",
       " 'set_data']"
      ]
     },
     "execution_count": 62,
     "metadata": {},
     "output_type": "execute_result"
    }
   ],
   "source": [
    "dir(Employee2) # list of attributes"
   ]
  },
  {
   "cell_type": "code",
   "execution_count": 64,
   "id": "1128a863",
   "metadata": {},
   "outputs": [
    {
     "data": {
      "text/plain": [
       "['__class__',\n",
       " '__delattr__',\n",
       " '__dict__',\n",
       " '__dir__',\n",
       " '__doc__',\n",
       " '__eq__',\n",
       " '__format__',\n",
       " '__ge__',\n",
       " '__getattribute__',\n",
       " '__getstate__',\n",
       " '__gt__',\n",
       " '__hash__',\n",
       " '__init__',\n",
       " '__init_subclass__',\n",
       " '__le__',\n",
       " '__lt__',\n",
       " '__module__',\n",
       " '__ne__',\n",
       " '__new__',\n",
       " '__reduce__',\n",
       " '__reduce_ex__',\n",
       " '__repr__',\n",
       " '__setattr__',\n",
       " '__sizeof__',\n",
       " '__str__',\n",
       " '__subclasshook__',\n",
       " '__weakref__',\n",
       " '_age',\n",
       " '_name',\n",
       " '_salary',\n",
       " 'display_data',\n",
       " 'increment_instance_count',\n",
       " 'instance_count',\n",
       " 'set_data']"
      ]
     },
     "execution_count": 64,
     "metadata": {},
     "output_type": "execute_result"
    }
   ],
   "source": [
    "dir(e1)"
   ]
  },
  {
   "cell_type": "code",
   "execution_count": 81,
   "id": "275e7b35",
   "metadata": {},
   "outputs": [],
   "source": [
    "# Implement operator overloading on the Quantity class\n",
    "\n",
    "class Quantity:\n",
    "    def __init__(self,v = 0):\n",
    "        self._value = v\n",
    "        \n",
    "    def __add__(self,other):\n",
    "        new_value = self._value + other._value\n",
    "        return Quantity(new_value)\n",
    "    \n",
    "    def __sub__(self,other):\n",
    "        new_value = self._value - other._value\n",
    "        return Quantity(new_value)\n",
    "    \n",
    "    def __pow__(self,other):\n",
    "        new_value = self._value ** other._value\n",
    "        return Quantity(new_value) \n",
    "    \n",
    "    def __lt__(self,other):\n",
    "        return self._value < other._value\n",
    "        \n",
    "    def __str__(self):\n",
    "        return str(self._value)\n",
    "    "
   ]
  },
  {
   "cell_type": "code",
   "execution_count": 82,
   "id": "a5ccbd18",
   "metadata": {},
   "outputs": [
    {
     "name": "stdout",
     "output_type": "stream",
     "text": [
      "q1 = 12 q2 = 10\n",
      "The sum of q1 and q2 is = 22\n",
      "The subtraction of q1 and q2 is = 2\n",
      "12  to the power of  2  is = 144\n",
      "10  is less than  12\n"
     ]
    }
   ],
   "source": [
    "# Objects\n",
    "q1 = Quantity(12)\n",
    "\n",
    "q2 = Quantity(10)\n",
    "\n",
    "q3 = Quantity()\n",
    "\n",
    "q4 = Quantity()\n",
    "\n",
    "q5 = Quantity()\n",
    "\n",
    "print('q1 =',q1,'q2 =',q2)\n",
    "\n",
    "q3 = q1 + q2\n",
    "\n",
    "print('The sum of q1 and q2 is =',q3)\n",
    "\n",
    "q4 = q1 - q2\n",
    "\n",
    "print('The subtraction of q1 and q2 is =',q4)\n",
    "\n",
    "q5 = q1 ** q4\n",
    "\n",
    "print(q1,' to the power of ',q4,' is =',q5)\n",
    "\n",
    "if q2 < q1 :\n",
    "    print(q2,' is less than ',q1)"
   ]
  },
  {
   "cell_type": "code",
   "execution_count": 83,
   "id": "e0d2fb1c",
   "metadata": {},
   "outputs": [],
   "source": [
    "# Code Reuse - Containership & Inheritance\n",
    "\n",
    "# An example to demonstrate containership\n",
    "\n",
    "class Department:\n",
    "    def set_department(self):\n",
    "        self._id = input('Enter department ID :')\n",
    "        self._name = input('Enter department name :')\n",
    "        \n",
    "    def display_department(self):\n",
    "        print('Department ID :',self._id)\n",
    "        print('Department Name :',self._name)\n",
    "        \n",
    "class Employee3:\n",
    "    def set_employee(self):\n",
    "        self._id = input('Enter Employee ID :')\n",
    "        self._ename = input('Enter Employee Name :')\n",
    "        self._dept = Department()\n",
    "        self._dept.set_department()\n",
    "        \n",
    "    def display_employee(self):\n",
    "        print('Employee ID :',self._id)\n",
    "        print('Employee Name :',self._ename)\n",
    "        self._dept.display_department()\n"
   ]
  },
  {
   "cell_type": "code",
   "execution_count": 85,
   "id": "ada84d34",
   "metadata": {},
   "outputs": [
    {
     "name": "stdout",
     "output_type": "stream",
     "text": [
      "Enter Employee ID :101\n",
      "Enter Employee Name :Ramesh\n",
      "Enter department ID :11\n",
      "Enter department name :Mechanical\\\n",
      "------------------------------\n",
      "Employee ID : 101\n",
      "Employee Name : Ramesh\n",
      "Department ID : 11\n",
      "Department Name : Mechanical\\\n"
     ]
    }
   ],
   "source": [
    "# Objects\n",
    "\n",
    "emp = Employee3()\n",
    "\n",
    "emp.set_employee()\n",
    "\n",
    "print('-' * 30)\n",
    "\n",
    "emp.display_employee()"
   ]
  },
  {
   "cell_type": "code",
   "execution_count": 105,
   "id": "a96b4f31",
   "metadata": {},
   "outputs": [],
   "source": [
    "# Class Inheritance\n",
    "\n",
    "# Parent Class \n",
    "\n",
    "class Person:\n",
    "    def __init__(self,n,a):\n",
    "        self._name = n\n",
    "        self._age = a\n",
    "        \n",
    "    def birthday(self):\n",
    "        print('Happy Birthday, you were :',self._age)\n",
    "        self._age +=1\n",
    "        print('Now your age is :',self._age)\n",
    "        \n",
    "    def __str__(self):   # Method Overriding \n",
    "        return self._name + ' is ' + str(self._age) + ' years old '\n",
    "    "
   ]
  },
  {
   "cell_type": "code",
   "execution_count": 106,
   "id": "235b6168",
   "metadata": {},
   "outputs": [],
   "source": [
    "# Child Class / Sub Class / Derivedb Class\n",
    "\n",
    "class Employee4(Person):\n",
    "    def __init__(self,n,a,i):\n",
    "        super().__init__(n,a) # invoking the init method of the super class\n",
    "        self._id = i\n",
    "        \n",
    "    def calculate_pay(self,hours_worked):\n",
    "        rate_of_pay = 7.5\n",
    "        if self._age >= 21:\n",
    "            rate_of_pay += 2.50\n",
    "        return hours_worked * rate_of_pay\n",
    "        "
   ]
  },
  {
   "cell_type": "code",
   "execution_count": 107,
   "id": "6199bba0",
   "metadata": {},
   "outputs": [
    {
     "name": "stdout",
     "output_type": "stream",
     "text": [
      " A person only object \n",
      "The person object p is : Mahesh is 24 years old \n",
      "**************************************************\n",
      "An Emplopyee object :\n",
      "Happy Birthday, you were : 30\n",
      "Now your age is : 31\n",
      "Suresh is 31 years old   Pay of emplopyee for 40 hours is : 400.0\n",
      "**************************************************\n"
     ]
    }
   ],
   "source": [
    "print(' A person only object ')\n",
    "p = Person('Mahesh',24)\n",
    "print('The person object p is :',p)\n",
    "\n",
    "print('*' * 50)\n",
    "\n",
    "\n",
    "print('An Emplopyee object :')\n",
    "\n",
    "e = Employee4('Suresh',30,1022)\n",
    "\n",
    "e.birthday()\n",
    "\n",
    "print(e,' Pay of emplopyee for 40 hours is :',e.calculate_pay(40))\n",
    "\n",
    "print('*' * 50)"
   ]
  },
  {
   "cell_type": "code",
   "execution_count": 108,
   "id": "8d823aa2",
   "metadata": {},
   "outputs": [],
   "source": [
    "# Inheritance from Employee4 class\n",
    "\n",
    "class SalesPerson(Employee4):\n",
    "    def __init__(self,n,a,i,r,s):\n",
    "        super().__init__(n,a,i)\n",
    "        self._region = r\n",
    "        self._sales = s\n",
    "        \n",
    "    def bonus(self):\n",
    "        return self._sales * 0.5\n",
    "    \n",
    "    def __str__(self):   # Method Overriding \n",
    "        return self._name + ' is ' + str(self._age) + ' years old, ID is : ' + str(self._id) + ' region is ' + str(self._region) "
   ]
  },
  {
   "cell_type": "code",
   "execution_count": 109,
   "id": "78ad605b",
   "metadata": {},
   "outputs": [
    {
     "name": "stdout",
     "output_type": "stream",
     "text": [
      "Sales Person object\n",
      "Happy Birthday, you were : 25\n",
      "Now your age is : 26\n",
      "Ramesh is 26 years old, ID is : 1012 region is UK  Pay of this object for 40 hrs is  400.0\n",
      "Bonus is : 7500.0\n"
     ]
    }
   ],
   "source": [
    "print('Sales Person object')\n",
    "\n",
    "s = SalesPerson('Ramesh',25,1012,'UK',15000)\n",
    "\n",
    "s.birthday()\n",
    "\n",
    "print(s,' Pay of this object for 40 hrs is ',s.calculate_pay(40))\n",
    "\n",
    "print('Bonus is :',s.bonus())"
   ]
  },
  {
   "cell_type": "markdown",
   "id": "bc132329",
   "metadata": {},
   "source": [
    "# Week 8 \n",
    "\n",
    "### Iterators"
   ]
  },
  {
   "cell_type": "code",
   "execution_count": 5,
   "id": "4221ff64",
   "metadata": {},
   "outputs": [],
   "source": [
    "# Program to implement an iterator called Evens that returns the even numbers upto a limit\n",
    "\n",
    "class Evens:\n",
    "    def __init__(self,l):\n",
    "        self._limit = l\n",
    "        self._val = 0\n",
    "        \n",
    "    # The _iter__method makes this class iterable\n",
    "    \n",
    "    def __iter__(self):\n",
    "        return self\n",
    "    \n",
    "    # The __next__ method makes this class an iterator\n",
    "    \n",
    "    def __next__(self):\n",
    "        if self._val > self._limit:\n",
    "            raise StopIteration\n",
    "            \n",
    "        else:\n",
    "            return_val = self._val\n",
    "            self._val += 2\n",
    "        return return_val"
   ]
  },
  {
   "cell_type": "code",
   "execution_count": 6,
   "id": "8f168813",
   "metadata": {},
   "outputs": [
    {
     "name": "stdout",
     "output_type": "stream",
     "text": [
      "Start Iterator\n",
      "Enter the limit :50\n",
      "Evens from 0 to n\n",
      "i =  0\n",
      "i =  2\n",
      "i =  4\n",
      "i =  6\n",
      "i =  8\n",
      "i =  10\n",
      "i =  12\n",
      "i =  14\n",
      "i =  16\n",
      "i =  18\n",
      "i =  20\n",
      "i =  22\n",
      "i =  24\n",
      "i =  26\n",
      "i =  28\n",
      "i =  30\n",
      "i =  32\n",
      "i =  34\n",
      "i =  36\n",
      "i =  38\n",
      "i =  40\n",
      "i =  42\n",
      "i =  44\n",
      "i =  46\n",
      "i =  48\n",
      "i =  50\n",
      "End of Iterator\n"
     ]
    }
   ],
   "source": [
    "print('Start Iterator')\n",
    "\n",
    "n = int(input('Enter the limit :'))\n",
    "\n",
    "print('Evens from 0 to n')\n",
    "\n",
    "for i in Evens(n):\n",
    "    print('i = ',i )\n",
    "          \n",
    "print('End of Iterator')"
   ]
  },
  {
   "cell_type": "code",
   "execution_count": 2,
   "id": "58a54bb5",
   "metadata": {},
   "outputs": [],
   "source": [
    "# Program to accept a value of n. Implement an iterator which returns factorials upto n\n",
    "\n",
    "class Fact:\n",
    "    def __init__(self,l):\n",
    "        self._limit = l\n",
    "        self._val = 0\n",
    "        \n",
    "    def __iter__(self):\n",
    "        return self\n",
    "    \n",
    "    def fact(self,num):\n",
    "        prod = 1\n",
    "        for i in range(1, num+1):\n",
    "            prod *= i\n",
    "            \n",
    "        return prod\n",
    "    \n",
    "    def __next__(self):\n",
    "        if self._val > self._limit:\n",
    "            raise StopIteration\n",
    "            \n",
    "        else:\n",
    "            return_val = self.fact(self._val)\n",
    "            self._val += 1\n",
    "            return return_val"
   ]
  },
  {
   "cell_type": "code",
   "execution_count": 5,
   "id": "a7b0cc86",
   "metadata": {},
   "outputs": [
    {
     "name": "stdout",
     "output_type": "stream",
     "text": [
      "Start Iterator\n",
      "Enter the limit (n greater than 1) :10\n",
      "Factorials from 0 to n\n",
      "Factorials =  1\n",
      "Factorials =  1\n",
      "Factorials =  2\n",
      "Factorials =  6\n",
      "Factorials =  24\n",
      "Factorials =  120\n",
      "Factorials =  720\n",
      "Factorials =  5040\n",
      "Factorials =  40320\n",
      "Factorials =  362880\n",
      "Factorials =  3628800\n",
      "End of Iterator\n"
     ]
    }
   ],
   "source": [
    "print('Start Iterator')\n",
    "\n",
    "n = int(input('Enter the limit (n greater than 1) :'))\n",
    "\n",
    "print('Factorials from 0 to n')\n",
    "\n",
    "for i in Fact(n):\n",
    "    print('Factorials = ',i )\n",
    "          \n",
    "print('End of Iterator')"
   ]
  },
  {
   "cell_type": "markdown",
   "id": "4d03dccf",
   "metadata": {},
   "source": [
    "# Exception Handling"
   ]
  },
  {
   "cell_type": "code",
   "execution_count": 10,
   "id": "a62d9121",
   "metadata": {},
   "outputs": [
    {
     "name": "stdout",
     "output_type": "stream",
     "text": [
      "Zero Division Error in runcalc function\n"
     ]
    }
   ],
   "source": [
    "# Example\n",
    "\n",
    "def runcalc(x):\n",
    "    x/0\n",
    "    \n",
    "try:\n",
    "    runcalc(6)\n",
    "    \n",
    "except ZeroDivisionError:\n",
    "    print('Zero Division Error in runcalc function')  # Exception Handler\n",
    "    "
   ]
  },
  {
   "cell_type": "code",
   "execution_count": 11,
   "id": "1f280e4a",
   "metadata": {},
   "outputs": [
    {
     "name": "stdout",
     "output_type": "stream",
     "text": [
      "division by zero Exception has occured\n"
     ]
    }
   ],
   "source": [
    "def runcalc(x):\n",
    "    x/0\n",
    "    \n",
    "try:\n",
    "    runcalc(6)\n",
    "    \n",
    "except ZeroDivisionError as z:\n",
    "    print(z,'Exception has occured')  # Exception Handler 1\n",
    "    \n",
    "except IndexError as i:\n",
    "    print(i,'Error has occured') # Exception Handler 2\n",
    "    \n",
    "except FileNotFoundError as f:\n",
    "    print(f,'Error has occured') # Exception Handler 3\n",
    "    \n",
    "except Exception:\n",
    "    print('An unknown error has occured') # Exception Handler 4"
   ]
  },
  {
   "cell_type": "code",
   "execution_count": 31,
   "id": "726e5b50",
   "metadata": {},
   "outputs": [],
   "source": [
    "@timer\n",
    "def my_function(x,y):\n",
    "    print('Entering my_function')\n",
    "    result = x/y\n",
    "    print('Exiting my_function')\n",
    "    return result\n"
   ]
  },
  {
   "cell_type": "code",
   "execution_count": 15,
   "id": "9d100ba0",
   "metadata": {},
   "outputs": [
    {
     "name": "stdout",
     "output_type": "stream",
     "text": [
      "Starting....\n",
      "Before function call...\n",
      "Entering my_function\n",
      "division by zero error has occured\n",
      "End\n"
     ]
    }
   ],
   "source": [
    "print('Starting....')\n",
    "try:\n",
    "    print('Before function call...')\n",
    "    res = my_function(6,2)\n",
    "    print('The result returned is :',res)\n",
    "    print('After fucntion call')\n",
    "    \n",
    "except ZeroDivisionError as exp:\n",
    "    print(exp,'error has occured')\n",
    "    \n",
    "print('End')"
   ]
  },
  {
   "cell_type": "code",
   "execution_count": 16,
   "id": "0a66eefd",
   "metadata": {},
   "outputs": [
    {
     "name": "stdout",
     "output_type": "stream",
     "text": [
      "Entering my_function\n",
      "something went wrong\n"
     ]
    }
   ],
   "source": [
    "# Catching any exception\n",
    "\n",
    "try:\n",
    "    my_function(6,0)\n",
    "    \n",
    "except IndexError as e:\n",
    "    print(e)\n",
    "    \n",
    "except:\n",
    "    print('something went wrong')"
   ]
  },
  {
   "cell_type": "code",
   "execution_count": 19,
   "id": "b3db8dd5",
   "metadata": {},
   "outputs": [
    {
     "name": "stdout",
     "output_type": "stream",
     "text": [
      "Entering my_function\n",
      "Exiting my_function\n",
      "The result of division is : 3.0\n",
      "No exception was raised. Everything worked ok\n"
     ]
    }
   ],
   "source": [
    "# Else Clause\n",
    "\n",
    "try:\n",
    "    print('The result of division is :',my_function(6,2))\n",
    "    \n",
    "except ZeroDivisionError as e:\n",
    "    print(e)\n",
    "    \n",
    "else:\n",
    "    print('No exception was raised. Everything worked ok')"
   ]
  },
  {
   "cell_type": "code",
   "execution_count": 20,
   "id": "8153620b",
   "metadata": {},
   "outputs": [
    {
     "name": "stdout",
     "output_type": "stream",
     "text": [
      "Entering my_function\n",
      "Exiting my_function\n",
      "The result of division is : 3.0\n",
      "No exception was raised. Everything worked ok\n",
      "This code always runs\n"
     ]
    }
   ],
   "source": [
    "# Finally clause\n",
    "\n",
    "try:\n",
    "    print('The result of division is :',my_function(6,2))\n",
    "    \n",
    "except ZeroDivisionError as e:\n",
    "    print(e)\n",
    "    \n",
    "else:\n",
    "    print('No exception was raised. Everything worked ok')\n",
    "    \n",
    "finally:\n",
    "    print('This code always runs')"
   ]
  },
  {
   "cell_type": "code",
   "execution_count": 25,
   "id": "52bc8914",
   "metadata": {},
   "outputs": [
    {
     "name": "stdout",
     "output_type": "stream",
     "text": [
      "Division is not possible by 0\n"
     ]
    }
   ],
   "source": [
    "# Raise an Exception\n",
    "\n",
    "x = 6\n",
    "y = 0\n",
    "\n",
    "try:\n",
    "    if y == 0:\n",
    "        raise ValueError('Division is not possible by 0')\n",
    "        \n",
    "    print('The result of division is :',my_function(x,y))\n",
    "    \n",
    "except ValueError as e:\n",
    "    print(e)\n",
    "    \n",
    "else:\n",
    "    print('Everything worked ok')\n",
    "    "
   ]
  },
  {
   "cell_type": "markdown",
   "id": "9f4c181f",
   "metadata": {},
   "source": [
    "# Assertions"
   ]
  },
  {
   "cell_type": "code",
   "execution_count": 29,
   "id": "15635d8f",
   "metadata": {},
   "outputs": [
    {
     "name": "stdout",
     "output_type": "stream",
     "text": [
      "After assert statement\n",
      "Entering my_function\n",
      "Exiting my_function\n"
     ]
    },
    {
     "data": {
      "text/plain": [
       "3.0"
      ]
     },
     "execution_count": 29,
     "metadata": {},
     "output_type": "execute_result"
    }
   ],
   "source": [
    "# Assertions\n",
    "\n",
    "x = 6\n",
    "y = 2\n",
    "\n",
    "assert y != 0, 'Denominator should not be 0'\n",
    "\n",
    "print('After assert statement')\n",
    "\n",
    "my_function(x,y)"
   ]
  },
  {
   "cell_type": "code",
   "execution_count": 34,
   "id": "1e415d4d",
   "metadata": {},
   "outputs": [],
   "source": [
    "# Program to accept n positive integers as input and  print the squares of numbers from 1 to n.\n",
    "# If negative number is entered, then raise ValueError exception and display a relevant error message and exit.\n",
    "\n",
    "class Squares(object):\n",
    "    def __init__(self,l):\n",
    "        self._limit = l\n",
    "        self._val = 0\n",
    "        \n",
    "    def __iter__(self):\n",
    "        return self\n",
    "    \n",
    "    def __next__(self):\n",
    "        if self._val > self._limit:\n",
    "            raise StopIteration\n",
    "            \n",
    "        else:\n",
    "            return_val = self._val * self._val\n",
    "            self._val += 1\n",
    "            return return_val"
   ]
  },
  {
   "cell_type": "code",
   "execution_count": 40,
   "id": "9013555a",
   "metadata": {},
   "outputs": [
    {
     "name": "stdout",
     "output_type": "stream",
     "text": [
      "Start....\n",
      "Enter the value of n :100\n",
      "0, 1, 4, 9, 16, 25, 36, 49, 64, 81, 100, 121, 144, 169, 196, 225, 256, 289, 324, 361, 400, 441, 484, 529, 576, 625, 676, 729, 784, 841, 900, 961, 1024, 1089, 1156, 1225, 1296, 1369, 1444, 1521, 1600, 1681, 1764, 1849, 1936, 2025, 2116, 2209, 2304, 2401, 2500, 2601, 2704, 2809, 2916, 3025, 3136, 3249, 3364, 3481, 3600, 3721, 3844, 3969, 4096, 4225, 4356, 4489, 4624, 4761, 4900, 5041, 5184, 5329, 5476, 5625, 5776, 5929, 6084, 6241, 6400, 6561, 6724, 6889, 7056, 7225, 7396, 7569, 7744, 7921, 8100, 8281, 8464, 8649, 8836, 9025, 9216, 9409, 9604, 9801, 10000, \n",
      "END\n"
     ]
    }
   ],
   "source": [
    "print('Start....')\n",
    "\n",
    "n = int(input('Enter the value of n :'))\n",
    "\n",
    "try:\n",
    "     if n < 0:\n",
    "            raise ValueError()\n",
    "\n",
    "except ValueError:\n",
    "    print('Enter a positive value for n')\n",
    "    \n",
    "for i in Squares(n):\n",
    "    print(i, end = ', ')\n",
    "    \n",
    "print('\\nEND')"
   ]
  },
  {
   "cell_type": "markdown",
   "id": "b66164d5",
   "metadata": {},
   "source": [
    "# Decorators"
   ]
  },
  {
   "cell_type": "code",
   "execution_count": 2,
   "id": "75a2a195",
   "metadata": {},
   "outputs": [],
   "source": [
    "# A simple decorator\n",
    "\n",
    "def my_decorator(func):\n",
    "    def wrapper():\n",
    "        print('$' * 70 )\n",
    "        func()\n",
    "        print('~' * 70)\n",
    "    return wrapper"
   ]
  },
  {
   "cell_type": "code",
   "execution_count": 3,
   "id": "41599412",
   "metadata": {},
   "outputs": [
    {
     "name": "stdout",
     "output_type": "stream",
     "text": [
      "$$$$$$$$$$$$$$$$$$$$$$$$$$$$$$$$$$$$$$$$$$$$$$$$$$$$$$$$$$$$$$$$$$$$$$\n",
      "Welcome to Decorators !!!\n",
      "~~~~~~~~~~~~~~~~~~~~~~~~~~~~~~~~~~~~~~~~~~~~~~~~~~~~~~~~~~~~~~~~~~~~~~\n"
     ]
    }
   ],
   "source": [
    "@my_decorator\n",
    "def display():\n",
    "    print('Welcome to Decorators !!!')\n",
    "\n",
    "display()"
   ]
  },
  {
   "cell_type": "code",
   "execution_count": 5,
   "id": "681a5a71",
   "metadata": {},
   "outputs": [],
   "source": [
    "# Demonstrate Multiple Decorators\n",
    "\n",
    "def star(func):\n",
    "    def inner(*args, **kwargs):\n",
    "        print('*' *100)\n",
    "        func(*args, **kwargs)\n",
    "        print('*' *100)\n",
    "    return inner\n",
    "\n",
    "def percent(func):\n",
    "    def inner(*args, **kwargs):\n",
    "        print('%' *100)\n",
    "        func(*args, **kwargs)\n",
    "        print('%' *100)\n",
    "    return inner\n"
   ]
  },
  {
   "cell_type": "code",
   "execution_count": 12,
   "id": "0881b77a",
   "metadata": {},
   "outputs": [],
   "source": [
    "@star\n",
    "@percent\n",
    "def printer(msg):\n",
    "    print(msg)\n",
    "    "
   ]
  },
  {
   "cell_type": "code",
   "execution_count": 13,
   "id": "2dc0cb7e",
   "metadata": {},
   "outputs": [
    {
     "name": "stdout",
     "output_type": "stream",
     "text": [
      "****************************************************************************************************\n",
      "%%%%%%%%%%%%%%%%%%%%%%%%%%%%%%%%%%%%%%%%%%%%%%%%%%%%%%%%%%%%%%%%%%%%%%%%%%%%%%%%%%%%%%%%%%%%%%%%%%%%\n",
      "Multiple Decorators\n",
      "%%%%%%%%%%%%%%%%%%%%%%%%%%%%%%%%%%%%%%%%%%%%%%%%%%%%%%%%%%%%%%%%%%%%%%%%%%%%%%%%%%%%%%%%%%%%%%%%%%%%\n",
      "****************************************************************************************************\n"
     ]
    }
   ],
   "source": [
    "printer('Multiple Decorators')"
   ]
  },
  {
   "cell_type": "code",
   "execution_count": 27,
   "id": "07744ce6",
   "metadata": {},
   "outputs": [],
   "source": [
    "# Implement the timer decorator\n",
    "\n",
    "import time\n",
    "def timer(func):\n",
    "    def calculate(*args, **kwargs):\n",
    "        start_time = time.perf_counter()\n",
    "        value = func(*args, **kwargs)\n",
    "        end_time = time.perf_counter()\n",
    "        runtime = end_time - start_time\n",
    "        print('Execution time ::: {0:20.10f}secs'.format(runtime))\n",
    "        return value\n",
    "    return calculate\n"
   ]
  },
  {
   "cell_type": "code",
   "execution_count": 28,
   "id": "1ddbe7ec",
   "metadata": {},
   "outputs": [],
   "source": [
    "@timer\n",
    "def factorial(n):\n",
    "    fact = 1\n",
    "    for i in range(n):\n",
    "        fact = fact * (i+1)\n",
    "    return fact\n"
   ]
  },
  {
   "cell_type": "code",
   "execution_count": 30,
   "id": "3fe0527a",
   "metadata": {},
   "outputs": [
    {
     "name": "stdout",
     "output_type": "stream",
     "text": [
      "Execution time :::         0.0000044000secs\n",
      "The factorial is : 120\n"
     ]
    }
   ],
   "source": [
    "print('The factorial is :',factorial(5))"
   ]
  },
  {
   "cell_type": "code",
   "execution_count": 32,
   "id": "b9073f57",
   "metadata": {},
   "outputs": [
    {
     "name": "stdout",
     "output_type": "stream",
     "text": [
      "The decorator my_function is :\n",
      "Entering my_function\n",
      "Exiting my_function\n",
      "Execution time :::         0.0000136000secs\n"
     ]
    },
    {
     "data": {
      "text/plain": [
       "1.6666666666666667"
      ]
     },
     "execution_count": 32,
     "metadata": {},
     "output_type": "execute_result"
    }
   ],
   "source": [
    "print('The decorator my_function is :')\n",
    "\n",
    "my_function(5,3)"
   ]
  },
  {
   "cell_type": "markdown",
   "id": "75e37709",
   "metadata": {},
   "source": [
    "# Week 9\n",
    "\n",
    "### Data Analysis with Pandas"
   ]
  },
  {
   "cell_type": "code",
   "execution_count": 2,
   "id": "95ddfcab",
   "metadata": {},
   "outputs": [],
   "source": [
    "import pandas as pd"
   ]
  },
  {
   "cell_type": "code",
   "execution_count": 4,
   "id": "9dc2de5a",
   "metadata": {},
   "outputs": [],
   "source": [
    "# Creating a DataFrame\n",
    "\n",
    "df1 = pd.DataFrame([[\"Suresh\",25,95.45],[\"Ramesh\",32,92.59],[\"Harish\",35,95.34]])"
   ]
  },
  {
   "cell_type": "code",
   "execution_count": 21,
   "id": "4220c58b",
   "metadata": {},
   "outputs": [
    {
     "data": {
      "text/html": [
       "<div>\n",
       "<style scoped>\n",
       "    .dataframe tbody tr th:only-of-type {\n",
       "        vertical-align: middle;\n",
       "    }\n",
       "\n",
       "    .dataframe tbody tr th {\n",
       "        vertical-align: top;\n",
       "    }\n",
       "\n",
       "    .dataframe thead th {\n",
       "        text-align: right;\n",
       "    }\n",
       "</style>\n",
       "<table border=\"1\" class=\"dataframe\">\n",
       "  <thead>\n",
       "    <tr style=\"text-align: right;\">\n",
       "      <th></th>\n",
       "      <th>Student_Name</th>\n",
       "      <th>Roll_No</th>\n",
       "      <th>Percentage</th>\n",
       "    </tr>\n",
       "  </thead>\n",
       "  <tbody>\n",
       "    <tr>\n",
       "      <th>First_Student</th>\n",
       "      <td>Suresh</td>\n",
       "      <td>25</td>\n",
       "      <td>95.45</td>\n",
       "    </tr>\n",
       "    <tr>\n",
       "      <th>Second_Student</th>\n",
       "      <td>Ramesh</td>\n",
       "      <td>32</td>\n",
       "      <td>92.59</td>\n",
       "    </tr>\n",
       "    <tr>\n",
       "      <th>Third_Student</th>\n",
       "      <td>Harish</td>\n",
       "      <td>35</td>\n",
       "      <td>95.34</td>\n",
       "    </tr>\n",
       "  </tbody>\n",
       "</table>\n",
       "</div>"
      ],
      "text/plain": [
       "               Student_Name  Roll_No  Percentage\n",
       "First_Student        Suresh       25       95.45\n",
       "Second_Student       Ramesh       32       92.59\n",
       "Third_Student        Harish       35       95.34"
      ]
     },
     "execution_count": 21,
     "metadata": {},
     "output_type": "execute_result"
    }
   ],
   "source": [
    "df1"
   ]
  },
  {
   "cell_type": "code",
   "execution_count": 6,
   "id": "2398d504",
   "metadata": {},
   "outputs": [
    {
     "data": {
      "text/plain": [
       "pandas.core.frame.DataFrame"
      ]
     },
     "execution_count": 6,
     "metadata": {},
     "output_type": "execute_result"
    }
   ],
   "source": [
    "type(df1)"
   ]
  },
  {
   "cell_type": "code",
   "execution_count": 25,
   "id": "8c3b7add",
   "metadata": {},
   "outputs": [],
   "source": [
    "# Adding columns to a DataFrame\n",
    "\n",
    "column_names = [\"Student_Name\",\"Roll_No\",\"Percentage\"]\n",
    "\n",
    "df1.columns = column_names\n",
    "\n",
    "# Another Way of adding columns\n",
    "\n",
    "df1 = pd.DataFrame([[\"Suresh\",25,95.45],[\"Ramesh\",32,92.59],[\"Harish\",35,95.34]],\n",
    "                   columns = [\"Student_Name\",\"Roll_No\",\"Percentage\"])"
   ]
  },
  {
   "cell_type": "code",
   "execution_count": 26,
   "id": "e582e48a",
   "metadata": {},
   "outputs": [],
   "source": [
    "# Adding Index to a DataFrame\n",
    "\n",
    "index_values = [\"First_Student\",\"Second_Student\",\"Third_Student\"]\n",
    "\n",
    "df1.set_index(pd.Index(index_values), inplace=True) \n",
    "\n",
    "# Another Way of adding index\n",
    "\n",
    "df1 = pd.DataFrame([[\"Suresh\",25,95.45],[\"Ramesh\",32,92.59],[\"Harish\",35,95.34]],\n",
    "                   columns = [\"Student_Name\",\"Roll_No\",\"Percentage\"],\n",
    "                   index = [\"First_Student\",\"Second_Student\",\"Third_Student\"])"
   ]
  },
  {
   "cell_type": "code",
   "execution_count": 14,
   "id": "4ab52f1d",
   "metadata": {},
   "outputs": [
    {
     "data": {
      "text/plain": [
       "pandas.core.series.Series"
      ]
     },
     "execution_count": 14,
     "metadata": {},
     "output_type": "execute_result"
    }
   ],
   "source": [
    "type(df1.Student_Name) # Column Type - Series"
   ]
  },
  {
   "cell_type": "code",
   "execution_count": 15,
   "id": "baf87011",
   "metadata": {},
   "outputs": [
    {
     "data": {
      "text/plain": [
       "pandas.core.series.Series"
      ]
     },
     "execution_count": 15,
     "metadata": {},
     "output_type": "execute_result"
    }
   ],
   "source": [
    "type(df1.Roll_No)"
   ]
  },
  {
   "cell_type": "code",
   "execution_count": 16,
   "id": "d99f81c5",
   "metadata": {},
   "outputs": [
    {
     "data": {
      "text/plain": [
       "['Percentage',\n",
       " 'Roll_No',\n",
       " 'Student_Name',\n",
       " 'T',\n",
       " '_AXIS_LEN',\n",
       " '_AXIS_ORDERS',\n",
       " '_AXIS_TO_AXIS_NUMBER',\n",
       " '_HANDLED_TYPES',\n",
       " '__abs__',\n",
       " '__add__',\n",
       " '__and__',\n",
       " '__annotations__',\n",
       " '__array__',\n",
       " '__array_priority__',\n",
       " '__array_ufunc__',\n",
       " '__bool__',\n",
       " '__class__',\n",
       " '__contains__',\n",
       " '__copy__',\n",
       " '__dataframe__',\n",
       " '__deepcopy__',\n",
       " '__delattr__',\n",
       " '__delitem__',\n",
       " '__dict__',\n",
       " '__dir__',\n",
       " '__divmod__',\n",
       " '__doc__',\n",
       " '__eq__',\n",
       " '__finalize__',\n",
       " '__floordiv__',\n",
       " '__format__',\n",
       " '__ge__',\n",
       " '__getattr__',\n",
       " '__getattribute__',\n",
       " '__getitem__',\n",
       " '__getstate__',\n",
       " '__gt__',\n",
       " '__hash__',\n",
       " '__iadd__',\n",
       " '__iand__',\n",
       " '__ifloordiv__',\n",
       " '__imod__',\n",
       " '__imul__',\n",
       " '__init__',\n",
       " '__init_subclass__',\n",
       " '__invert__',\n",
       " '__ior__',\n",
       " '__ipow__',\n",
       " '__isub__',\n",
       " '__iter__',\n",
       " '__itruediv__',\n",
       " '__ixor__',\n",
       " '__le__',\n",
       " '__len__',\n",
       " '__lt__',\n",
       " '__matmul__',\n",
       " '__mod__',\n",
       " '__module__',\n",
       " '__mul__',\n",
       " '__ne__',\n",
       " '__neg__',\n",
       " '__new__',\n",
       " '__nonzero__',\n",
       " '__or__',\n",
       " '__pos__',\n",
       " '__pow__',\n",
       " '__radd__',\n",
       " '__rand__',\n",
       " '__rdivmod__',\n",
       " '__reduce__',\n",
       " '__reduce_ex__',\n",
       " '__repr__',\n",
       " '__rfloordiv__',\n",
       " '__rmatmul__',\n",
       " '__rmod__',\n",
       " '__rmul__',\n",
       " '__ror__',\n",
       " '__round__',\n",
       " '__rpow__',\n",
       " '__rsub__',\n",
       " '__rtruediv__',\n",
       " '__rxor__',\n",
       " '__setattr__',\n",
       " '__setitem__',\n",
       " '__setstate__',\n",
       " '__sizeof__',\n",
       " '__str__',\n",
       " '__sub__',\n",
       " '__subclasshook__',\n",
       " '__truediv__',\n",
       " '__weakref__',\n",
       " '__xor__',\n",
       " '_accessors',\n",
       " '_accum_func',\n",
       " '_add_numeric_operations',\n",
       " '_agg_examples_doc',\n",
       " '_agg_summary_and_see_also_doc',\n",
       " '_align_frame',\n",
       " '_align_series',\n",
       " '_append',\n",
       " '_arith_method',\n",
       " '_as_manager',\n",
       " '_attrs',\n",
       " '_box_col_values',\n",
       " '_can_fast_transpose',\n",
       " '_check_inplace_and_allows_duplicate_labels',\n",
       " '_check_inplace_setting',\n",
       " '_check_is_chained_assignment_possible',\n",
       " '_check_label_or_level_ambiguity',\n",
       " '_check_setitem_copy',\n",
       " '_clear_item_cache',\n",
       " '_clip_with_one_bound',\n",
       " '_clip_with_scalar',\n",
       " '_cmp_method',\n",
       " '_combine_frame',\n",
       " '_consolidate',\n",
       " '_consolidate_inplace',\n",
       " '_construct_axes_dict',\n",
       " '_construct_result',\n",
       " '_constructor',\n",
       " '_constructor_sliced',\n",
       " '_create_data_for_split_and_tight_to_dict',\n",
       " '_data',\n",
       " '_dir_additions',\n",
       " '_dir_deletions',\n",
       " '_dispatch_frame_op',\n",
       " '_drop_axis',\n",
       " '_drop_labels_or_levels',\n",
       " '_ensure_valid_index',\n",
       " '_find_valid_index',\n",
       " '_flags',\n",
       " '_from_arrays',\n",
       " '_get_agg_axis',\n",
       " '_get_axis',\n",
       " '_get_axis_name',\n",
       " '_get_axis_number',\n",
       " '_get_axis_resolvers',\n",
       " '_get_block_manager_axis',\n",
       " '_get_bool_data',\n",
       " '_get_cleaned_column_resolvers',\n",
       " '_get_column_array',\n",
       " '_get_index_resolvers',\n",
       " '_get_item_cache',\n",
       " '_get_label_or_level_values',\n",
       " '_get_numeric_data',\n",
       " '_get_value',\n",
       " '_getitem_bool_array',\n",
       " '_getitem_multilevel',\n",
       " '_getitem_nocopy',\n",
       " '_gotitem',\n",
       " '_hidden_attrs',\n",
       " '_indexed_same',\n",
       " '_info_axis',\n",
       " '_info_axis_name',\n",
       " '_info_axis_number',\n",
       " '_info_repr',\n",
       " '_init_mgr',\n",
       " '_inplace_method',\n",
       " '_internal_names',\n",
       " '_internal_names_set',\n",
       " '_is_copy',\n",
       " '_is_homogeneous_type',\n",
       " '_is_label_or_level_reference',\n",
       " '_is_label_reference',\n",
       " '_is_level_reference',\n",
       " '_is_mixed_type',\n",
       " '_is_view',\n",
       " '_iset_item',\n",
       " '_iset_item_mgr',\n",
       " '_iset_not_inplace',\n",
       " '_item_cache',\n",
       " '_iter_column_arrays',\n",
       " '_ixs',\n",
       " '_join_compat',\n",
       " '_logical_func',\n",
       " '_logical_method',\n",
       " '_maybe_cache_changed',\n",
       " '_maybe_update_cacher',\n",
       " '_metadata',\n",
       " '_mgr',\n",
       " '_min_count_stat_function',\n",
       " '_needs_reindex_multi',\n",
       " '_protect_consolidate',\n",
       " '_reduce',\n",
       " '_reduce_axis1',\n",
       " '_reindex_axes',\n",
       " '_reindex_columns',\n",
       " '_reindex_index',\n",
       " '_reindex_multi',\n",
       " '_reindex_with_indexers',\n",
       " '_rename',\n",
       " '_replace_columnwise',\n",
       " '_repr_data_resource_',\n",
       " '_repr_fits_horizontal_',\n",
       " '_repr_fits_vertical_',\n",
       " '_repr_html_',\n",
       " '_repr_latex_',\n",
       " '_reset_cache',\n",
       " '_reset_cacher',\n",
       " '_sanitize_column',\n",
       " '_series',\n",
       " '_set_axis',\n",
       " '_set_axis_name',\n",
       " '_set_axis_nocheck',\n",
       " '_set_is_copy',\n",
       " '_set_item',\n",
       " '_set_item_frame_value',\n",
       " '_set_item_mgr',\n",
       " '_set_value',\n",
       " '_setitem_array',\n",
       " '_setitem_frame',\n",
       " '_setitem_slice',\n",
       " '_slice',\n",
       " '_stat_axis',\n",
       " '_stat_axis_name',\n",
       " '_stat_axis_number',\n",
       " '_stat_function',\n",
       " '_stat_function_ddof',\n",
       " '_take',\n",
       " '_take_with_is_copy',\n",
       " '_to_dict_of_blocks',\n",
       " '_to_latex_via_styler',\n",
       " '_typ',\n",
       " '_update_inplace',\n",
       " '_validate_dtype',\n",
       " '_values',\n",
       " '_where',\n",
       " 'abs',\n",
       " 'add',\n",
       " 'add_prefix',\n",
       " 'add_suffix',\n",
       " 'agg',\n",
       " 'aggregate',\n",
       " 'align',\n",
       " 'all',\n",
       " 'any',\n",
       " 'apply',\n",
       " 'applymap',\n",
       " 'asfreq',\n",
       " 'asof',\n",
       " 'assign',\n",
       " 'astype',\n",
       " 'at',\n",
       " 'at_time',\n",
       " 'attrs',\n",
       " 'axes',\n",
       " 'backfill',\n",
       " 'between_time',\n",
       " 'bfill',\n",
       " 'bool',\n",
       " 'boxplot',\n",
       " 'clip',\n",
       " 'columns',\n",
       " 'combine',\n",
       " 'combine_first',\n",
       " 'compare',\n",
       " 'convert_dtypes',\n",
       " 'copy',\n",
       " 'corr',\n",
       " 'corrwith',\n",
       " 'count',\n",
       " 'cov',\n",
       " 'cummax',\n",
       " 'cummin',\n",
       " 'cumprod',\n",
       " 'cumsum',\n",
       " 'describe',\n",
       " 'diff',\n",
       " 'div',\n",
       " 'divide',\n",
       " 'dot',\n",
       " 'drop',\n",
       " 'drop_duplicates',\n",
       " 'droplevel',\n",
       " 'dropna',\n",
       " 'dtypes',\n",
       " 'duplicated',\n",
       " 'empty',\n",
       " 'eq',\n",
       " 'equals',\n",
       " 'eval',\n",
       " 'ewm',\n",
       " 'expanding',\n",
       " 'explode',\n",
       " 'ffill',\n",
       " 'fillna',\n",
       " 'filter',\n",
       " 'first',\n",
       " 'first_valid_index',\n",
       " 'flags',\n",
       " 'floordiv',\n",
       " 'from_dict',\n",
       " 'from_records',\n",
       " 'ge',\n",
       " 'get',\n",
       " 'groupby',\n",
       " 'gt',\n",
       " 'head',\n",
       " 'hist',\n",
       " 'iat',\n",
       " 'idxmax',\n",
       " 'idxmin',\n",
       " 'iloc',\n",
       " 'index',\n",
       " 'infer_objects',\n",
       " 'info',\n",
       " 'insert',\n",
       " 'interpolate',\n",
       " 'isetitem',\n",
       " 'isin',\n",
       " 'isna',\n",
       " 'isnull',\n",
       " 'items',\n",
       " 'iterrows',\n",
       " 'itertuples',\n",
       " 'join',\n",
       " 'keys',\n",
       " 'kurt',\n",
       " 'kurtosis',\n",
       " 'last',\n",
       " 'last_valid_index',\n",
       " 'le',\n",
       " 'loc',\n",
       " 'lt',\n",
       " 'mask',\n",
       " 'max',\n",
       " 'mean',\n",
       " 'median',\n",
       " 'melt',\n",
       " 'memory_usage',\n",
       " 'merge',\n",
       " 'min',\n",
       " 'mod',\n",
       " 'mode',\n",
       " 'mul',\n",
       " 'multiply',\n",
       " 'ndim',\n",
       " 'ne',\n",
       " 'nlargest',\n",
       " 'notna',\n",
       " 'notnull',\n",
       " 'nsmallest',\n",
       " 'nunique',\n",
       " 'pad',\n",
       " 'pct_change',\n",
       " 'pipe',\n",
       " 'pivot',\n",
       " 'pivot_table',\n",
       " 'plot',\n",
       " 'pop',\n",
       " 'pow',\n",
       " 'prod',\n",
       " 'product',\n",
       " 'quantile',\n",
       " 'query',\n",
       " 'radd',\n",
       " 'rank',\n",
       " 'rdiv',\n",
       " 'reindex',\n",
       " 'reindex_like',\n",
       " 'rename',\n",
       " 'rename_axis',\n",
       " 'reorder_levels',\n",
       " 'replace',\n",
       " 'resample',\n",
       " 'reset_index',\n",
       " 'rfloordiv',\n",
       " 'rmod',\n",
       " 'rmul',\n",
       " 'rolling',\n",
       " 'round',\n",
       " 'rpow',\n",
       " 'rsub',\n",
       " 'rtruediv',\n",
       " 'sample',\n",
       " 'select_dtypes',\n",
       " 'sem',\n",
       " 'set_axis',\n",
       " 'set_flags',\n",
       " 'set_index',\n",
       " 'shape',\n",
       " 'shift',\n",
       " 'size',\n",
       " 'skew',\n",
       " 'sort_index',\n",
       " 'sort_values',\n",
       " 'squeeze',\n",
       " 'stack',\n",
       " 'std',\n",
       " 'style',\n",
       " 'sub',\n",
       " 'subtract',\n",
       " 'sum',\n",
       " 'swapaxes',\n",
       " 'swaplevel',\n",
       " 'tail',\n",
       " 'take',\n",
       " 'to_clipboard',\n",
       " 'to_csv',\n",
       " 'to_dict',\n",
       " 'to_excel',\n",
       " 'to_feather',\n",
       " 'to_gbq',\n",
       " 'to_hdf',\n",
       " 'to_html',\n",
       " 'to_json',\n",
       " 'to_latex',\n",
       " 'to_markdown',\n",
       " 'to_numpy',\n",
       " 'to_orc',\n",
       " 'to_parquet',\n",
       " 'to_period',\n",
       " 'to_pickle',\n",
       " 'to_records',\n",
       " 'to_sql',\n",
       " 'to_stata',\n",
       " 'to_string',\n",
       " 'to_timestamp',\n",
       " 'to_xarray',\n",
       " 'to_xml',\n",
       " 'transform',\n",
       " 'transpose',\n",
       " 'truediv',\n",
       " 'truncate',\n",
       " 'tz_convert',\n",
       " 'tz_localize',\n",
       " 'unstack',\n",
       " 'update',\n",
       " 'value_counts',\n",
       " 'values',\n",
       " 'var',\n",
       " 'where',\n",
       " 'xs']"
      ]
     },
     "execution_count": 16,
     "metadata": {},
     "output_type": "execute_result"
    }
   ],
   "source": [
    "# Methods on a Data Frame\n",
    "\n",
    "dir(df1)"
   ]
  },
  {
   "cell_type": "code",
   "execution_count": 27,
   "id": "1e1756ca",
   "metadata": {},
   "outputs": [
    {
     "data": {
      "text/html": [
       "<div>\n",
       "<style scoped>\n",
       "    .dataframe tbody tr th:only-of-type {\n",
       "        vertical-align: middle;\n",
       "    }\n",
       "\n",
       "    .dataframe tbody tr th {\n",
       "        vertical-align: top;\n",
       "    }\n",
       "\n",
       "    .dataframe thead th {\n",
       "        text-align: right;\n",
       "    }\n",
       "</style>\n",
       "<table border=\"1\" class=\"dataframe\">\n",
       "  <thead>\n",
       "    <tr style=\"text-align: right;\">\n",
       "      <th></th>\n",
       "      <th>Student_Name</th>\n",
       "      <th>Roll_No</th>\n",
       "      <th>Percentage</th>\n",
       "    </tr>\n",
       "  </thead>\n",
       "  <tbody>\n",
       "    <tr>\n",
       "      <th>First_Student</th>\n",
       "      <td>Suresh</td>\n",
       "      <td>25</td>\n",
       "      <td>95.45</td>\n",
       "    </tr>\n",
       "    <tr>\n",
       "      <th>Second_Student</th>\n",
       "      <td>Ramesh</td>\n",
       "      <td>32</td>\n",
       "      <td>92.59</td>\n",
       "    </tr>\n",
       "    <tr>\n",
       "      <th>Third_Student</th>\n",
       "      <td>Harish</td>\n",
       "      <td>35</td>\n",
       "      <td>95.34</td>\n",
       "    </tr>\n",
       "  </tbody>\n",
       "</table>\n",
       "</div>"
      ],
      "text/plain": [
       "               Student_Name  Roll_No  Percentage\n",
       "First_Student        Suresh       25       95.45\n",
       "Second_Student       Ramesh       32       92.59\n",
       "Third_Student        Harish       35       95.34"
      ]
     },
     "execution_count": 27,
     "metadata": {},
     "output_type": "execute_result"
    }
   ],
   "source": [
    "# Applying methods on a Data Frame df1\n",
    "\n",
    "df1"
   ]
  },
  {
   "cell_type": "code",
   "execution_count": 34,
   "id": "f043d27c",
   "metadata": {},
   "outputs": [
    {
     "name": "stdout",
     "output_type": "stream",
     "text": [
      "Roll_No       30.666667\n",
      "Percentage    94.460000\n",
      "dtype: float64\n"
     ]
    }
   ],
   "source": [
    "# Mean\n",
    "\n",
    "df1.mean() # This method automattically exclude the non-numeric columns but unfortuntely it is not working for me\n",
    "\n",
    "df1.mean().mean() # This will give overall mean value\n",
    "\n",
    "# Another method\n",
    "\n",
    "numeric_df = df1.select_dtypes(include=[int, float])\n",
    "\n",
    "mean_values = numeric_df.mean()\n",
    "\n",
    "print(mean_values)"
   ]
  },
  {
   "cell_type": "code",
   "execution_count": 37,
   "id": "5720b41c",
   "metadata": {},
   "outputs": [
    {
     "data": {
      "text/plain": [
       "First_Student     95.45\n",
       "Second_Student    92.59\n",
       "Third_Student     95.34\n",
       "Name: Percentage, dtype: float64"
      ]
     },
     "execution_count": 37,
     "metadata": {},
     "output_type": "execute_result"
    }
   ],
   "source": [
    "df1.Percentage"
   ]
  },
  {
   "cell_type": "code",
   "execution_count": 38,
   "id": "0b829995",
   "metadata": {},
   "outputs": [
    {
     "data": {
      "text/plain": [
       "94.46"
      ]
     },
     "execution_count": 38,
     "metadata": {},
     "output_type": "execute_result"
    }
   ],
   "source": [
    "df1.Percentage.mean()"
   ]
  },
  {
   "cell_type": "code",
   "execution_count": 39,
   "id": "4f2f86a3",
   "metadata": {},
   "outputs": [
    {
     "data": {
      "text/plain": [
       "First_Student     95.45\n",
       "Second_Student    92.59\n",
       "Third_Student     95.34\n",
       "Name: Percentage, dtype: float64"
      ]
     },
     "execution_count": 39,
     "metadata": {},
     "output_type": "execute_result"
    }
   ],
   "source": [
    "df1[\"Percentage\"]"
   ]
  },
  {
   "cell_type": "code",
   "execution_count": 40,
   "id": "9d387185",
   "metadata": {},
   "outputs": [],
   "source": [
    "# Creating Data Frames from Dict and List\n",
    "\n",
    "dict1 = {'First_Name': (\"Suresh\",\"Ramesh\",\"Mahesh\"),\n",
    "        'Last_Name': (\"Kumar\",\"Babu\",\"Sharma\")}\n",
    "\n",
    "df2 = pd.DataFrame(dict1)"
   ]
  },
  {
   "cell_type": "code",
   "execution_count": 41,
   "id": "48b47345",
   "metadata": {},
   "outputs": [
    {
     "data": {
      "text/html": [
       "<div>\n",
       "<style scoped>\n",
       "    .dataframe tbody tr th:only-of-type {\n",
       "        vertical-align: middle;\n",
       "    }\n",
       "\n",
       "    .dataframe tbody tr th {\n",
       "        vertical-align: top;\n",
       "    }\n",
       "\n",
       "    .dataframe thead th {\n",
       "        text-align: right;\n",
       "    }\n",
       "</style>\n",
       "<table border=\"1\" class=\"dataframe\">\n",
       "  <thead>\n",
       "    <tr style=\"text-align: right;\">\n",
       "      <th></th>\n",
       "      <th>First_Name</th>\n",
       "      <th>Last_Name</th>\n",
       "    </tr>\n",
       "  </thead>\n",
       "  <tbody>\n",
       "    <tr>\n",
       "      <th>0</th>\n",
       "      <td>Suresh</td>\n",
       "      <td>Kumar</td>\n",
       "    </tr>\n",
       "    <tr>\n",
       "      <th>1</th>\n",
       "      <td>Ramesh</td>\n",
       "      <td>Babu</td>\n",
       "    </tr>\n",
       "    <tr>\n",
       "      <th>2</th>\n",
       "      <td>Mahesh</td>\n",
       "      <td>Sharma</td>\n",
       "    </tr>\n",
       "  </tbody>\n",
       "</table>\n",
       "</div>"
      ],
      "text/plain": [
       "  First_Name Last_Name\n",
       "0     Suresh     Kumar\n",
       "1     Ramesh      Babu\n",
       "2     Mahesh    Sharma"
      ]
     },
     "execution_count": 41,
     "metadata": {},
     "output_type": "execute_result"
    }
   ],
   "source": [
    "df2"
   ]
  },
  {
   "cell_type": "code",
   "execution_count": 42,
   "id": "4c14945f",
   "metadata": {},
   "outputs": [],
   "source": [
    "list1 = [{'First_Name': \"Suresh\",'Last_Name':\"Kumar\"},\n",
    "         {'First_Name': \"Ramesh\",'Last_Name':\"Babu\"},\n",
    "         {'First_Name': \"Mahesh\",'Last_Name':\"Sharma\"}]\n",
    "\n",
    "df3 = pd.DataFrame(list1)"
   ]
  },
  {
   "cell_type": "code",
   "execution_count": 43,
   "id": "03988e22",
   "metadata": {},
   "outputs": [
    {
     "data": {
      "text/html": [
       "<div>\n",
       "<style scoped>\n",
       "    .dataframe tbody tr th:only-of-type {\n",
       "        vertical-align: middle;\n",
       "    }\n",
       "\n",
       "    .dataframe tbody tr th {\n",
       "        vertical-align: top;\n",
       "    }\n",
       "\n",
       "    .dataframe thead th {\n",
       "        text-align: right;\n",
       "    }\n",
       "</style>\n",
       "<table border=\"1\" class=\"dataframe\">\n",
       "  <thead>\n",
       "    <tr style=\"text-align: right;\">\n",
       "      <th></th>\n",
       "      <th>First_Name</th>\n",
       "      <th>Last_Name</th>\n",
       "    </tr>\n",
       "  </thead>\n",
       "  <tbody>\n",
       "    <tr>\n",
       "      <th>0</th>\n",
       "      <td>Suresh</td>\n",
       "      <td>Kumar</td>\n",
       "    </tr>\n",
       "    <tr>\n",
       "      <th>1</th>\n",
       "      <td>Ramesh</td>\n",
       "      <td>Babu</td>\n",
       "    </tr>\n",
       "    <tr>\n",
       "      <th>2</th>\n",
       "      <td>Mahesh</td>\n",
       "      <td>Sharma</td>\n",
       "    </tr>\n",
       "  </tbody>\n",
       "</table>\n",
       "</div>"
      ],
      "text/plain": [
       "  First_Name Last_Name\n",
       "0     Suresh     Kumar\n",
       "1     Ramesh      Babu\n",
       "2     Mahesh    Sharma"
      ]
     },
     "execution_count": 43,
     "metadata": {},
     "output_type": "execute_result"
    }
   ],
   "source": [
    "df3"
   ]
  },
  {
   "cell_type": "code",
   "execution_count": 3,
   "id": "d4bf0337",
   "metadata": {},
   "outputs": [],
   "source": [
    "# Loading Data from files into DataFrame\n",
    "\n",
    "df1 = pd.read_csv('Google_data.csv')"
   ]
  },
  {
   "cell_type": "code",
   "execution_count": 4,
   "id": "14ae0eb0",
   "metadata": {},
   "outputs": [
    {
     "data": {
      "text/html": [
       "<div>\n",
       "<style scoped>\n",
       "    .dataframe tbody tr th:only-of-type {\n",
       "        vertical-align: middle;\n",
       "    }\n",
       "\n",
       "    .dataframe tbody tr th {\n",
       "        vertical-align: top;\n",
       "    }\n",
       "\n",
       "    .dataframe thead th {\n",
       "        text-align: right;\n",
       "    }\n",
       "</style>\n",
       "<table border=\"1\" class=\"dataframe\">\n",
       "  <thead>\n",
       "    <tr style=\"text-align: right;\">\n",
       "      <th></th>\n",
       "      <th>App</th>\n",
       "      <th>Category</th>\n",
       "      <th>Rating</th>\n",
       "      <th>Reviews</th>\n",
       "      <th>Size</th>\n",
       "      <th>Installs</th>\n",
       "      <th>Type</th>\n",
       "      <th>Price</th>\n",
       "      <th>Content Rating</th>\n",
       "      <th>Genres</th>\n",
       "      <th>Last Updated</th>\n",
       "      <th>Current Ver</th>\n",
       "      <th>Android Ver</th>\n",
       "    </tr>\n",
       "  </thead>\n",
       "  <tbody>\n",
       "    <tr>\n",
       "      <th>0</th>\n",
       "      <td>Photo Editor &amp; Candy Camera &amp; Grid &amp; ScrapBook</td>\n",
       "      <td>ART_AND_DESIGN</td>\n",
       "      <td>4.1</td>\n",
       "      <td>159</td>\n",
       "      <td>19M</td>\n",
       "      <td>10,000+</td>\n",
       "      <td>Free</td>\n",
       "      <td>0</td>\n",
       "      <td>Everyone</td>\n",
       "      <td>Art &amp; Design</td>\n",
       "      <td>January 7, 2018</td>\n",
       "      <td>1.0.0</td>\n",
       "      <td>4.0.3 and up</td>\n",
       "    </tr>\n",
       "    <tr>\n",
       "      <th>1</th>\n",
       "      <td>Coloring book moana</td>\n",
       "      <td>ART_AND_DESIGN</td>\n",
       "      <td>3.9</td>\n",
       "      <td>967</td>\n",
       "      <td>14M</td>\n",
       "      <td>500,000+</td>\n",
       "      <td>Free</td>\n",
       "      <td>0</td>\n",
       "      <td>Everyone</td>\n",
       "      <td>Art &amp; Design;Pretend Play</td>\n",
       "      <td>January 15, 2018</td>\n",
       "      <td>2.0.0</td>\n",
       "      <td>4.0.3 and up</td>\n",
       "    </tr>\n",
       "    <tr>\n",
       "      <th>2</th>\n",
       "      <td>U Launcher Lite – FREE Live Cool Themes, Hide ...</td>\n",
       "      <td>ART_AND_DESIGN</td>\n",
       "      <td>4.7</td>\n",
       "      <td>87510</td>\n",
       "      <td>8.7M</td>\n",
       "      <td>5,000,000+</td>\n",
       "      <td>Free</td>\n",
       "      <td>0</td>\n",
       "      <td>Everyone</td>\n",
       "      <td>Art &amp; Design</td>\n",
       "      <td>August 1, 2018</td>\n",
       "      <td>1.2.4</td>\n",
       "      <td>4.0.3 and up</td>\n",
       "    </tr>\n",
       "    <tr>\n",
       "      <th>3</th>\n",
       "      <td>Sketch - Draw &amp; Paint</td>\n",
       "      <td>ART_AND_DESIGN</td>\n",
       "      <td>4.5</td>\n",
       "      <td>215644</td>\n",
       "      <td>25M</td>\n",
       "      <td>50,000,000+</td>\n",
       "      <td>Free</td>\n",
       "      <td>0</td>\n",
       "      <td>Teen</td>\n",
       "      <td>Art &amp; Design</td>\n",
       "      <td>June 8, 2018</td>\n",
       "      <td>Varies with device</td>\n",
       "      <td>4.2 and up</td>\n",
       "    </tr>\n",
       "    <tr>\n",
       "      <th>4</th>\n",
       "      <td>Pixel Draw - Number Art Coloring Book</td>\n",
       "      <td>ART_AND_DESIGN</td>\n",
       "      <td>4.3</td>\n",
       "      <td>967</td>\n",
       "      <td>2.8M</td>\n",
       "      <td>100,000+</td>\n",
       "      <td>Free</td>\n",
       "      <td>0</td>\n",
       "      <td>Everyone</td>\n",
       "      <td>Art &amp; Design;Creativity</td>\n",
       "      <td>June 20, 2018</td>\n",
       "      <td>1.1</td>\n",
       "      <td>4.4 and up</td>\n",
       "    </tr>\n",
       "    <tr>\n",
       "      <th>...</th>\n",
       "      <td>...</td>\n",
       "      <td>...</td>\n",
       "      <td>...</td>\n",
       "      <td>...</td>\n",
       "      <td>...</td>\n",
       "      <td>...</td>\n",
       "      <td>...</td>\n",
       "      <td>...</td>\n",
       "      <td>...</td>\n",
       "      <td>...</td>\n",
       "      <td>...</td>\n",
       "      <td>...</td>\n",
       "      <td>...</td>\n",
       "    </tr>\n",
       "    <tr>\n",
       "      <th>10836</th>\n",
       "      <td>Sya9a Maroc - FR</td>\n",
       "      <td>FAMILY</td>\n",
       "      <td>4.5</td>\n",
       "      <td>38</td>\n",
       "      <td>53M</td>\n",
       "      <td>5,000+</td>\n",
       "      <td>Free</td>\n",
       "      <td>0</td>\n",
       "      <td>Everyone</td>\n",
       "      <td>Education</td>\n",
       "      <td>July 25, 2017</td>\n",
       "      <td>1.48</td>\n",
       "      <td>4.1 and up</td>\n",
       "    </tr>\n",
       "    <tr>\n",
       "      <th>10837</th>\n",
       "      <td>Fr. Mike Schmitz Audio Teachings</td>\n",
       "      <td>FAMILY</td>\n",
       "      <td>5.0</td>\n",
       "      <td>4</td>\n",
       "      <td>3.6M</td>\n",
       "      <td>100+</td>\n",
       "      <td>Free</td>\n",
       "      <td>0</td>\n",
       "      <td>Everyone</td>\n",
       "      <td>Education</td>\n",
       "      <td>July 6, 2018</td>\n",
       "      <td>1</td>\n",
       "      <td>4.1 and up</td>\n",
       "    </tr>\n",
       "    <tr>\n",
       "      <th>10838</th>\n",
       "      <td>Parkinson Exercices FR</td>\n",
       "      <td>MEDICAL</td>\n",
       "      <td>NaN</td>\n",
       "      <td>3</td>\n",
       "      <td>9.5M</td>\n",
       "      <td>1,000+</td>\n",
       "      <td>Free</td>\n",
       "      <td>0</td>\n",
       "      <td>Everyone</td>\n",
       "      <td>Medical</td>\n",
       "      <td>January 20, 2017</td>\n",
       "      <td>1</td>\n",
       "      <td>2.2 and up</td>\n",
       "    </tr>\n",
       "    <tr>\n",
       "      <th>10839</th>\n",
       "      <td>The SCP Foundation DB fr nn5n</td>\n",
       "      <td>BOOKS_AND_REFERENCE</td>\n",
       "      <td>4.5</td>\n",
       "      <td>114</td>\n",
       "      <td>Varies with device</td>\n",
       "      <td>1,000+</td>\n",
       "      <td>Free</td>\n",
       "      <td>0</td>\n",
       "      <td>Mature 17+</td>\n",
       "      <td>Books &amp; Reference</td>\n",
       "      <td>January 19, 2015</td>\n",
       "      <td>Varies with device</td>\n",
       "      <td>Varies with device</td>\n",
       "    </tr>\n",
       "    <tr>\n",
       "      <th>10840</th>\n",
       "      <td>iHoroscope - 2018 Daily Horoscope &amp; Astrology</td>\n",
       "      <td>LIFESTYLE</td>\n",
       "      <td>4.5</td>\n",
       "      <td>398307</td>\n",
       "      <td>19M</td>\n",
       "      <td>10,000,000+</td>\n",
       "      <td>Free</td>\n",
       "      <td>0</td>\n",
       "      <td>Everyone</td>\n",
       "      <td>Lifestyle</td>\n",
       "      <td>July 25, 2018</td>\n",
       "      <td>Varies with device</td>\n",
       "      <td>Varies with device</td>\n",
       "    </tr>\n",
       "  </tbody>\n",
       "</table>\n",
       "<p>10841 rows × 13 columns</p>\n",
       "</div>"
      ],
      "text/plain": [
       "                                                     App             Category  \\\n",
       "0         Photo Editor & Candy Camera & Grid & ScrapBook       ART_AND_DESIGN   \n",
       "1                                    Coloring book moana       ART_AND_DESIGN   \n",
       "2      U Launcher Lite – FREE Live Cool Themes, Hide ...       ART_AND_DESIGN   \n",
       "3                                  Sketch - Draw & Paint       ART_AND_DESIGN   \n",
       "4                  Pixel Draw - Number Art Coloring Book       ART_AND_DESIGN   \n",
       "...                                                  ...                  ...   \n",
       "10836                                   Sya9a Maroc - FR               FAMILY   \n",
       "10837                   Fr. Mike Schmitz Audio Teachings               FAMILY   \n",
       "10838                             Parkinson Exercices FR              MEDICAL   \n",
       "10839                      The SCP Foundation DB fr nn5n  BOOKS_AND_REFERENCE   \n",
       "10840      iHoroscope - 2018 Daily Horoscope & Astrology            LIFESTYLE   \n",
       "\n",
       "       Rating Reviews                Size     Installs  Type Price  \\\n",
       "0         4.1     159                 19M      10,000+  Free     0   \n",
       "1         3.9     967                 14M     500,000+  Free     0   \n",
       "2         4.7   87510                8.7M   5,000,000+  Free     0   \n",
       "3         4.5  215644                 25M  50,000,000+  Free     0   \n",
       "4         4.3     967                2.8M     100,000+  Free     0   \n",
       "...       ...     ...                 ...          ...   ...   ...   \n",
       "10836     4.5      38                 53M       5,000+  Free     0   \n",
       "10837     5.0       4                3.6M         100+  Free     0   \n",
       "10838     NaN       3                9.5M       1,000+  Free     0   \n",
       "10839     4.5     114  Varies with device       1,000+  Free     0   \n",
       "10840     4.5  398307                 19M  10,000,000+  Free     0   \n",
       "\n",
       "      Content Rating                     Genres      Last Updated  \\\n",
       "0           Everyone               Art & Design   January 7, 2018   \n",
       "1           Everyone  Art & Design;Pretend Play  January 15, 2018   \n",
       "2           Everyone               Art & Design    August 1, 2018   \n",
       "3               Teen               Art & Design      June 8, 2018   \n",
       "4           Everyone    Art & Design;Creativity     June 20, 2018   \n",
       "...              ...                        ...               ...   \n",
       "10836       Everyone                  Education     July 25, 2017   \n",
       "10837       Everyone                  Education      July 6, 2018   \n",
       "10838       Everyone                    Medical  January 20, 2017   \n",
       "10839     Mature 17+          Books & Reference  January 19, 2015   \n",
       "10840       Everyone                  Lifestyle     July 25, 2018   \n",
       "\n",
       "              Current Ver         Android Ver  \n",
       "0                   1.0.0        4.0.3 and up  \n",
       "1                   2.0.0        4.0.3 and up  \n",
       "2                   1.2.4        4.0.3 and up  \n",
       "3      Varies with device          4.2 and up  \n",
       "4                     1.1          4.4 and up  \n",
       "...                   ...                 ...  \n",
       "10836                1.48          4.1 and up  \n",
       "10837                   1          4.1 and up  \n",
       "10838                   1          2.2 and up  \n",
       "10839  Varies with device  Varies with device  \n",
       "10840  Varies with device  Varies with device  \n",
       "\n",
       "[10841 rows x 13 columns]"
      ]
     },
     "execution_count": 4,
     "metadata": {},
     "output_type": "execute_result"
    }
   ],
   "source": [
    "df1"
   ]
  },
  {
   "cell_type": "code",
   "execution_count": 8,
   "id": "df18e4f0",
   "metadata": {},
   "outputs": [],
   "source": [
    "df2 = pd.read_csv('my_new_file.txt',header = None)"
   ]
  },
  {
   "cell_type": "code",
   "execution_count": 9,
   "id": "35f938e0",
   "metadata": {},
   "outputs": [
    {
     "data": {
      "text/html": [
       "<div>\n",
       "<style scoped>\n",
       "    .dataframe tbody tr th:only-of-type {\n",
       "        vertical-align: middle;\n",
       "    }\n",
       "\n",
       "    .dataframe tbody tr th {\n",
       "        vertical-align: top;\n",
       "    }\n",
       "\n",
       "    .dataframe thead th {\n",
       "        text-align: right;\n",
       "    }\n",
       "</style>\n",
       "<table border=\"1\" class=\"dataframe\">\n",
       "  <thead>\n",
       "    <tr style=\"text-align: right;\">\n",
       "      <th></th>\n",
       "      <th>0</th>\n",
       "    </tr>\n",
       "  </thead>\n",
       "  <tbody>\n",
       "    <tr>\n",
       "      <th>0</th>\n",
       "      <td>Hello from python !!</td>\n",
       "    </tr>\n",
       "    <tr>\n",
       "      <th>1</th>\n",
       "      <td>Working with files is easy !!</td>\n",
       "    </tr>\n",
       "    <tr>\n",
       "      <th>2</th>\n",
       "      <td>It is cool......</td>\n",
       "    </tr>\n",
       "  </tbody>\n",
       "</table>\n",
       "</div>"
      ],
      "text/plain": [
       "                               0\n",
       "0           Hello from python !!\n",
       "1  Working with files is easy !!\n",
       "2               It is cool......"
      ]
     },
     "execution_count": 9,
     "metadata": {},
     "output_type": "execute_result"
    }
   ],
   "source": [
    "df2"
   ]
  },
  {
   "cell_type": "code",
   "execution_count": null,
   "id": "e38e0c33",
   "metadata": {},
   "outputs": [],
   "source": [
    "df2 = pd.read_csv('.\\pandas\\supermarkets-commas.txt')"
   ]
  },
  {
   "cell_type": "code",
   "execution_count": null,
   "id": "18628e2b",
   "metadata": {},
   "outputs": [],
   "source": [
    "df3 = pd.read_csv('.\\pandas\\supermarkets-semi-colons.txt',sep=';')"
   ]
  },
  {
   "cell_type": "code",
   "execution_count": 10,
   "id": "bf0f6dd2",
   "metadata": {},
   "outputs": [
    {
     "data": {
      "text/plain": [
       "RangeIndex(start=0, stop=10841, step=1)"
      ]
     },
     "execution_count": 10,
     "metadata": {},
     "output_type": "execute_result"
    }
   ],
   "source": [
    "df1.index # Index Range"
   ]
  },
  {
   "cell_type": "code",
   "execution_count": 11,
   "id": "108031ae",
   "metadata": {},
   "outputs": [
    {
     "data": {
      "text/plain": [
       "Index(['App', 'Category', 'Rating', 'Reviews', 'Size', 'Installs', 'Type',\n",
       "       'Price', 'Content Rating', 'Genres', 'Last Updated', 'Current Ver',\n",
       "       'Android Ver'],\n",
       "      dtype='object')"
      ]
     },
     "execution_count": 11,
     "metadata": {},
     "output_type": "execute_result"
    }
   ],
   "source": [
    "df1.columns # Column Range"
   ]
  },
  {
   "cell_type": "code",
   "execution_count": null,
   "id": "fc858eb4",
   "metadata": {},
   "outputs": [],
   "source": [
    "df4 = pd.read_json('.\\pandas\\supermarkets.json')"
   ]
  },
  {
   "cell_type": "code",
   "execution_count": null,
   "id": "94012633",
   "metadata": {},
   "outputs": [],
   "source": [
    "df5 = pd.read_excel('.\\pandas\\supermarkets.xlsx',sheet_name = 0)"
   ]
  },
  {
   "cell_type": "code",
   "execution_count": null,
   "id": "4e54bb1e",
   "metadata": {},
   "outputs": [],
   "source": [
    "df6 = pd.read_csv('.\\pandas\\supermarkets.xlsx',header = None)"
   ]
  },
  {
   "cell_type": "code",
   "execution_count": null,
   "id": "36ede049",
   "metadata": {},
   "outputs": [],
   "source": [
    "df6.columns = ['ID','Address','City','Pin_Code','Country','Name','Employees']"
   ]
  },
  {
   "cell_type": "code",
   "execution_count": 70,
   "id": "008eb4bd",
   "metadata": {},
   "outputs": [],
   "source": [
    "# Handling missing data\n",
    "\n",
    "df = pd.read_csv('Marks.txt',header = None, names = ['Name','m1','m2','m3'])"
   ]
  },
  {
   "cell_type": "code",
   "execution_count": 82,
   "id": "10c03150",
   "metadata": {},
   "outputs": [
    {
     "data": {
      "text/html": [
       "<div>\n",
       "<style scoped>\n",
       "    .dataframe tbody tr th:only-of-type {\n",
       "        vertical-align: middle;\n",
       "    }\n",
       "\n",
       "    .dataframe tbody tr th {\n",
       "        vertical-align: top;\n",
       "    }\n",
       "\n",
       "    .dataframe thead th {\n",
       "        text-align: right;\n",
       "    }\n",
       "</style>\n",
       "<table border=\"1\" class=\"dataframe\">\n",
       "  <thead>\n",
       "    <tr style=\"text-align: right;\">\n",
       "      <th></th>\n",
       "      <th>m1</th>\n",
       "      <th>m2</th>\n",
       "      <th>m3</th>\n",
       "    </tr>\n",
       "    <tr>\n",
       "      <th>Name</th>\n",
       "      <th></th>\n",
       "      <th></th>\n",
       "      <th></th>\n",
       "    </tr>\n",
       "  </thead>\n",
       "  <tbody>\n",
       "    <tr>\n",
       "      <th>Ramesh</th>\n",
       "      <td>98.0</td>\n",
       "      <td>99.0</td>\n",
       "      <td>78.0</td>\n",
       "    </tr>\n",
       "    <tr>\n",
       "      <th>Suresh</th>\n",
       "      <td>NaN</td>\n",
       "      <td>89.0</td>\n",
       "      <td>67.0</td>\n",
       "    </tr>\n",
       "    <tr>\n",
       "      <th>Mahesh</th>\n",
       "      <td>96.0</td>\n",
       "      <td>78.0</td>\n",
       "      <td>NaN</td>\n",
       "    </tr>\n",
       "    <tr>\n",
       "      <th>Dinesh</th>\n",
       "      <td>88.0</td>\n",
       "      <td>76.0</td>\n",
       "      <td>55.0</td>\n",
       "    </tr>\n",
       "    <tr>\n",
       "      <th>Naresh</th>\n",
       "      <td>75.0</td>\n",
       "      <td>NaN</td>\n",
       "      <td>49.0</td>\n",
       "    </tr>\n",
       "  </tbody>\n",
       "</table>\n",
       "</div>"
      ],
      "text/plain": [
       "          m1    m2    m3\n",
       "Name                    \n",
       "Ramesh  98.0  99.0  78.0\n",
       "Suresh   NaN  89.0  67.0\n",
       "Mahesh  96.0  78.0   NaN\n",
       "Dinesh  88.0  76.0  55.0\n",
       "Naresh  75.0   NaN  49.0"
      ]
     },
     "execution_count": 82,
     "metadata": {},
     "output_type": "execute_result"
    }
   ],
   "source": [
    "df"
   ]
  },
  {
   "cell_type": "code",
   "execution_count": 20,
   "id": "8e807f07",
   "metadata": {},
   "outputs": [
    {
     "data": {
      "text/html": [
       "<div>\n",
       "<style scoped>\n",
       "    .dataframe tbody tr th:only-of-type {\n",
       "        vertical-align: middle;\n",
       "    }\n",
       "\n",
       "    .dataframe tbody tr th {\n",
       "        vertical-align: top;\n",
       "    }\n",
       "\n",
       "    .dataframe thead th {\n",
       "        text-align: right;\n",
       "    }\n",
       "</style>\n",
       "<table border=\"1\" class=\"dataframe\">\n",
       "  <thead>\n",
       "    <tr style=\"text-align: right;\">\n",
       "      <th></th>\n",
       "      <th>Name</th>\n",
       "      <th>m1</th>\n",
       "      <th>m2</th>\n",
       "      <th>m3</th>\n",
       "    </tr>\n",
       "  </thead>\n",
       "  <tbody>\n",
       "    <tr>\n",
       "      <th>0</th>\n",
       "      <td>False</td>\n",
       "      <td>False</td>\n",
       "      <td>False</td>\n",
       "      <td>False</td>\n",
       "    </tr>\n",
       "    <tr>\n",
       "      <th>1</th>\n",
       "      <td>False</td>\n",
       "      <td>True</td>\n",
       "      <td>False</td>\n",
       "      <td>False</td>\n",
       "    </tr>\n",
       "    <tr>\n",
       "      <th>2</th>\n",
       "      <td>False</td>\n",
       "      <td>False</td>\n",
       "      <td>False</td>\n",
       "      <td>True</td>\n",
       "    </tr>\n",
       "    <tr>\n",
       "      <th>3</th>\n",
       "      <td>False</td>\n",
       "      <td>False</td>\n",
       "      <td>False</td>\n",
       "      <td>False</td>\n",
       "    </tr>\n",
       "    <tr>\n",
       "      <th>4</th>\n",
       "      <td>False</td>\n",
       "      <td>False</td>\n",
       "      <td>True</td>\n",
       "      <td>False</td>\n",
       "    </tr>\n",
       "  </tbody>\n",
       "</table>\n",
       "</div>"
      ],
      "text/plain": [
       "    Name     m1     m2     m3\n",
       "0  False  False  False  False\n",
       "1  False   True  False  False\n",
       "2  False  False  False   True\n",
       "3  False  False  False  False\n",
       "4  False  False   True  False"
      ]
     },
     "execution_count": 20,
     "metadata": {},
     "output_type": "execute_result"
    }
   ],
   "source": [
    "df.isnull()"
   ]
  },
  {
   "cell_type": "code",
   "execution_count": 21,
   "id": "01fb49b7",
   "metadata": {},
   "outputs": [
    {
     "data": {
      "text/html": [
       "<div>\n",
       "<style scoped>\n",
       "    .dataframe tbody tr th:only-of-type {\n",
       "        vertical-align: middle;\n",
       "    }\n",
       "\n",
       "    .dataframe tbody tr th {\n",
       "        vertical-align: top;\n",
       "    }\n",
       "\n",
       "    .dataframe thead th {\n",
       "        text-align: right;\n",
       "    }\n",
       "</style>\n",
       "<table border=\"1\" class=\"dataframe\">\n",
       "  <thead>\n",
       "    <tr style=\"text-align: right;\">\n",
       "      <th></th>\n",
       "      <th>Name</th>\n",
       "      <th>m1</th>\n",
       "      <th>m2</th>\n",
       "      <th>m3</th>\n",
       "    </tr>\n",
       "  </thead>\n",
       "  <tbody>\n",
       "    <tr>\n",
       "      <th>0</th>\n",
       "      <td>Ramesh</td>\n",
       "      <td>98.0</td>\n",
       "      <td>99.0</td>\n",
       "      <td>78.0</td>\n",
       "    </tr>\n",
       "    <tr>\n",
       "      <th>1</th>\n",
       "      <td>Suresh</td>\n",
       "      <td>0.0</td>\n",
       "      <td>89.0</td>\n",
       "      <td>67.0</td>\n",
       "    </tr>\n",
       "    <tr>\n",
       "      <th>2</th>\n",
       "      <td>Mahesh</td>\n",
       "      <td>96.0</td>\n",
       "      <td>78.0</td>\n",
       "      <td>0.0</td>\n",
       "    </tr>\n",
       "    <tr>\n",
       "      <th>3</th>\n",
       "      <td>Dinesh</td>\n",
       "      <td>88.0</td>\n",
       "      <td>76.0</td>\n",
       "      <td>55.0</td>\n",
       "    </tr>\n",
       "    <tr>\n",
       "      <th>4</th>\n",
       "      <td>Naresh</td>\n",
       "      <td>75.0</td>\n",
       "      <td>0.0</td>\n",
       "      <td>49.0</td>\n",
       "    </tr>\n",
       "  </tbody>\n",
       "</table>\n",
       "</div>"
      ],
      "text/plain": [
       "     Name    m1    m2    m3\n",
       "0  Ramesh  98.0  99.0  78.0\n",
       "1  Suresh   0.0  89.0  67.0\n",
       "2  Mahesh  96.0  78.0   0.0\n",
       "3  Dinesh  88.0  76.0  55.0\n",
       "4  Naresh  75.0   0.0  49.0"
      ]
     },
     "execution_count": 21,
     "metadata": {},
     "output_type": "execute_result"
    }
   ],
   "source": [
    "df.fillna(0) # Fill missing values by 0"
   ]
  },
  {
   "cell_type": "code",
   "execution_count": 23,
   "id": "2037e99d",
   "metadata": {},
   "outputs": [],
   "source": [
    "df_zero = df.fillna(0)"
   ]
  },
  {
   "cell_type": "code",
   "execution_count": 26,
   "id": "05f370e0",
   "metadata": {},
   "outputs": [
    {
     "data": {
      "text/html": [
       "<div>\n",
       "<style scoped>\n",
       "    .dataframe tbody tr th:only-of-type {\n",
       "        vertical-align: middle;\n",
       "    }\n",
       "\n",
       "    .dataframe tbody tr th {\n",
       "        vertical-align: top;\n",
       "    }\n",
       "\n",
       "    .dataframe thead th {\n",
       "        text-align: right;\n",
       "    }\n",
       "</style>\n",
       "<table border=\"1\" class=\"dataframe\">\n",
       "  <thead>\n",
       "    <tr style=\"text-align: right;\">\n",
       "      <th></th>\n",
       "      <th>Name</th>\n",
       "      <th>m1</th>\n",
       "      <th>m2</th>\n",
       "      <th>m3</th>\n",
       "    </tr>\n",
       "  </thead>\n",
       "  <tbody>\n",
       "    <tr>\n",
       "      <th>0</th>\n",
       "      <td>Ramesh</td>\n",
       "      <td>98.0</td>\n",
       "      <td>99.0</td>\n",
       "      <td>78.0</td>\n",
       "    </tr>\n",
       "    <tr>\n",
       "      <th>1</th>\n",
       "      <td>Suresh</td>\n",
       "      <td>0.0</td>\n",
       "      <td>89.0</td>\n",
       "      <td>67.0</td>\n",
       "    </tr>\n",
       "    <tr>\n",
       "      <th>2</th>\n",
       "      <td>Mahesh</td>\n",
       "      <td>96.0</td>\n",
       "      <td>78.0</td>\n",
       "      <td>0.0</td>\n",
       "    </tr>\n",
       "    <tr>\n",
       "      <th>3</th>\n",
       "      <td>Dinesh</td>\n",
       "      <td>88.0</td>\n",
       "      <td>76.0</td>\n",
       "      <td>55.0</td>\n",
       "    </tr>\n",
       "    <tr>\n",
       "      <th>4</th>\n",
       "      <td>Naresh</td>\n",
       "      <td>75.0</td>\n",
       "      <td>0.0</td>\n",
       "      <td>49.0</td>\n",
       "    </tr>\n",
       "  </tbody>\n",
       "</table>\n",
       "</div>"
      ],
      "text/plain": [
       "     Name    m1    m2    m3\n",
       "0  Ramesh  98.0  99.0  78.0\n",
       "1  Suresh   0.0  89.0  67.0\n",
       "2  Mahesh  96.0  78.0   0.0\n",
       "3  Dinesh  88.0  76.0  55.0\n",
       "4  Naresh  75.0   0.0  49.0"
      ]
     },
     "execution_count": 26,
     "metadata": {},
     "output_type": "execute_result"
    }
   ],
   "source": [
    "df_zero"
   ]
  },
  {
   "cell_type": "code",
   "execution_count": 27,
   "id": "87997198",
   "metadata": {},
   "outputs": [
    {
     "data": {
      "text/plain": [
       "0    98.00\n",
       "1    89.25\n",
       "2    96.00\n",
       "3    88.00\n",
       "4    75.00\n",
       "Name: m1, dtype: float64"
      ]
     },
     "execution_count": 27,
     "metadata": {},
     "output_type": "execute_result"
    }
   ],
   "source": [
    "df['m1'].fillna(df['m1'].mean())"
   ]
  },
  {
   "cell_type": "code",
   "execution_count": 28,
   "id": "b72c1809",
   "metadata": {},
   "outputs": [
    {
     "data": {
      "text/html": [
       "<div>\n",
       "<style scoped>\n",
       "    .dataframe tbody tr th:only-of-type {\n",
       "        vertical-align: middle;\n",
       "    }\n",
       "\n",
       "    .dataframe tbody tr th {\n",
       "        vertical-align: top;\n",
       "    }\n",
       "\n",
       "    .dataframe thead th {\n",
       "        text-align: right;\n",
       "    }\n",
       "</style>\n",
       "<table border=\"1\" class=\"dataframe\">\n",
       "  <thead>\n",
       "    <tr style=\"text-align: right;\">\n",
       "      <th></th>\n",
       "      <th>Name</th>\n",
       "      <th>m1</th>\n",
       "      <th>m2</th>\n",
       "      <th>m3</th>\n",
       "    </tr>\n",
       "  </thead>\n",
       "  <tbody>\n",
       "    <tr>\n",
       "      <th>0</th>\n",
       "      <td>Ramesh</td>\n",
       "      <td>98.0</td>\n",
       "      <td>99.0</td>\n",
       "      <td>78.0</td>\n",
       "    </tr>\n",
       "    <tr>\n",
       "      <th>3</th>\n",
       "      <td>Dinesh</td>\n",
       "      <td>88.0</td>\n",
       "      <td>76.0</td>\n",
       "      <td>55.0</td>\n",
       "    </tr>\n",
       "  </tbody>\n",
       "</table>\n",
       "</div>"
      ],
      "text/plain": [
       "     Name    m1    m2    m3\n",
       "0  Ramesh  98.0  99.0  78.0\n",
       "3  Dinesh  88.0  76.0  55.0"
      ]
     },
     "execution_count": 28,
     "metadata": {},
     "output_type": "execute_result"
    }
   ],
   "source": [
    "df.dropna()"
   ]
  },
  {
   "cell_type": "code",
   "execution_count": 80,
   "id": "2b2cefbc",
   "metadata": {},
   "outputs": [
    {
     "data": {
      "text/html": [
       "<div>\n",
       "<style scoped>\n",
       "    .dataframe tbody tr th:only-of-type {\n",
       "        vertical-align: middle;\n",
       "    }\n",
       "\n",
       "    .dataframe tbody tr th {\n",
       "        vertical-align: top;\n",
       "    }\n",
       "\n",
       "    .dataframe thead th {\n",
       "        text-align: right;\n",
       "    }\n",
       "</style>\n",
       "<table border=\"1\" class=\"dataframe\">\n",
       "  <thead>\n",
       "    <tr style=\"text-align: right;\">\n",
       "      <th></th>\n",
       "    </tr>\n",
       "    <tr>\n",
       "      <th>Name</th>\n",
       "    </tr>\n",
       "  </thead>\n",
       "  <tbody>\n",
       "    <tr>\n",
       "      <th>Ramesh</th>\n",
       "    </tr>\n",
       "    <tr>\n",
       "      <th>Suresh</th>\n",
       "    </tr>\n",
       "    <tr>\n",
       "      <th>Mahesh</th>\n",
       "    </tr>\n",
       "    <tr>\n",
       "      <th>Dinesh</th>\n",
       "    </tr>\n",
       "    <tr>\n",
       "      <th>Naresh</th>\n",
       "    </tr>\n",
       "  </tbody>\n",
       "</table>\n",
       "</div>"
      ],
      "text/plain": [
       "Empty DataFrame\n",
       "Columns: []\n",
       "Index: [Ramesh, Suresh, Mahesh, Dinesh, Naresh]"
      ]
     },
     "execution_count": 80,
     "metadata": {},
     "output_type": "execute_result"
    }
   ],
   "source": [
    "df.dropna(axis=1)"
   ]
  },
  {
   "cell_type": "code",
   "execution_count": null,
   "id": "ecbaf953",
   "metadata": {},
   "outputs": [],
   "source": [
    "df2 =  df.set_index('Name') # Name is the index now\n",
    "\n",
    "df2 =  df.set_index('Name',inplace=True) # Now df also has the name as a index"
   ]
  },
  {
   "cell_type": "code",
   "execution_count": 78,
   "id": "8b953cd7",
   "metadata": {},
   "outputs": [],
   "source": [
    "df2"
   ]
  },
  {
   "cell_type": "code",
   "execution_count": 36,
   "id": "9253fa61",
   "metadata": {},
   "outputs": [],
   "source": [
    "# Label Based Indexing"
   ]
  },
  {
   "cell_type": "code",
   "execution_count": 37,
   "id": "fca0aed5",
   "metadata": {},
   "outputs": [
    {
     "data": {
      "text/plain": [
       "Name\n",
       "Ramesh    99.0\n",
       "Suresh    89.0\n",
       "Mahesh    78.0\n",
       "Dinesh    76.0\n",
       "Naresh     NaN\n",
       "Name: m2, dtype: float64"
      ]
     },
     "execution_count": 37,
     "metadata": {},
     "output_type": "execute_result"
    }
   ],
   "source": [
    "# Select all rows and only the m2 column\n",
    "\n",
    "df2.loc[:,'m2'] \n",
    "\n",
    "df7.loc[:,'Country'] # Supermarket Table"
   ]
  },
  {
   "cell_type": "code",
   "execution_count": 16,
   "id": "9cce4c03",
   "metadata": {},
   "outputs": [
    {
     "data": {
      "text/html": [
       "<div>\n",
       "<style scoped>\n",
       "    .dataframe tbody tr th:only-of-type {\n",
       "        vertical-align: middle;\n",
       "    }\n",
       "\n",
       "    .dataframe tbody tr th {\n",
       "        vertical-align: top;\n",
       "    }\n",
       "\n",
       "    .dataframe thead th {\n",
       "        text-align: right;\n",
       "    }\n",
       "</style>\n",
       "<table border=\"1\" class=\"dataframe\">\n",
       "  <thead>\n",
       "    <tr style=\"text-align: right;\">\n",
       "      <th></th>\n",
       "      <th>ID</th>\n",
       "      <th>Address</th>\n",
       "      <th>City</th>\n",
       "      <th>Pin_Code</th>\n",
       "      <th>Country</th>\n",
       "      <th>Name</th>\n",
       "      <th>Employees</th>\n",
       "    </tr>\n",
       "  </thead>\n",
       "  <tbody>\n",
       "    <tr>\n",
       "      <th>0</th>\n",
       "      <td>1</td>\n",
       "      <td>3666 21st St</td>\n",
       "      <td>San Francisco</td>\n",
       "      <td>CA 94114</td>\n",
       "      <td>USA</td>\n",
       "      <td>Maderia</td>\n",
       "      <td>8</td>\n",
       "    </tr>\n",
       "    <tr>\n",
       "      <th>1</th>\n",
       "      <td>2</td>\n",
       "      <td>735 Dolores St</td>\n",
       "      <td>San Francisco</td>\n",
       "      <td>CA 94119</td>\n",
       "      <td>USA</td>\n",
       "      <td>Bready Shop</td>\n",
       "      <td>15</td>\n",
       "    </tr>\n",
       "    <tr>\n",
       "      <th>2</th>\n",
       "      <td>3</td>\n",
       "      <td>332 Hill St</td>\n",
       "      <td>San Francisco</td>\n",
       "      <td>California 94114</td>\n",
       "      <td>USA</td>\n",
       "      <td>Super River</td>\n",
       "      <td>25</td>\n",
       "    </tr>\n",
       "    <tr>\n",
       "      <th>3</th>\n",
       "      <td>4</td>\n",
       "      <td>3995 23rd St</td>\n",
       "      <td>San Francisco</td>\n",
       "      <td>CA 94114</td>\n",
       "      <td>USA</td>\n",
       "      <td>Ben's Shop</td>\n",
       "      <td>10</td>\n",
       "    </tr>\n",
       "    <tr>\n",
       "      <th>4</th>\n",
       "      <td>5</td>\n",
       "      <td>1056 Sanchez St</td>\n",
       "      <td>San Francisco</td>\n",
       "      <td>California</td>\n",
       "      <td>USA</td>\n",
       "      <td>Sanchez</td>\n",
       "      <td>12</td>\n",
       "    </tr>\n",
       "    <tr>\n",
       "      <th>5</th>\n",
       "      <td>6</td>\n",
       "      <td>551 Alvarado St</td>\n",
       "      <td>San Francisco</td>\n",
       "      <td>CA 94114</td>\n",
       "      <td>USA</td>\n",
       "      <td>Richvalley</td>\n",
       "      <td>20</td>\n",
       "    </tr>\n",
       "  </tbody>\n",
       "</table>\n",
       "</div>"
      ],
      "text/plain": [
       "   ID           Address           City          Pin_Code Country         Name  \\\n",
       "0    1     3666 21st St  San Francisco          CA 94114     USA      Maderia   \n",
       "1    2   735 Dolores St  San Francisco          CA 94119     USA  Bready Shop   \n",
       "2    3      332 Hill St  San Francisco  California 94114     USA  Super River   \n",
       "3    4     3995 23rd St  San Francisco          CA 94114     USA   Ben's Shop   \n",
       "4    5  1056 Sanchez St  San Francisco       California      USA      Sanchez   \n",
       "5    6  551 Alvarado St  San Francisco          CA 94114     USA   Richvalley   \n",
       "\n",
       "   Employees  \n",
       "0          8  \n",
       "1         15  \n",
       "2         25  \n",
       "3         10  \n",
       "4         12  \n",
       "5         20  "
      ]
     },
     "execution_count": 16,
     "metadata": {},
     "output_type": "execute_result"
    }
   ],
   "source": [
    "df7 = pd.read_csv('Super_Market.csv')\n",
    "\n",
    "df7"
   ]
  },
  {
   "cell_type": "code",
   "execution_count": 15,
   "id": "377069d6",
   "metadata": {},
   "outputs": [
    {
     "data": {
      "text/plain": [
       "0    USA\n",
       "1    USA\n",
       "2    USA\n",
       "3    USA\n",
       "4    USA\n",
       "5    USA\n",
       "Name: Country, dtype: object"
      ]
     },
     "execution_count": 15,
     "metadata": {},
     "output_type": "execute_result"
    }
   ],
   "source": [
    "df7.loc[:,'Country'] # Supermarket Table"
   ]
  },
  {
   "cell_type": "code",
   "execution_count": 40,
   "id": "0018d897",
   "metadata": {},
   "outputs": [
    {
     "data": {
      "text/html": [
       "<div>\n",
       "<style scoped>\n",
       "    .dataframe tbody tr th:only-of-type {\n",
       "        vertical-align: middle;\n",
       "    }\n",
       "\n",
       "    .dataframe tbody tr th {\n",
       "        vertical-align: top;\n",
       "    }\n",
       "\n",
       "    .dataframe thead th {\n",
       "        text-align: right;\n",
       "    }\n",
       "</style>\n",
       "<table border=\"1\" class=\"dataframe\">\n",
       "  <thead>\n",
       "    <tr style=\"text-align: right;\">\n",
       "      <th></th>\n",
       "      <th>m1</th>\n",
       "      <th>m2</th>\n",
       "      <th>m3</th>\n",
       "    </tr>\n",
       "    <tr>\n",
       "      <th>Name</th>\n",
       "      <th></th>\n",
       "      <th></th>\n",
       "      <th></th>\n",
       "    </tr>\n",
       "  </thead>\n",
       "  <tbody>\n",
       "    <tr>\n",
       "      <th>Suresh</th>\n",
       "      <td>NaN</td>\n",
       "      <td>89.0</td>\n",
       "      <td>67.0</td>\n",
       "    </tr>\n",
       "    <tr>\n",
       "      <th>Mahesh</th>\n",
       "      <td>96.0</td>\n",
       "      <td>78.0</td>\n",
       "      <td>NaN</td>\n",
       "    </tr>\n",
       "    <tr>\n",
       "      <th>Dinesh</th>\n",
       "      <td>88.0</td>\n",
       "      <td>76.0</td>\n",
       "      <td>55.0</td>\n",
       "    </tr>\n",
       "  </tbody>\n",
       "</table>\n",
       "</div>"
      ],
      "text/plain": [
       "          m1    m2    m3\n",
       "Name                    \n",
       "Suresh   NaN  89.0  67.0\n",
       "Mahesh  96.0  78.0   NaN\n",
       "Dinesh  88.0  76.0  55.0"
      ]
     },
     "execution_count": 40,
     "metadata": {},
     "output_type": "execute_result"
    }
   ],
   "source": [
    "# Select rows with index Suresh to Dinesh and columns m1 to m3\n",
    "\n",
    "df2.loc['Suresh':'Dinesh','m1':'m3']\n"
   ]
  },
  {
   "cell_type": "code",
   "execution_count": 19,
   "id": "a37e0a18",
   "metadata": {},
   "outputs": [
    {
     "data": {
      "text/html": [
       "<div>\n",
       "<style scoped>\n",
       "    .dataframe tbody tr th:only-of-type {\n",
       "        vertical-align: middle;\n",
       "    }\n",
       "\n",
       "    .dataframe tbody tr th {\n",
       "        vertical-align: top;\n",
       "    }\n",
       "\n",
       "    .dataframe thead th {\n",
       "        text-align: right;\n",
       "    }\n",
       "</style>\n",
       "<table border=\"1\" class=\"dataframe\">\n",
       "  <thead>\n",
       "    <tr style=\"text-align: right;\">\n",
       "      <th></th>\n",
       "      <th>City</th>\n",
       "      <th>Pin_Code</th>\n",
       "      <th>Country</th>\n",
       "      <th>Name</th>\n",
       "    </tr>\n",
       "  </thead>\n",
       "  <tbody>\n",
       "    <tr>\n",
       "      <th>3</th>\n",
       "      <td>San Francisco</td>\n",
       "      <td>CA 94114</td>\n",
       "      <td>USA</td>\n",
       "      <td>Ben's Shop</td>\n",
       "    </tr>\n",
       "    <tr>\n",
       "      <th>4</th>\n",
       "      <td>San Francisco</td>\n",
       "      <td>California</td>\n",
       "      <td>USA</td>\n",
       "      <td>Sanchez</td>\n",
       "    </tr>\n",
       "    <tr>\n",
       "      <th>5</th>\n",
       "      <td>San Francisco</td>\n",
       "      <td>CA 94114</td>\n",
       "      <td>USA</td>\n",
       "      <td>Richvalley</td>\n",
       "    </tr>\n",
       "  </tbody>\n",
       "</table>\n",
       "</div>"
      ],
      "text/plain": [
       "            City     Pin_Code Country        Name\n",
       "3  San Francisco     CA 94114     USA  Ben's Shop\n",
       "4  San Francisco  California      USA     Sanchez\n",
       "5  San Francisco     CA 94114     USA  Richvalley"
      ]
     },
     "execution_count": 19,
     "metadata": {},
     "output_type": "execute_result"
    }
   ],
   "source": [
    "df7.loc[3:5,'City':'Name'] # Supermarket Table"
   ]
  },
  {
   "cell_type": "code",
   "execution_count": 18,
   "id": "bbe794b3",
   "metadata": {},
   "outputs": [
    {
     "data": {
      "text/html": [
       "<div>\n",
       "<style scoped>\n",
       "    .dataframe tbody tr th:only-of-type {\n",
       "        vertical-align: middle;\n",
       "    }\n",
       "\n",
       "    .dataframe tbody tr th {\n",
       "        vertical-align: top;\n",
       "    }\n",
       "\n",
       "    .dataframe thead th {\n",
       "        text-align: right;\n",
       "    }\n",
       "</style>\n",
       "<table border=\"1\" class=\"dataframe\">\n",
       "  <thead>\n",
       "    <tr style=\"text-align: right;\">\n",
       "      <th></th>\n",
       "      <th>Address</th>\n",
       "      <th>City</th>\n",
       "      <th>Pin_Code</th>\n",
       "    </tr>\n",
       "  </thead>\n",
       "  <tbody>\n",
       "    <tr>\n",
       "      <th>1</th>\n",
       "      <td>735 Dolores St</td>\n",
       "      <td>San Francisco</td>\n",
       "      <td>CA 94119</td>\n",
       "    </tr>\n",
       "    <tr>\n",
       "      <th>2</th>\n",
       "      <td>332 Hill St</td>\n",
       "      <td>San Francisco</td>\n",
       "      <td>California 94114</td>\n",
       "    </tr>\n",
       "    <tr>\n",
       "      <th>3</th>\n",
       "      <td>3995 23rd St</td>\n",
       "      <td>San Francisco</td>\n",
       "      <td>CA 94114</td>\n",
       "    </tr>\n",
       "    <tr>\n",
       "      <th>4</th>\n",
       "      <td>1056 Sanchez St</td>\n",
       "      <td>San Francisco</td>\n",
       "      <td>California</td>\n",
       "    </tr>\n",
       "  </tbody>\n",
       "</table>\n",
       "</div>"
      ],
      "text/plain": [
       "           Address           City          Pin_Code\n",
       "1   735 Dolores St  San Francisco          CA 94119\n",
       "2      332 Hill St  San Francisco  California 94114\n",
       "3     3995 23rd St  San Francisco          CA 94114\n",
       "4  1056 Sanchez St  San Francisco       California "
      ]
     },
     "execution_count": 18,
     "metadata": {},
     "output_type": "execute_result"
    }
   ],
   "source": [
    "df7.loc[1:4,'Address':'Pin_Code'] # Supermarket Table"
   ]
  },
  {
   "cell_type": "code",
   "execution_count": 42,
   "id": "7af05290",
   "metadata": {},
   "outputs": [
    {
     "data": {
      "text/plain": [
       "49.0"
      ]
     },
     "execution_count": 42,
     "metadata": {},
     "output_type": "execute_result"
    }
   ],
   "source": [
    "df2.loc['Naresh','m3']"
   ]
  },
  {
   "cell_type": "code",
   "execution_count": 20,
   "id": "c2dd708b",
   "metadata": {},
   "outputs": [
    {
     "data": {
      "text/plain": [
       "'USA'"
      ]
     },
     "execution_count": 20,
     "metadata": {},
     "output_type": "execute_result"
    }
   ],
   "source": [
    "df7.loc[4,'Country'] # Supermarket Table"
   ]
  },
  {
   "cell_type": "code",
   "execution_count": 44,
   "id": "688abc58",
   "metadata": {},
   "outputs": [
    {
     "data": {
      "text/plain": [
       "m1    75.0\n",
       "m2     NaN\n",
       "m3    49.0\n",
       "Name: Naresh, dtype: float64"
      ]
     },
     "execution_count": 44,
     "metadata": {},
     "output_type": "execute_result"
    }
   ],
   "source": [
    "# Interger Based Indexing\n",
    "\n",
    "df2.iloc[4] # Index 4 so it shows the 5th row values of Naresh\n"
   ]
  },
  {
   "cell_type": "code",
   "execution_count": 21,
   "id": "432d1ec8",
   "metadata": {},
   "outputs": [
    {
     "data": {
      "text/plain": [
       "ID                         5\n",
       "Address      1056 Sanchez St\n",
       "City           San Francisco\n",
       "Pin_Code         California \n",
       "Country                  USA\n",
       "Name                 Sanchez\n",
       "Employees                 12\n",
       "Name: 4, dtype: object"
      ]
     },
     "execution_count": 21,
     "metadata": {},
     "output_type": "execute_result"
    }
   ],
   "source": [
    "df7.iloc[4]  # Supermarket Table"
   ]
  },
  {
   "cell_type": "code",
   "execution_count": 48,
   "id": "88ff9b30",
   "metadata": {},
   "outputs": [
    {
     "data": {
      "text/plain": [
       "89.0"
      ]
     },
     "execution_count": 48,
     "metadata": {},
     "output_type": "execute_result"
    }
   ],
   "source": [
    "df2.iloc[1,1]"
   ]
  },
  {
   "cell_type": "code",
   "execution_count": 22,
   "id": "25d62c58",
   "metadata": {},
   "outputs": [
    {
     "data": {
      "text/plain": [
       "'USA'"
      ]
     },
     "execution_count": 22,
     "metadata": {},
     "output_type": "execute_result"
    }
   ],
   "source": [
    "df7.iloc[4,4]  # Supermarket Table"
   ]
  },
  {
   "cell_type": "code",
   "execution_count": 50,
   "id": "4d2d178e",
   "metadata": {},
   "outputs": [
    {
     "data": {
      "text/plain": [
       "Name\n",
       "Ramesh    78.0\n",
       "Suresh    67.0\n",
       "Mahesh     NaN\n",
       "Dinesh    55.0\n",
       "Naresh    49.0\n",
       "Name: m3, dtype: float64"
      ]
     },
     "execution_count": 50,
     "metadata": {},
     "output_type": "execute_result"
    }
   ],
   "source": [
    "df2.iloc[:,2] # all rows 3rd column"
   ]
  },
  {
   "cell_type": "code",
   "execution_count": 23,
   "id": "0082d159",
   "metadata": {},
   "outputs": [
    {
     "data": {
      "text/plain": [
       "0    USA\n",
       "1    USA\n",
       "2    USA\n",
       "3    USA\n",
       "4    USA\n",
       "5    USA\n",
       "Name: Country, dtype: object"
      ]
     },
     "execution_count": 23,
     "metadata": {},
     "output_type": "execute_result"
    }
   ],
   "source": [
    "df7.iloc[:,4]  # Supermarket Table"
   ]
  },
  {
   "cell_type": "code",
   "execution_count": 52,
   "id": "d564e883",
   "metadata": {},
   "outputs": [
    {
     "data": {
      "text/html": [
       "<div>\n",
       "<style scoped>\n",
       "    .dataframe tbody tr th:only-of-type {\n",
       "        vertical-align: middle;\n",
       "    }\n",
       "\n",
       "    .dataframe tbody tr th {\n",
       "        vertical-align: top;\n",
       "    }\n",
       "\n",
       "    .dataframe thead th {\n",
       "        text-align: right;\n",
       "    }\n",
       "</style>\n",
       "<table border=\"1\" class=\"dataframe\">\n",
       "  <thead>\n",
       "    <tr style=\"text-align: right;\">\n",
       "      <th></th>\n",
       "      <th>m2</th>\n",
       "      <th>m3</th>\n",
       "    </tr>\n",
       "    <tr>\n",
       "      <th>Name</th>\n",
       "      <th></th>\n",
       "      <th></th>\n",
       "    </tr>\n",
       "  </thead>\n",
       "  <tbody>\n",
       "    <tr>\n",
       "      <th>Suresh</th>\n",
       "      <td>89.0</td>\n",
       "      <td>67.0</td>\n",
       "    </tr>\n",
       "    <tr>\n",
       "      <th>Mahesh</th>\n",
       "      <td>78.0</td>\n",
       "      <td>NaN</td>\n",
       "    </tr>\n",
       "  </tbody>\n",
       "</table>\n",
       "</div>"
      ],
      "text/plain": [
       "          m2    m3\n",
       "Name              \n",
       "Suresh  89.0  67.0\n",
       "Mahesh  78.0   NaN"
      ]
     },
     "execution_count": 52,
     "metadata": {},
     "output_type": "execute_result"
    }
   ],
   "source": [
    "df2.iloc[1:3,1:3]  # 1st row to 2nd row and 1st column to 2nd column"
   ]
  },
  {
   "cell_type": "code",
   "execution_count": 24,
   "id": "c73ef731",
   "metadata": {},
   "outputs": [
    {
     "data": {
      "text/html": [
       "<div>\n",
       "<style scoped>\n",
       "    .dataframe tbody tr th:only-of-type {\n",
       "        vertical-align: middle;\n",
       "    }\n",
       "\n",
       "    .dataframe tbody tr th {\n",
       "        vertical-align: top;\n",
       "    }\n",
       "\n",
       "    .dataframe thead th {\n",
       "        text-align: right;\n",
       "    }\n",
       "</style>\n",
       "<table border=\"1\" class=\"dataframe\">\n",
       "  <thead>\n",
       "    <tr style=\"text-align: right;\">\n",
       "      <th></th>\n",
       "      <th>Address</th>\n",
       "      <th>City</th>\n",
       "    </tr>\n",
       "  </thead>\n",
       "  <tbody>\n",
       "    <tr>\n",
       "      <th>1</th>\n",
       "      <td>735 Dolores St</td>\n",
       "      <td>San Francisco</td>\n",
       "    </tr>\n",
       "    <tr>\n",
       "      <th>2</th>\n",
       "      <td>332 Hill St</td>\n",
       "      <td>San Francisco</td>\n",
       "    </tr>\n",
       "  </tbody>\n",
       "</table>\n",
       "</div>"
      ],
      "text/plain": [
       "          Address           City\n",
       "1  735 Dolores St  San Francisco\n",
       "2     332 Hill St  San Francisco"
      ]
     },
     "execution_count": 24,
     "metadata": {},
     "output_type": "execute_result"
    }
   ],
   "source": [
    "df7.iloc[1:3,1:3]  # Supermarket Table"
   ]
  },
  {
   "cell_type": "code",
   "execution_count": 56,
   "id": "38b39f80",
   "metadata": {},
   "outputs": [
    {
     "data": {
      "text/html": [
       "<div>\n",
       "<style scoped>\n",
       "    .dataframe tbody tr th:only-of-type {\n",
       "        vertical-align: middle;\n",
       "    }\n",
       "\n",
       "    .dataframe tbody tr th {\n",
       "        vertical-align: top;\n",
       "    }\n",
       "\n",
       "    .dataframe thead th {\n",
       "        text-align: right;\n",
       "    }\n",
       "</style>\n",
       "<table border=\"1\" class=\"dataframe\">\n",
       "  <thead>\n",
       "    <tr style=\"text-align: right;\">\n",
       "      <th></th>\n",
       "      <th>m2</th>\n",
       "      <th>m3</th>\n",
       "    </tr>\n",
       "    <tr>\n",
       "      <th>Name</th>\n",
       "      <th></th>\n",
       "      <th></th>\n",
       "    </tr>\n",
       "  </thead>\n",
       "  <tbody>\n",
       "    <tr>\n",
       "      <th>Ramesh</th>\n",
       "      <td>99.0</td>\n",
       "      <td>78.0</td>\n",
       "    </tr>\n",
       "    <tr>\n",
       "      <th>Suresh</th>\n",
       "      <td>89.0</td>\n",
       "      <td>67.0</td>\n",
       "    </tr>\n",
       "  </tbody>\n",
       "</table>\n",
       "</div>"
      ],
      "text/plain": [
       "          m2    m3\n",
       "Name              \n",
       "Ramesh  99.0  78.0\n",
       "Suresh  89.0  67.0"
      ]
     },
     "execution_count": 56,
     "metadata": {},
     "output_type": "execute_result"
    }
   ],
   "source": [
    "# Combination of Label and Integer Based Indexing Method  (ix method is replaced with iloc)\n",
    "\n",
    "df2.iloc[0:2,1:3]  # 0th row to 1st row and 1st column to 2nd column"
   ]
  },
  {
   "cell_type": "code",
   "execution_count": 25,
   "id": "157d318e",
   "metadata": {},
   "outputs": [
    {
     "data": {
      "text/html": [
       "<div>\n",
       "<style scoped>\n",
       "    .dataframe tbody tr th:only-of-type {\n",
       "        vertical-align: middle;\n",
       "    }\n",
       "\n",
       "    .dataframe tbody tr th {\n",
       "        vertical-align: top;\n",
       "    }\n",
       "\n",
       "    .dataframe thead th {\n",
       "        text-align: right;\n",
       "    }\n",
       "</style>\n",
       "<table border=\"1\" class=\"dataframe\">\n",
       "  <thead>\n",
       "    <tr style=\"text-align: right;\">\n",
       "      <th></th>\n",
       "      <th>Pin_Code</th>\n",
       "      <th>Country</th>\n",
       "    </tr>\n",
       "  </thead>\n",
       "  <tbody>\n",
       "    <tr>\n",
       "      <th>2</th>\n",
       "      <td>California 94114</td>\n",
       "      <td>USA</td>\n",
       "    </tr>\n",
       "    <tr>\n",
       "      <th>3</th>\n",
       "      <td>CA 94114</td>\n",
       "      <td>USA</td>\n",
       "    </tr>\n",
       "  </tbody>\n",
       "</table>\n",
       "</div>"
      ],
      "text/plain": [
       "           Pin_Code Country\n",
       "2  California 94114     USA\n",
       "3          CA 94114     USA"
      ]
     },
     "execution_count": 25,
     "metadata": {},
     "output_type": "execute_result"
    }
   ],
   "source": [
    "df7.iloc[2:4,3:5]  # Supermarket Table"
   ]
  },
  {
   "cell_type": "code",
   "execution_count": 58,
   "id": "2594a443",
   "metadata": {},
   "outputs": [
    {
     "data": {
      "text/html": [
       "<div>\n",
       "<style scoped>\n",
       "    .dataframe tbody tr th:only-of-type {\n",
       "        vertical-align: middle;\n",
       "    }\n",
       "\n",
       "    .dataframe tbody tr th {\n",
       "        vertical-align: top;\n",
       "    }\n",
       "\n",
       "    .dataframe thead th {\n",
       "        text-align: right;\n",
       "    }\n",
       "</style>\n",
       "<table border=\"1\" class=\"dataframe\">\n",
       "  <thead>\n",
       "    <tr style=\"text-align: right;\">\n",
       "      <th></th>\n",
       "      <th>m1</th>\n",
       "      <th>m2</th>\n",
       "      <th>m3</th>\n",
       "    </tr>\n",
       "    <tr>\n",
       "      <th>Name</th>\n",
       "      <th></th>\n",
       "      <th></th>\n",
       "      <th></th>\n",
       "    </tr>\n",
       "  </thead>\n",
       "  <tbody>\n",
       "    <tr>\n",
       "      <th>Ramesh</th>\n",
       "      <td>98.0</td>\n",
       "      <td>99.0</td>\n",
       "      <td>78.0</td>\n",
       "    </tr>\n",
       "    <tr>\n",
       "      <th>Suresh</th>\n",
       "      <td>NaN</td>\n",
       "      <td>89.0</td>\n",
       "      <td>67.0</td>\n",
       "    </tr>\n",
       "    <tr>\n",
       "      <th>Mahesh</th>\n",
       "      <td>96.0</td>\n",
       "      <td>78.0</td>\n",
       "      <td>NaN</td>\n",
       "    </tr>\n",
       "    <tr>\n",
       "      <th>Dinesh</th>\n",
       "      <td>88.0</td>\n",
       "      <td>76.0</td>\n",
       "      <td>55.0</td>\n",
       "    </tr>\n",
       "    <tr>\n",
       "      <th>Naresh</th>\n",
       "      <td>75.0</td>\n",
       "      <td>NaN</td>\n",
       "      <td>49.0</td>\n",
       "    </tr>\n",
       "  </tbody>\n",
       "</table>\n",
       "</div>"
      ],
      "text/plain": [
       "          m1    m2    m3\n",
       "Name                    \n",
       "Ramesh  98.0  99.0  78.0\n",
       "Suresh   NaN  89.0  67.0\n",
       "Mahesh  96.0  78.0   NaN\n",
       "Dinesh  88.0  76.0  55.0\n",
       "Naresh  75.0   NaN  49.0"
      ]
     },
     "execution_count": 58,
     "metadata": {},
     "output_type": "execute_result"
    }
   ],
   "source": [
    "# Boolean Indexing\n",
    "\n",
    "df2"
   ]
  },
  {
   "cell_type": "code",
   "execution_count": 59,
   "id": "7b07e067",
   "metadata": {},
   "outputs": [
    {
     "data": {
      "text/html": [
       "<div>\n",
       "<style scoped>\n",
       "    .dataframe tbody tr th:only-of-type {\n",
       "        vertical-align: middle;\n",
       "    }\n",
       "\n",
       "    .dataframe tbody tr th {\n",
       "        vertical-align: top;\n",
       "    }\n",
       "\n",
       "    .dataframe thead th {\n",
       "        text-align: right;\n",
       "    }\n",
       "</style>\n",
       "<table border=\"1\" class=\"dataframe\">\n",
       "  <thead>\n",
       "    <tr style=\"text-align: right;\">\n",
       "      <th></th>\n",
       "      <th>m1</th>\n",
       "      <th>m2</th>\n",
       "      <th>m3</th>\n",
       "    </tr>\n",
       "    <tr>\n",
       "      <th>Name</th>\n",
       "      <th></th>\n",
       "      <th></th>\n",
       "      <th></th>\n",
       "    </tr>\n",
       "  </thead>\n",
       "  <tbody>\n",
       "    <tr>\n",
       "      <th>Ramesh</th>\n",
       "      <td>98.0</td>\n",
       "      <td>99.0</td>\n",
       "      <td>78.0</td>\n",
       "    </tr>\n",
       "    <tr>\n",
       "      <th>Mahesh</th>\n",
       "      <td>96.0</td>\n",
       "      <td>78.0</td>\n",
       "      <td>NaN</td>\n",
       "    </tr>\n",
       "  </tbody>\n",
       "</table>\n",
       "</div>"
      ],
      "text/plain": [
       "          m1    m2    m3\n",
       "Name                    \n",
       "Ramesh  98.0  99.0  78.0\n",
       "Mahesh  96.0  78.0   NaN"
      ]
     },
     "execution_count": 59,
     "metadata": {},
     "output_type": "execute_result"
    }
   ],
   "source": [
    "# Select the students who have m1 marks greater than 90\n",
    "\n",
    "df2[df2['m1']>90]"
   ]
  },
  {
   "cell_type": "code",
   "execution_count": 60,
   "id": "12d55a26",
   "metadata": {},
   "outputs": [
    {
     "data": {
      "text/html": [
       "<div>\n",
       "<style scoped>\n",
       "    .dataframe tbody tr th:only-of-type {\n",
       "        vertical-align: middle;\n",
       "    }\n",
       "\n",
       "    .dataframe tbody tr th {\n",
       "        vertical-align: top;\n",
       "    }\n",
       "\n",
       "    .dataframe thead th {\n",
       "        text-align: right;\n",
       "    }\n",
       "</style>\n",
       "<table border=\"1\" class=\"dataframe\">\n",
       "  <thead>\n",
       "    <tr style=\"text-align: right;\">\n",
       "      <th></th>\n",
       "      <th>m1</th>\n",
       "      <th>m2</th>\n",
       "      <th>m3</th>\n",
       "    </tr>\n",
       "    <tr>\n",
       "      <th>Name</th>\n",
       "      <th></th>\n",
       "      <th></th>\n",
       "      <th></th>\n",
       "    </tr>\n",
       "  </thead>\n",
       "  <tbody>\n",
       "    <tr>\n",
       "      <th>Ramesh</th>\n",
       "      <td>98.0</td>\n",
       "      <td>99.0</td>\n",
       "      <td>78.0</td>\n",
       "    </tr>\n",
       "  </tbody>\n",
       "</table>\n",
       "</div>"
      ],
      "text/plain": [
       "          m1    m2    m3\n",
       "Name                    \n",
       "Ramesh  98.0  99.0  78.0"
      ]
     },
     "execution_count": 60,
     "metadata": {},
     "output_type": "execute_result"
    }
   ],
   "source": [
    "# Select the students who have m1 and m2 marks greater than 90\n",
    "\n",
    "df2[(df2['m1']>90)&(df2['m2']>90)]"
   ]
  },
  {
   "cell_type": "code",
   "execution_count": 61,
   "id": "ddf16d41",
   "metadata": {},
   "outputs": [
    {
     "data": {
      "text/html": [
       "<div>\n",
       "<style scoped>\n",
       "    .dataframe tbody tr th:only-of-type {\n",
       "        vertical-align: middle;\n",
       "    }\n",
       "\n",
       "    .dataframe tbody tr th {\n",
       "        vertical-align: top;\n",
       "    }\n",
       "\n",
       "    .dataframe thead th {\n",
       "        text-align: right;\n",
       "    }\n",
       "</style>\n",
       "<table border=\"1\" class=\"dataframe\">\n",
       "  <thead>\n",
       "    <tr style=\"text-align: right;\">\n",
       "      <th></th>\n",
       "      <th>m1</th>\n",
       "      <th>m2</th>\n",
       "      <th>m3</th>\n",
       "    </tr>\n",
       "    <tr>\n",
       "      <th>Name</th>\n",
       "      <th></th>\n",
       "      <th></th>\n",
       "      <th></th>\n",
       "    </tr>\n",
       "  </thead>\n",
       "  <tbody>\n",
       "    <tr>\n",
       "      <th>Ramesh</th>\n",
       "      <td>98.0</td>\n",
       "      <td>99.0</td>\n",
       "      <td>78.0</td>\n",
       "    </tr>\n",
       "    <tr>\n",
       "      <th>Suresh</th>\n",
       "      <td>NaN</td>\n",
       "      <td>89.0</td>\n",
       "      <td>67.0</td>\n",
       "    </tr>\n",
       "    <tr>\n",
       "      <th>Mahesh</th>\n",
       "      <td>96.0</td>\n",
       "      <td>78.0</td>\n",
       "      <td>NaN</td>\n",
       "    </tr>\n",
       "    <tr>\n",
       "      <th>Dinesh</th>\n",
       "      <td>88.0</td>\n",
       "      <td>76.0</td>\n",
       "      <td>55.0</td>\n",
       "    </tr>\n",
       "    <tr>\n",
       "      <th>Naresh</th>\n",
       "      <td>75.0</td>\n",
       "      <td>NaN</td>\n",
       "      <td>49.0</td>\n",
       "    </tr>\n",
       "  </tbody>\n",
       "</table>\n",
       "</div>"
      ],
      "text/plain": [
       "          m1    m2    m3\n",
       "Name                    \n",
       "Ramesh  98.0  99.0  78.0\n",
       "Suresh   NaN  89.0  67.0\n",
       "Mahesh  96.0  78.0   NaN\n",
       "Dinesh  88.0  76.0  55.0\n",
       "Naresh  75.0   NaN  49.0"
      ]
     },
     "execution_count": 61,
     "metadata": {},
     "output_type": "execute_result"
    }
   ],
   "source": [
    "# Data Aggregation \n",
    "\n",
    "df2"
   ]
  },
  {
   "cell_type": "code",
   "execution_count": 63,
   "id": "6e4d65bd",
   "metadata": {},
   "outputs": [
    {
     "data": {
      "text/plain": [
       "{76.0: ['Dinesh'], 78.0: ['Mahesh'], 89.0: ['Suresh'], 99.0: ['Ramesh']}"
      ]
     },
     "execution_count": 63,
     "metadata": {},
     "output_type": "execute_result"
    }
   ],
   "source": [
    "df2.groupby(['m2']).groups"
   ]
  },
  {
   "cell_type": "code",
   "execution_count": 26,
   "id": "673a75a9",
   "metadata": {},
   "outputs": [
    {
     "data": {
      "text/plain": [
       "{'San Francisco': [0, 1, 2, 3, 4, 5]}"
      ]
     },
     "execution_count": 26,
     "metadata": {},
     "output_type": "execute_result"
    }
   ],
   "source": [
    "df7.groupby(['City']).groups  # Supermarket Table"
   ]
  },
  {
   "cell_type": "code",
   "execution_count": 65,
   "id": "c7b61079",
   "metadata": {},
   "outputs": [
    {
     "data": {
      "text/plain": [
       "{75.0: ['Naresh'], 88.0: ['Dinesh'], 96.0: ['Mahesh'], 98.0: ['Ramesh']}"
      ]
     },
     "execution_count": 65,
     "metadata": {},
     "output_type": "execute_result"
    }
   ],
   "source": [
    "df2.groupby(['m1']).groups"
   ]
  },
  {
   "cell_type": "code",
   "execution_count": 27,
   "id": "9e29c65c",
   "metadata": {},
   "outputs": [
    {
     "data": {
      "text/plain": [
       "{'CA 94114': [0, 3, 5], 'CA 94119': [1], 'California ': [4], 'California 94114': [2]}"
      ]
     },
     "execution_count": 27,
     "metadata": {},
     "output_type": "execute_result"
    }
   ],
   "source": [
    "df7.groupby(['Pin_Code']).groups  # Supermarket Table"
   ]
  },
  {
   "cell_type": "code",
   "execution_count": 66,
   "id": "396e5c0e",
   "metadata": {},
   "outputs": [
    {
     "data": {
      "text/html": [
       "<div>\n",
       "<style scoped>\n",
       "    .dataframe tbody tr th:only-of-type {\n",
       "        vertical-align: middle;\n",
       "    }\n",
       "\n",
       "    .dataframe tbody tr th {\n",
       "        vertical-align: top;\n",
       "    }\n",
       "\n",
       "    .dataframe thead th {\n",
       "        text-align: right;\n",
       "    }\n",
       "</style>\n",
       "<table border=\"1\" class=\"dataframe\">\n",
       "  <thead>\n",
       "    <tr style=\"text-align: right;\">\n",
       "      <th></th>\n",
       "      <th>m2</th>\n",
       "      <th>m3</th>\n",
       "    </tr>\n",
       "    <tr>\n",
       "      <th>m1</th>\n",
       "      <th></th>\n",
       "      <th></th>\n",
       "    </tr>\n",
       "  </thead>\n",
       "  <tbody>\n",
       "    <tr>\n",
       "      <th>75.0</th>\n",
       "      <td>0.0</td>\n",
       "      <td>49.0</td>\n",
       "    </tr>\n",
       "    <tr>\n",
       "      <th>88.0</th>\n",
       "      <td>76.0</td>\n",
       "      <td>55.0</td>\n",
       "    </tr>\n",
       "    <tr>\n",
       "      <th>96.0</th>\n",
       "      <td>78.0</td>\n",
       "      <td>0.0</td>\n",
       "    </tr>\n",
       "    <tr>\n",
       "      <th>98.0</th>\n",
       "      <td>99.0</td>\n",
       "      <td>78.0</td>\n",
       "    </tr>\n",
       "  </tbody>\n",
       "</table>\n",
       "</div>"
      ],
      "text/plain": [
       "        m2    m3\n",
       "m1              \n",
       "75.0   0.0  49.0\n",
       "88.0  76.0  55.0\n",
       "96.0  78.0   0.0\n",
       "98.0  99.0  78.0"
      ]
     },
     "execution_count": 66,
     "metadata": {},
     "output_type": "execute_result"
    }
   ],
   "source": [
    "# Find the no of employees groupwise according to Pin_Code\n",
    "\n",
    "df2.groupby(['m1']).sum()"
   ]
  },
  {
   "cell_type": "code",
   "execution_count": 28,
   "id": "d600db69",
   "metadata": {},
   "outputs": [
    {
     "data": {
      "text/html": [
       "<div>\n",
       "<style scoped>\n",
       "    .dataframe tbody tr th:only-of-type {\n",
       "        vertical-align: middle;\n",
       "    }\n",
       "\n",
       "    .dataframe tbody tr th {\n",
       "        vertical-align: top;\n",
       "    }\n",
       "\n",
       "    .dataframe thead th {\n",
       "        text-align: right;\n",
       "    }\n",
       "</style>\n",
       "<table border=\"1\" class=\"dataframe\">\n",
       "  <thead>\n",
       "    <tr style=\"text-align: right;\">\n",
       "      <th></th>\n",
       "      <th>ID</th>\n",
       "      <th>Address</th>\n",
       "      <th>City</th>\n",
       "      <th>Country</th>\n",
       "      <th>Name</th>\n",
       "      <th>Employees</th>\n",
       "    </tr>\n",
       "    <tr>\n",
       "      <th>Pin_Code</th>\n",
       "      <th></th>\n",
       "      <th></th>\n",
       "      <th></th>\n",
       "      <th></th>\n",
       "      <th></th>\n",
       "      <th></th>\n",
       "    </tr>\n",
       "  </thead>\n",
       "  <tbody>\n",
       "    <tr>\n",
       "      <th>CA 94114</th>\n",
       "      <td>11</td>\n",
       "      <td>3666 21st St3995 23rd St551 Alvarado St</td>\n",
       "      <td>San FranciscoSan FranciscoSan Francisco</td>\n",
       "      <td>USAUSAUSA</td>\n",
       "      <td>MaderiaBen's ShopRichvalley</td>\n",
       "      <td>38</td>\n",
       "    </tr>\n",
       "    <tr>\n",
       "      <th>CA 94119</th>\n",
       "      <td>2</td>\n",
       "      <td>735 Dolores St</td>\n",
       "      <td>San Francisco</td>\n",
       "      <td>USA</td>\n",
       "      <td>Bready Shop</td>\n",
       "      <td>15</td>\n",
       "    </tr>\n",
       "    <tr>\n",
       "      <th>California</th>\n",
       "      <td>5</td>\n",
       "      <td>1056 Sanchez St</td>\n",
       "      <td>San Francisco</td>\n",
       "      <td>USA</td>\n",
       "      <td>Sanchez</td>\n",
       "      <td>12</td>\n",
       "    </tr>\n",
       "    <tr>\n",
       "      <th>California 94114</th>\n",
       "      <td>3</td>\n",
       "      <td>332 Hill St</td>\n",
       "      <td>San Francisco</td>\n",
       "      <td>USA</td>\n",
       "      <td>Super River</td>\n",
       "      <td>25</td>\n",
       "    </tr>\n",
       "  </tbody>\n",
       "</table>\n",
       "</div>"
      ],
      "text/plain": [
       "                  ID                                   Address  \\\n",
       "Pin_Code                                                         \n",
       "CA 94114           11  3666 21st St3995 23rd St551 Alvarado St   \n",
       "CA 94119            2                           735 Dolores St   \n",
       "California          5                          1056 Sanchez St   \n",
       "California 94114    3                              332 Hill St   \n",
       "\n",
       "                                                     City    Country  \\\n",
       "Pin_Code                                                               \n",
       "CA 94114          San FranciscoSan FranciscoSan Francisco  USAUSAUSA   \n",
       "CA 94119                                    San Francisco        USA   \n",
       "California                                  San Francisco        USA   \n",
       "California 94114                            San Francisco        USA   \n",
       "\n",
       "                                         Name  Employees  \n",
       "Pin_Code                                                  \n",
       "CA 94114          MaderiaBen's ShopRichvalley         38  \n",
       "CA 94119                          Bready Shop         15  \n",
       "California                            Sanchez         12  \n",
       "California 94114                  Super River         25  "
      ]
     },
     "execution_count": 28,
     "metadata": {},
     "output_type": "execute_result"
    }
   ],
   "source": [
    "df7.groupby(['Pin_Code']).sum()  # Supermarket Table"
   ]
  },
  {
   "cell_type": "code",
   "execution_count": 30,
   "id": "7918a9f8",
   "metadata": {},
   "outputs": [
    {
     "data": {
      "text/html": [
       "<div>\n",
       "<style scoped>\n",
       "    .dataframe tbody tr th:only-of-type {\n",
       "        vertical-align: middle;\n",
       "    }\n",
       "\n",
       "    .dataframe tbody tr th {\n",
       "        vertical-align: top;\n",
       "    }\n",
       "\n",
       "    .dataframe thead th {\n",
       "        text-align: right;\n",
       "    }\n",
       "</style>\n",
       "<table border=\"1\" class=\"dataframe\">\n",
       "  <thead>\n",
       "    <tr style=\"text-align: right;\">\n",
       "      <th></th>\n",
       "      <th>ID</th>\n",
       "      <th>Address</th>\n",
       "      <th>Pin_Code</th>\n",
       "      <th>Country</th>\n",
       "      <th>Name</th>\n",
       "      <th>Employees</th>\n",
       "    </tr>\n",
       "    <tr>\n",
       "      <th>City</th>\n",
       "      <th></th>\n",
       "      <th></th>\n",
       "      <th></th>\n",
       "      <th></th>\n",
       "      <th></th>\n",
       "      <th></th>\n",
       "    </tr>\n",
       "  </thead>\n",
       "  <tbody>\n",
       "    <tr>\n",
       "      <th>San Francisco</th>\n",
       "      <td>21</td>\n",
       "      <td>3666 21st St735 Dolores St332 Hill St3995 23rd...</td>\n",
       "      <td>CA 94114CA 94119California 94114CA 94114Califo...</td>\n",
       "      <td>USAUSAUSAUSAUSAUSA</td>\n",
       "      <td>MaderiaBready ShopSuper RiverBen's ShopSanchez...</td>\n",
       "      <td>90</td>\n",
       "    </tr>\n",
       "  </tbody>\n",
       "</table>\n",
       "</div>"
      ],
      "text/plain": [
       "               ID                                             Address  \\\n",
       "City                                                                    \n",
       "San Francisco   21  3666 21st St735 Dolores St332 Hill St3995 23rd...   \n",
       "\n",
       "                                                        Pin_Code  \\\n",
       "City                                                               \n",
       "San Francisco  CA 94114CA 94119California 94114CA 94114Califo...   \n",
       "\n",
       "                          Country  \\\n",
       "City                                \n",
       "San Francisco  USAUSAUSAUSAUSAUSA   \n",
       "\n",
       "                                                            Name  Employees  \n",
       "City                                                                         \n",
       "San Francisco  MaderiaBready ShopSuper RiverBen's ShopSanchez...         90  "
      ]
     },
     "execution_count": 30,
     "metadata": {},
     "output_type": "execute_result"
    }
   ],
   "source": [
    "# Find the no of employees groupwise according to City\n",
    "\n",
    "df7.groupby(['City']).sum()  # Supermarket Table"
   ]
  },
  {
   "cell_type": "code",
   "execution_count": 67,
   "id": "3a8eecc2",
   "metadata": {},
   "outputs": [
    {
     "data": {
      "text/plain": [
       "Name\n",
       "Dinesh    88.0\n",
       "Mahesh    96.0\n",
       "Naresh    75.0\n",
       "Ramesh    98.0\n",
       "Suresh     NaN\n",
       "Name: m1, dtype: float64"
      ]
     },
     "execution_count": 67,
     "metadata": {},
     "output_type": "execute_result"
    }
   ],
   "source": [
    "# Find which group according to pincode has the max no of employees\n",
    "\n",
    "df2.groupby(['Name']).max()['m1']"
   ]
  },
  {
   "cell_type": "code",
   "execution_count": 31,
   "id": "556b60ed",
   "metadata": {},
   "outputs": [
    {
     "data": {
      "text/plain": [
       "Pin_Code\n",
       "CA 94114            20\n",
       "CA 94119            15\n",
       "California          12\n",
       "California 94114    25\n",
       "Name: Employees, dtype: int64"
      ]
     },
     "execution_count": 31,
     "metadata": {},
     "output_type": "execute_result"
    }
   ],
   "source": [
    "df7.groupby(['Pin_Code']).max()['Employees']"
   ]
  },
  {
   "cell_type": "code",
   "execution_count": 32,
   "id": "c6a24306",
   "metadata": {},
   "outputs": [
    {
     "data": {
      "text/plain": [
       "City\n",
       "San Francisco    25\n",
       "Name: Employees, dtype: int64"
      ]
     },
     "execution_count": 32,
     "metadata": {},
     "output_type": "execute_result"
    }
   ],
   "source": [
    "df7.groupby(['City']).max()['Employees']"
   ]
  },
  {
   "cell_type": "code",
   "execution_count": 33,
   "id": "a9fdc378",
   "metadata": {},
   "outputs": [
    {
     "data": {
      "text/plain": [
       "Pin_Code\n",
       "CA 94114             8\n",
       "CA 94119            15\n",
       "California          12\n",
       "California 94114    25\n",
       "Name: Employees, dtype: int64"
      ]
     },
     "execution_count": 33,
     "metadata": {},
     "output_type": "execute_result"
    }
   ],
   "source": [
    "df7.groupby(['Pin_Code']).min()['Employees']"
   ]
  },
  {
   "cell_type": "code",
   "execution_count": 7,
   "id": "ba0c6663",
   "metadata": {},
   "outputs": [
    {
     "data": {
      "text/html": [
       "<div>\n",
       "<style scoped>\n",
       "    .dataframe tbody tr th:only-of-type {\n",
       "        vertical-align: middle;\n",
       "    }\n",
       "\n",
       "    .dataframe tbody tr th {\n",
       "        vertical-align: top;\n",
       "    }\n",
       "\n",
       "    .dataframe thead th {\n",
       "        text-align: right;\n",
       "    }\n",
       "</style>\n",
       "<table border=\"1\" class=\"dataframe\">\n",
       "  <thead>\n",
       "    <tr style=\"text-align: right;\">\n",
       "      <th></th>\n",
       "      <th>empno</th>\n",
       "      <th>ename</th>\n",
       "      <th>deptno</th>\n",
       "    </tr>\n",
       "  </thead>\n",
       "  <tbody>\n",
       "    <tr>\n",
       "      <th>0</th>\n",
       "      <td>101</td>\n",
       "      <td>Ramesh</td>\n",
       "      <td>1</td>\n",
       "    </tr>\n",
       "    <tr>\n",
       "      <th>1</th>\n",
       "      <td>102</td>\n",
       "      <td>Suresh</td>\n",
       "      <td>2</td>\n",
       "    </tr>\n",
       "    <tr>\n",
       "      <th>2</th>\n",
       "      <td>103</td>\n",
       "      <td>Mahesh</td>\n",
       "      <td>2</td>\n",
       "    </tr>\n",
       "    <tr>\n",
       "      <th>3</th>\n",
       "      <td>104</td>\n",
       "      <td>Dinesh</td>\n",
       "      <td>1</td>\n",
       "    </tr>\n",
       "    <tr>\n",
       "      <th>4</th>\n",
       "      <td>105</td>\n",
       "      <td>Naresh</td>\n",
       "      <td>2</td>\n",
       "    </tr>\n",
       "  </tbody>\n",
       "</table>\n",
       "</div>"
      ],
      "text/plain": [
       "   empno   ename  deptno\n",
       "0    101  Ramesh       1\n",
       "1    102  Suresh       2\n",
       "2    103  Mahesh       2\n",
       "3    104  Dinesh       1\n",
       "4    105  Naresh       2"
      ]
     },
     "execution_count": 7,
     "metadata": {},
     "output_type": "execute_result"
    }
   ],
   "source": [
    "# Merging two data frames \n",
    "\n",
    "# Create the emp data frame \n",
    "\n",
    "emp = pd.DataFrame({'empno':[101,102,103,104,105],\n",
    "                   'ename':['Ramesh','Suresh','Mahesh','Dinesh','Naresh'],\n",
    "                   'deptno':[1,2,2,1,2]})\n",
    "\n",
    "emp"
   ]
  },
  {
   "cell_type": "code",
   "execution_count": 5,
   "id": "810f01c2",
   "metadata": {},
   "outputs": [
    {
     "data": {
      "text/html": [
       "<div>\n",
       "<style scoped>\n",
       "    .dataframe tbody tr th:only-of-type {\n",
       "        vertical-align: middle;\n",
       "    }\n",
       "\n",
       "    .dataframe tbody tr th {\n",
       "        vertical-align: top;\n",
       "    }\n",
       "\n",
       "    .dataframe thead th {\n",
       "        text-align: right;\n",
       "    }\n",
       "</style>\n",
       "<table border=\"1\" class=\"dataframe\">\n",
       "  <thead>\n",
       "    <tr style=\"text-align: right;\">\n",
       "      <th></th>\n",
       "      <th>deptno</th>\n",
       "      <th>dname</th>\n",
       "    </tr>\n",
       "  </thead>\n",
       "  <tbody>\n",
       "    <tr>\n",
       "      <th>0</th>\n",
       "      <td>1</td>\n",
       "      <td>Marketting</td>\n",
       "    </tr>\n",
       "    <tr>\n",
       "      <th>1</th>\n",
       "      <td>2</td>\n",
       "      <td>Operation</td>\n",
       "    </tr>\n",
       "    <tr>\n",
       "      <th>2</th>\n",
       "      <td>3</td>\n",
       "      <td>EDP</td>\n",
       "    </tr>\n",
       "  </tbody>\n",
       "</table>\n",
       "</div>"
      ],
      "text/plain": [
       "   deptno       dname\n",
       "0       1  Marketting\n",
       "1       2   Operation\n",
       "2       3         EDP"
      ]
     },
     "execution_count": 5,
     "metadata": {},
     "output_type": "execute_result"
    }
   ],
   "source": [
    "# Create the dept Data Frame\n",
    "\n",
    "dept = pd.DataFrame({'deptno': [1,2,3],\n",
    "                    'dname':['Marketting','Operation','EDP']})\n",
    "\n",
    "dept"
   ]
  },
  {
   "cell_type": "code",
   "execution_count": 8,
   "id": "edd74f9b",
   "metadata": {},
   "outputs": [],
   "source": [
    "# Merge emp an dept data frames\n",
    "\n",
    "merge_df = pd.merge(emp,dept, on = 'deptno')"
   ]
  },
  {
   "cell_type": "code",
   "execution_count": 9,
   "id": "c0c9f302",
   "metadata": {},
   "outputs": [
    {
     "data": {
      "text/html": [
       "<div>\n",
       "<style scoped>\n",
       "    .dataframe tbody tr th:only-of-type {\n",
       "        vertical-align: middle;\n",
       "    }\n",
       "\n",
       "    .dataframe tbody tr th {\n",
       "        vertical-align: top;\n",
       "    }\n",
       "\n",
       "    .dataframe thead th {\n",
       "        text-align: right;\n",
       "    }\n",
       "</style>\n",
       "<table border=\"1\" class=\"dataframe\">\n",
       "  <thead>\n",
       "    <tr style=\"text-align: right;\">\n",
       "      <th></th>\n",
       "      <th>empno</th>\n",
       "      <th>ename</th>\n",
       "      <th>deptno</th>\n",
       "      <th>dname</th>\n",
       "    </tr>\n",
       "  </thead>\n",
       "  <tbody>\n",
       "    <tr>\n",
       "      <th>0</th>\n",
       "      <td>101</td>\n",
       "      <td>Ramesh</td>\n",
       "      <td>1</td>\n",
       "      <td>Marketting</td>\n",
       "    </tr>\n",
       "    <tr>\n",
       "      <th>1</th>\n",
       "      <td>104</td>\n",
       "      <td>Dinesh</td>\n",
       "      <td>1</td>\n",
       "      <td>Marketting</td>\n",
       "    </tr>\n",
       "    <tr>\n",
       "      <th>2</th>\n",
       "      <td>102</td>\n",
       "      <td>Suresh</td>\n",
       "      <td>2</td>\n",
       "      <td>Operation</td>\n",
       "    </tr>\n",
       "    <tr>\n",
       "      <th>3</th>\n",
       "      <td>103</td>\n",
       "      <td>Mahesh</td>\n",
       "      <td>2</td>\n",
       "      <td>Operation</td>\n",
       "    </tr>\n",
       "    <tr>\n",
       "      <th>4</th>\n",
       "      <td>105</td>\n",
       "      <td>Naresh</td>\n",
       "      <td>2</td>\n",
       "      <td>Operation</td>\n",
       "    </tr>\n",
       "  </tbody>\n",
       "</table>\n",
       "</div>"
      ],
      "text/plain": [
       "   empno   ename  deptno       dname\n",
       "0    101  Ramesh       1  Marketting\n",
       "1    104  Dinesh       1  Marketting\n",
       "2    102  Suresh       2   Operation\n",
       "3    103  Mahesh       2   Operation\n",
       "4    105  Naresh       2   Operation"
      ]
     },
     "execution_count": 9,
     "metadata": {},
     "output_type": "execute_result"
    }
   ],
   "source": [
    "merge_df"
   ]
  },
  {
   "cell_type": "code",
   "execution_count": 11,
   "id": "1c22b9c1",
   "metadata": {},
   "outputs": [
    {
     "data": {
      "text/html": [
       "<div>\n",
       "<style scoped>\n",
       "    .dataframe tbody tr th:only-of-type {\n",
       "        vertical-align: middle;\n",
       "    }\n",
       "\n",
       "    .dataframe tbody tr th {\n",
       "        vertical-align: top;\n",
       "    }\n",
       "\n",
       "    .dataframe thead th {\n",
       "        text-align: right;\n",
       "    }\n",
       "</style>\n",
       "<table border=\"1\" class=\"dataframe\">\n",
       "  <thead>\n",
       "    <tr style=\"text-align: right;\">\n",
       "      <th></th>\n",
       "      <th>empno</th>\n",
       "      <th>ename</th>\n",
       "      <th>deptno</th>\n",
       "      <th>dname</th>\n",
       "    </tr>\n",
       "  </thead>\n",
       "  <tbody>\n",
       "    <tr>\n",
       "      <th>0</th>\n",
       "      <td>101</td>\n",
       "      <td>Ramesh</td>\n",
       "      <td>1</td>\n",
       "      <td>Marketting</td>\n",
       "    </tr>\n",
       "    <tr>\n",
       "      <th>1</th>\n",
       "      <td>102</td>\n",
       "      <td>Suresh</td>\n",
       "      <td>2</td>\n",
       "      <td>Operation</td>\n",
       "    </tr>\n",
       "    <tr>\n",
       "      <th>2</th>\n",
       "      <td>103</td>\n",
       "      <td>Mahesh</td>\n",
       "      <td>2</td>\n",
       "      <td>Operation</td>\n",
       "    </tr>\n",
       "    <tr>\n",
       "      <th>3</th>\n",
       "      <td>104</td>\n",
       "      <td>Dinesh</td>\n",
       "      <td>1</td>\n",
       "      <td>Marketting</td>\n",
       "    </tr>\n",
       "    <tr>\n",
       "      <th>4</th>\n",
       "      <td>105</td>\n",
       "      <td>Naresh</td>\n",
       "      <td>2</td>\n",
       "      <td>Operation</td>\n",
       "    </tr>\n",
       "  </tbody>\n",
       "</table>\n",
       "</div>"
      ],
      "text/plain": [
       "   empno   ename  deptno       dname\n",
       "0    101  Ramesh       1  Marketting\n",
       "1    102  Suresh       2   Operation\n",
       "2    103  Mahesh       2   Operation\n",
       "3    104  Dinesh       1  Marketting\n",
       "4    105  Naresh       2   Operation"
      ]
     },
     "execution_count": 11,
     "metadata": {},
     "output_type": "execute_result"
    }
   ],
   "source": [
    "# Types of Merges\n",
    "\n",
    "# Left Merge\n",
    "\n",
    "merge_left = pd.merge(emp,dept,on = 'deptno',how ='left')\n",
    "\n",
    "merge_left"
   ]
  },
  {
   "cell_type": "code",
   "execution_count": 12,
   "id": "fb63885d",
   "metadata": {},
   "outputs": [
    {
     "data": {
      "text/html": [
       "<div>\n",
       "<style scoped>\n",
       "    .dataframe tbody tr th:only-of-type {\n",
       "        vertical-align: middle;\n",
       "    }\n",
       "\n",
       "    .dataframe tbody tr th {\n",
       "        vertical-align: top;\n",
       "    }\n",
       "\n",
       "    .dataframe thead th {\n",
       "        text-align: right;\n",
       "    }\n",
       "</style>\n",
       "<table border=\"1\" class=\"dataframe\">\n",
       "  <thead>\n",
       "    <tr style=\"text-align: right;\">\n",
       "      <th></th>\n",
       "      <th>empno</th>\n",
       "      <th>ename</th>\n",
       "      <th>deptno</th>\n",
       "      <th>dname</th>\n",
       "    </tr>\n",
       "  </thead>\n",
       "  <tbody>\n",
       "    <tr>\n",
       "      <th>0</th>\n",
       "      <td>101.0</td>\n",
       "      <td>Ramesh</td>\n",
       "      <td>1</td>\n",
       "      <td>Marketting</td>\n",
       "    </tr>\n",
       "    <tr>\n",
       "      <th>1</th>\n",
       "      <td>104.0</td>\n",
       "      <td>Dinesh</td>\n",
       "      <td>1</td>\n",
       "      <td>Marketting</td>\n",
       "    </tr>\n",
       "    <tr>\n",
       "      <th>2</th>\n",
       "      <td>102.0</td>\n",
       "      <td>Suresh</td>\n",
       "      <td>2</td>\n",
       "      <td>Operation</td>\n",
       "    </tr>\n",
       "    <tr>\n",
       "      <th>3</th>\n",
       "      <td>103.0</td>\n",
       "      <td>Mahesh</td>\n",
       "      <td>2</td>\n",
       "      <td>Operation</td>\n",
       "    </tr>\n",
       "    <tr>\n",
       "      <th>4</th>\n",
       "      <td>105.0</td>\n",
       "      <td>Naresh</td>\n",
       "      <td>2</td>\n",
       "      <td>Operation</td>\n",
       "    </tr>\n",
       "    <tr>\n",
       "      <th>5</th>\n",
       "      <td>NaN</td>\n",
       "      <td>NaN</td>\n",
       "      <td>3</td>\n",
       "      <td>EDP</td>\n",
       "    </tr>\n",
       "  </tbody>\n",
       "</table>\n",
       "</div>"
      ],
      "text/plain": [
       "   empno   ename  deptno       dname\n",
       "0  101.0  Ramesh       1  Marketting\n",
       "1  104.0  Dinesh       1  Marketting\n",
       "2  102.0  Suresh       2   Operation\n",
       "3  103.0  Mahesh       2   Operation\n",
       "4  105.0  Naresh       2   Operation\n",
       "5    NaN     NaN       3         EDP"
      ]
     },
     "execution_count": 12,
     "metadata": {},
     "output_type": "execute_result"
    }
   ],
   "source": [
    "# Right Merge\n",
    "\n",
    "merge_right = pd.merge(emp,dept,on = 'deptno',how ='right')\n",
    "\n",
    "merge_right"
   ]
  },
  {
   "cell_type": "code",
   "execution_count": 13,
   "id": "9dee5606",
   "metadata": {},
   "outputs": [
    {
     "data": {
      "text/html": [
       "<div>\n",
       "<style scoped>\n",
       "    .dataframe tbody tr th:only-of-type {\n",
       "        vertical-align: middle;\n",
       "    }\n",
       "\n",
       "    .dataframe tbody tr th {\n",
       "        vertical-align: top;\n",
       "    }\n",
       "\n",
       "    .dataframe thead th {\n",
       "        text-align: right;\n",
       "    }\n",
       "</style>\n",
       "<table border=\"1\" class=\"dataframe\">\n",
       "  <thead>\n",
       "    <tr style=\"text-align: right;\">\n",
       "      <th></th>\n",
       "      <th>empno</th>\n",
       "      <th>ename</th>\n",
       "      <th>deptno</th>\n",
       "      <th>dname</th>\n",
       "    </tr>\n",
       "  </thead>\n",
       "  <tbody>\n",
       "    <tr>\n",
       "      <th>0</th>\n",
       "      <td>101.0</td>\n",
       "      <td>Ramesh</td>\n",
       "      <td>1</td>\n",
       "      <td>Marketting</td>\n",
       "    </tr>\n",
       "    <tr>\n",
       "      <th>1</th>\n",
       "      <td>104.0</td>\n",
       "      <td>Dinesh</td>\n",
       "      <td>1</td>\n",
       "      <td>Marketting</td>\n",
       "    </tr>\n",
       "    <tr>\n",
       "      <th>2</th>\n",
       "      <td>102.0</td>\n",
       "      <td>Suresh</td>\n",
       "      <td>2</td>\n",
       "      <td>Operation</td>\n",
       "    </tr>\n",
       "    <tr>\n",
       "      <th>3</th>\n",
       "      <td>103.0</td>\n",
       "      <td>Mahesh</td>\n",
       "      <td>2</td>\n",
       "      <td>Operation</td>\n",
       "    </tr>\n",
       "    <tr>\n",
       "      <th>4</th>\n",
       "      <td>105.0</td>\n",
       "      <td>Naresh</td>\n",
       "      <td>2</td>\n",
       "      <td>Operation</td>\n",
       "    </tr>\n",
       "    <tr>\n",
       "      <th>5</th>\n",
       "      <td>NaN</td>\n",
       "      <td>NaN</td>\n",
       "      <td>3</td>\n",
       "      <td>EDP</td>\n",
       "    </tr>\n",
       "  </tbody>\n",
       "</table>\n",
       "</div>"
      ],
      "text/plain": [
       "   empno   ename  deptno       dname\n",
       "0  101.0  Ramesh       1  Marketting\n",
       "1  104.0  Dinesh       1  Marketting\n",
       "2  102.0  Suresh       2   Operation\n",
       "3  103.0  Mahesh       2   Operation\n",
       "4  105.0  Naresh       2   Operation\n",
       "5    NaN     NaN       3         EDP"
      ]
     },
     "execution_count": 13,
     "metadata": {},
     "output_type": "execute_result"
    }
   ],
   "source": [
    "# Outer Join Merge\n",
    "\n",
    "merge_outer = pd.merge(emp,dept,on = 'deptno',how ='outer')\n",
    "\n",
    "merge_outer"
   ]
  },
  {
   "cell_type": "code",
   "execution_count": 14,
   "id": "a1d93362",
   "metadata": {},
   "outputs": [
    {
     "data": {
      "text/html": [
       "<div>\n",
       "<style scoped>\n",
       "    .dataframe tbody tr th:only-of-type {\n",
       "        vertical-align: middle;\n",
       "    }\n",
       "\n",
       "    .dataframe tbody tr th {\n",
       "        vertical-align: top;\n",
       "    }\n",
       "\n",
       "    .dataframe thead th {\n",
       "        text-align: right;\n",
       "    }\n",
       "</style>\n",
       "<table border=\"1\" class=\"dataframe\">\n",
       "  <thead>\n",
       "    <tr style=\"text-align: right;\">\n",
       "      <th></th>\n",
       "      <th>empno</th>\n",
       "      <th>ename</th>\n",
       "      <th>deptno</th>\n",
       "      <th>dname</th>\n",
       "    </tr>\n",
       "  </thead>\n",
       "  <tbody>\n",
       "    <tr>\n",
       "      <th>0</th>\n",
       "      <td>101</td>\n",
       "      <td>Ramesh</td>\n",
       "      <td>1</td>\n",
       "      <td>Marketting</td>\n",
       "    </tr>\n",
       "    <tr>\n",
       "      <th>1</th>\n",
       "      <td>104</td>\n",
       "      <td>Dinesh</td>\n",
       "      <td>1</td>\n",
       "      <td>Marketting</td>\n",
       "    </tr>\n",
       "    <tr>\n",
       "      <th>2</th>\n",
       "      <td>102</td>\n",
       "      <td>Suresh</td>\n",
       "      <td>2</td>\n",
       "      <td>Operation</td>\n",
       "    </tr>\n",
       "    <tr>\n",
       "      <th>3</th>\n",
       "      <td>103</td>\n",
       "      <td>Mahesh</td>\n",
       "      <td>2</td>\n",
       "      <td>Operation</td>\n",
       "    </tr>\n",
       "    <tr>\n",
       "      <th>4</th>\n",
       "      <td>105</td>\n",
       "      <td>Naresh</td>\n",
       "      <td>2</td>\n",
       "      <td>Operation</td>\n",
       "    </tr>\n",
       "  </tbody>\n",
       "</table>\n",
       "</div>"
      ],
      "text/plain": [
       "   empno   ename  deptno       dname\n",
       "0    101  Ramesh       1  Marketting\n",
       "1    104  Dinesh       1  Marketting\n",
       "2    102  Suresh       2   Operation\n",
       "3    103  Mahesh       2   Operation\n",
       "4    105  Naresh       2   Operation"
      ]
     },
     "execution_count": 14,
     "metadata": {},
     "output_type": "execute_result"
    }
   ],
   "source": [
    "# Inner Join Merge\n",
    "\n",
    "merge_inner = pd.merge(emp,dept,on = 'deptno',how ='inner')\n",
    "\n",
    "merge_inner"
   ]
  },
  {
   "cell_type": "code",
   "execution_count": null,
   "id": "3db881eb",
   "metadata": {},
   "outputs": [],
   "source": [
    "# Dropping rows and columns "
   ]
  },
  {
   "cell_type": "code",
   "execution_count": 34,
   "id": "71521862",
   "metadata": {},
   "outputs": [
    {
     "data": {
      "text/html": [
       "<div>\n",
       "<style scoped>\n",
       "    .dataframe tbody tr th:only-of-type {\n",
       "        vertical-align: middle;\n",
       "    }\n",
       "\n",
       "    .dataframe tbody tr th {\n",
       "        vertical-align: top;\n",
       "    }\n",
       "\n",
       "    .dataframe thead th {\n",
       "        text-align: right;\n",
       "    }\n",
       "</style>\n",
       "<table border=\"1\" class=\"dataframe\">\n",
       "  <thead>\n",
       "    <tr style=\"text-align: right;\">\n",
       "      <th></th>\n",
       "      <th>ID</th>\n",
       "      <th>Address</th>\n",
       "      <th>City</th>\n",
       "      <th>Pin_Code</th>\n",
       "      <th>Country</th>\n",
       "      <th>Name</th>\n",
       "      <th>Employees</th>\n",
       "    </tr>\n",
       "  </thead>\n",
       "  <tbody>\n",
       "    <tr>\n",
       "      <th>0</th>\n",
       "      <td>1</td>\n",
       "      <td>3666 21st St</td>\n",
       "      <td>San Francisco</td>\n",
       "      <td>CA 94114</td>\n",
       "      <td>USA</td>\n",
       "      <td>Maderia</td>\n",
       "      <td>8</td>\n",
       "    </tr>\n",
       "    <tr>\n",
       "      <th>1</th>\n",
       "      <td>2</td>\n",
       "      <td>735 Dolores St</td>\n",
       "      <td>San Francisco</td>\n",
       "      <td>CA 94119</td>\n",
       "      <td>USA</td>\n",
       "      <td>Bready Shop</td>\n",
       "      <td>15</td>\n",
       "    </tr>\n",
       "    <tr>\n",
       "      <th>2</th>\n",
       "      <td>3</td>\n",
       "      <td>332 Hill St</td>\n",
       "      <td>San Francisco</td>\n",
       "      <td>California 94114</td>\n",
       "      <td>USA</td>\n",
       "      <td>Super River</td>\n",
       "      <td>25</td>\n",
       "    </tr>\n",
       "    <tr>\n",
       "      <th>3</th>\n",
       "      <td>4</td>\n",
       "      <td>3995 23rd St</td>\n",
       "      <td>San Francisco</td>\n",
       "      <td>CA 94114</td>\n",
       "      <td>USA</td>\n",
       "      <td>Ben's Shop</td>\n",
       "      <td>10</td>\n",
       "    </tr>\n",
       "    <tr>\n",
       "      <th>4</th>\n",
       "      <td>5</td>\n",
       "      <td>1056 Sanchez St</td>\n",
       "      <td>San Francisco</td>\n",
       "      <td>California</td>\n",
       "      <td>USA</td>\n",
       "      <td>Sanchez</td>\n",
       "      <td>12</td>\n",
       "    </tr>\n",
       "    <tr>\n",
       "      <th>5</th>\n",
       "      <td>6</td>\n",
       "      <td>551 Alvarado St</td>\n",
       "      <td>San Francisco</td>\n",
       "      <td>CA 94114</td>\n",
       "      <td>USA</td>\n",
       "      <td>Richvalley</td>\n",
       "      <td>20</td>\n",
       "    </tr>\n",
       "  </tbody>\n",
       "</table>\n",
       "</div>"
      ],
      "text/plain": [
       "   ID           Address           City          Pin_Code Country         Name  \\\n",
       "0    1     3666 21st St  San Francisco          CA 94114     USA      Maderia   \n",
       "1    2   735 Dolores St  San Francisco          CA 94119     USA  Bready Shop   \n",
       "2    3      332 Hill St  San Francisco  California 94114     USA  Super River   \n",
       "3    4     3995 23rd St  San Francisco          CA 94114     USA   Ben's Shop   \n",
       "4    5  1056 Sanchez St  San Francisco       California      USA      Sanchez   \n",
       "5    6  551 Alvarado St  San Francisco          CA 94114     USA   Richvalley   \n",
       "\n",
       "   Employees  \n",
       "0          8  \n",
       "1         15  \n",
       "2         25  \n",
       "3         10  \n",
       "4         12  \n",
       "5         20  "
      ]
     },
     "execution_count": 34,
     "metadata": {},
     "output_type": "execute_result"
    }
   ],
   "source": [
    "df7"
   ]
  },
  {
   "cell_type": "code",
   "execution_count": 41,
   "id": "799c78f5",
   "metadata": {},
   "outputs": [],
   "source": [
    "df8 = df7.drop('City',axis = 1)"
   ]
  },
  {
   "cell_type": "code",
   "execution_count": 42,
   "id": "bf40d56c",
   "metadata": {},
   "outputs": [
    {
     "data": {
      "text/html": [
       "<div>\n",
       "<style scoped>\n",
       "    .dataframe tbody tr th:only-of-type {\n",
       "        vertical-align: middle;\n",
       "    }\n",
       "\n",
       "    .dataframe tbody tr th {\n",
       "        vertical-align: top;\n",
       "    }\n",
       "\n",
       "    .dataframe thead th {\n",
       "        text-align: right;\n",
       "    }\n",
       "</style>\n",
       "<table border=\"1\" class=\"dataframe\">\n",
       "  <thead>\n",
       "    <tr style=\"text-align: right;\">\n",
       "      <th></th>\n",
       "      <th>ID</th>\n",
       "      <th>Address</th>\n",
       "      <th>City</th>\n",
       "      <th>Pin_Code</th>\n",
       "      <th>Country</th>\n",
       "      <th>Name</th>\n",
       "      <th>Employees</th>\n",
       "    </tr>\n",
       "  </thead>\n",
       "  <tbody>\n",
       "    <tr>\n",
       "      <th>0</th>\n",
       "      <td>1</td>\n",
       "      <td>3666 21st St</td>\n",
       "      <td>San Francisco</td>\n",
       "      <td>CA 94114</td>\n",
       "      <td>USA</td>\n",
       "      <td>Maderia</td>\n",
       "      <td>8</td>\n",
       "    </tr>\n",
       "    <tr>\n",
       "      <th>1</th>\n",
       "      <td>2</td>\n",
       "      <td>735 Dolores St</td>\n",
       "      <td>San Francisco</td>\n",
       "      <td>CA 94119</td>\n",
       "      <td>USA</td>\n",
       "      <td>Bready Shop</td>\n",
       "      <td>15</td>\n",
       "    </tr>\n",
       "    <tr>\n",
       "      <th>2</th>\n",
       "      <td>3</td>\n",
       "      <td>332 Hill St</td>\n",
       "      <td>San Francisco</td>\n",
       "      <td>California 94114</td>\n",
       "      <td>USA</td>\n",
       "      <td>Super River</td>\n",
       "      <td>25</td>\n",
       "    </tr>\n",
       "    <tr>\n",
       "      <th>3</th>\n",
       "      <td>4</td>\n",
       "      <td>3995 23rd St</td>\n",
       "      <td>San Francisco</td>\n",
       "      <td>CA 94114</td>\n",
       "      <td>USA</td>\n",
       "      <td>Ben's Shop</td>\n",
       "      <td>10</td>\n",
       "    </tr>\n",
       "    <tr>\n",
       "      <th>4</th>\n",
       "      <td>5</td>\n",
       "      <td>1056 Sanchez St</td>\n",
       "      <td>San Francisco</td>\n",
       "      <td>California</td>\n",
       "      <td>USA</td>\n",
       "      <td>Sanchez</td>\n",
       "      <td>12</td>\n",
       "    </tr>\n",
       "    <tr>\n",
       "      <th>5</th>\n",
       "      <td>6</td>\n",
       "      <td>551 Alvarado St</td>\n",
       "      <td>San Francisco</td>\n",
       "      <td>CA 94114</td>\n",
       "      <td>USA</td>\n",
       "      <td>Richvalley</td>\n",
       "      <td>20</td>\n",
       "    </tr>\n",
       "  </tbody>\n",
       "</table>\n",
       "</div>"
      ],
      "text/plain": [
       "   ID           Address           City          Pin_Code Country         Name  \\\n",
       "0    1     3666 21st St  San Francisco          CA 94114     USA      Maderia   \n",
       "1    2   735 Dolores St  San Francisco          CA 94119     USA  Bready Shop   \n",
       "2    3      332 Hill St  San Francisco  California 94114     USA  Super River   \n",
       "3    4     3995 23rd St  San Francisco          CA 94114     USA   Ben's Shop   \n",
       "4    5  1056 Sanchez St  San Francisco       California      USA      Sanchez   \n",
       "5    6  551 Alvarado St  San Francisco          CA 94114     USA   Richvalley   \n",
       "\n",
       "   Employees  \n",
       "0          8  \n",
       "1         15  \n",
       "2         25  \n",
       "3         10  \n",
       "4         12  \n",
       "5         20  "
      ]
     },
     "execution_count": 42,
     "metadata": {},
     "output_type": "execute_result"
    }
   ],
   "source": [
    "df7"
   ]
  },
  {
   "cell_type": "code",
   "execution_count": 43,
   "id": "4500af52",
   "metadata": {},
   "outputs": [
    {
     "data": {
      "text/html": [
       "<div>\n",
       "<style scoped>\n",
       "    .dataframe tbody tr th:only-of-type {\n",
       "        vertical-align: middle;\n",
       "    }\n",
       "\n",
       "    .dataframe tbody tr th {\n",
       "        vertical-align: top;\n",
       "    }\n",
       "\n",
       "    .dataframe thead th {\n",
       "        text-align: right;\n",
       "    }\n",
       "</style>\n",
       "<table border=\"1\" class=\"dataframe\">\n",
       "  <thead>\n",
       "    <tr style=\"text-align: right;\">\n",
       "      <th></th>\n",
       "      <th>ID</th>\n",
       "      <th>Address</th>\n",
       "      <th>Pin_Code</th>\n",
       "      <th>Country</th>\n",
       "      <th>Name</th>\n",
       "      <th>Employees</th>\n",
       "    </tr>\n",
       "  </thead>\n",
       "  <tbody>\n",
       "    <tr>\n",
       "      <th>0</th>\n",
       "      <td>1</td>\n",
       "      <td>3666 21st St</td>\n",
       "      <td>CA 94114</td>\n",
       "      <td>USA</td>\n",
       "      <td>Maderia</td>\n",
       "      <td>8</td>\n",
       "    </tr>\n",
       "    <tr>\n",
       "      <th>1</th>\n",
       "      <td>2</td>\n",
       "      <td>735 Dolores St</td>\n",
       "      <td>CA 94119</td>\n",
       "      <td>USA</td>\n",
       "      <td>Bready Shop</td>\n",
       "      <td>15</td>\n",
       "    </tr>\n",
       "    <tr>\n",
       "      <th>2</th>\n",
       "      <td>3</td>\n",
       "      <td>332 Hill St</td>\n",
       "      <td>California 94114</td>\n",
       "      <td>USA</td>\n",
       "      <td>Super River</td>\n",
       "      <td>25</td>\n",
       "    </tr>\n",
       "    <tr>\n",
       "      <th>3</th>\n",
       "      <td>4</td>\n",
       "      <td>3995 23rd St</td>\n",
       "      <td>CA 94114</td>\n",
       "      <td>USA</td>\n",
       "      <td>Ben's Shop</td>\n",
       "      <td>10</td>\n",
       "    </tr>\n",
       "    <tr>\n",
       "      <th>4</th>\n",
       "      <td>5</td>\n",
       "      <td>1056 Sanchez St</td>\n",
       "      <td>California</td>\n",
       "      <td>USA</td>\n",
       "      <td>Sanchez</td>\n",
       "      <td>12</td>\n",
       "    </tr>\n",
       "    <tr>\n",
       "      <th>5</th>\n",
       "      <td>6</td>\n",
       "      <td>551 Alvarado St</td>\n",
       "      <td>CA 94114</td>\n",
       "      <td>USA</td>\n",
       "      <td>Richvalley</td>\n",
       "      <td>20</td>\n",
       "    </tr>\n",
       "  </tbody>\n",
       "</table>\n",
       "</div>"
      ],
      "text/plain": [
       "   ID           Address          Pin_Code Country         Name  Employees\n",
       "0    1     3666 21st St          CA 94114     USA      Maderia          8\n",
       "1    2   735 Dolores St          CA 94119     USA  Bready Shop         15\n",
       "2    3      332 Hill St  California 94114     USA  Super River         25\n",
       "3    4     3995 23rd St          CA 94114     USA   Ben's Shop         10\n",
       "4    5  1056 Sanchez St       California      USA      Sanchez         12\n",
       "5    6  551 Alvarado St          CA 94114     USA   Richvalley         20"
      ]
     },
     "execution_count": 43,
     "metadata": {},
     "output_type": "execute_result"
    }
   ],
   "source": [
    "df8"
   ]
  },
  {
   "cell_type": "code",
   "execution_count": 45,
   "id": "f0b24f2c",
   "metadata": {},
   "outputs": [
    {
     "data": {
      "text/html": [
       "<div>\n",
       "<style scoped>\n",
       "    .dataframe tbody tr th:only-of-type {\n",
       "        vertical-align: middle;\n",
       "    }\n",
       "\n",
       "    .dataframe tbody tr th {\n",
       "        vertical-align: top;\n",
       "    }\n",
       "\n",
       "    .dataframe thead th {\n",
       "        text-align: right;\n",
       "    }\n",
       "</style>\n",
       "<table border=\"1\" class=\"dataframe\">\n",
       "  <thead>\n",
       "    <tr style=\"text-align: right;\">\n",
       "      <th></th>\n",
       "      <th>ID</th>\n",
       "      <th>Address</th>\n",
       "      <th>City</th>\n",
       "      <th>Pin_Code</th>\n",
       "      <th>Country</th>\n",
       "      <th>Name</th>\n",
       "      <th>Employees</th>\n",
       "    </tr>\n",
       "  </thead>\n",
       "  <tbody>\n",
       "    <tr>\n",
       "      <th>0</th>\n",
       "      <td>1</td>\n",
       "      <td>3666 21st St</td>\n",
       "      <td>San Francisco</td>\n",
       "      <td>CA 94114</td>\n",
       "      <td>USA</td>\n",
       "      <td>Maderia</td>\n",
       "      <td>8</td>\n",
       "    </tr>\n",
       "    <tr>\n",
       "      <th>1</th>\n",
       "      <td>2</td>\n",
       "      <td>735 Dolores St</td>\n",
       "      <td>San Francisco</td>\n",
       "      <td>CA 94119</td>\n",
       "      <td>USA</td>\n",
       "      <td>Bready Shop</td>\n",
       "      <td>15</td>\n",
       "    </tr>\n",
       "    <tr>\n",
       "      <th>2</th>\n",
       "      <td>3</td>\n",
       "      <td>332 Hill St</td>\n",
       "      <td>San Francisco</td>\n",
       "      <td>California 94114</td>\n",
       "      <td>USA</td>\n",
       "      <td>Super River</td>\n",
       "      <td>25</td>\n",
       "    </tr>\n",
       "    <tr>\n",
       "      <th>4</th>\n",
       "      <td>5</td>\n",
       "      <td>1056 Sanchez St</td>\n",
       "      <td>San Francisco</td>\n",
       "      <td>California</td>\n",
       "      <td>USA</td>\n",
       "      <td>Sanchez</td>\n",
       "      <td>12</td>\n",
       "    </tr>\n",
       "    <tr>\n",
       "      <th>5</th>\n",
       "      <td>6</td>\n",
       "      <td>551 Alvarado St</td>\n",
       "      <td>San Francisco</td>\n",
       "      <td>CA 94114</td>\n",
       "      <td>USA</td>\n",
       "      <td>Richvalley</td>\n",
       "      <td>20</td>\n",
       "    </tr>\n",
       "  </tbody>\n",
       "</table>\n",
       "</div>"
      ],
      "text/plain": [
       "   ID           Address           City          Pin_Code Country         Name  \\\n",
       "0    1     3666 21st St  San Francisco          CA 94114     USA      Maderia   \n",
       "1    2   735 Dolores St  San Francisco          CA 94119     USA  Bready Shop   \n",
       "2    3      332 Hill St  San Francisco  California 94114     USA  Super River   \n",
       "4    5  1056 Sanchez St  San Francisco       California      USA      Sanchez   \n",
       "5    6  551 Alvarado St  San Francisco          CA 94114     USA   Richvalley   \n",
       "\n",
       "   Employees  \n",
       "0          8  \n",
       "1         15  \n",
       "2         25  \n",
       "4         12  \n",
       "5         20  "
      ]
     },
     "execution_count": 45,
     "metadata": {},
     "output_type": "execute_result"
    }
   ],
   "source": [
    "df7.drop(3,axis=0)"
   ]
  },
  {
   "cell_type": "code",
   "execution_count": 47,
   "id": "47ccdad1",
   "metadata": {},
   "outputs": [
    {
     "data": {
      "text/html": [
       "<div>\n",
       "<style scoped>\n",
       "    .dataframe tbody tr th:only-of-type {\n",
       "        vertical-align: middle;\n",
       "    }\n",
       "\n",
       "    .dataframe tbody tr th {\n",
       "        vertical-align: top;\n",
       "    }\n",
       "\n",
       "    .dataframe thead th {\n",
       "        text-align: right;\n",
       "    }\n",
       "</style>\n",
       "<table border=\"1\" class=\"dataframe\">\n",
       "  <thead>\n",
       "    <tr style=\"text-align: right;\">\n",
       "      <th></th>\n",
       "      <th>ID</th>\n",
       "      <th>Address</th>\n",
       "      <th>City</th>\n",
       "      <th>Pin_Code</th>\n",
       "      <th>Country</th>\n",
       "      <th>Name</th>\n",
       "      <th>Employees</th>\n",
       "    </tr>\n",
       "  </thead>\n",
       "  <tbody>\n",
       "    <tr>\n",
       "      <th>0</th>\n",
       "      <td>1</td>\n",
       "      <td>3666 21st St</td>\n",
       "      <td>San Francisco</td>\n",
       "      <td>CA 94114</td>\n",
       "      <td>USA</td>\n",
       "      <td>Maderia</td>\n",
       "      <td>8</td>\n",
       "    </tr>\n",
       "    <tr>\n",
       "      <th>3</th>\n",
       "      <td>4</td>\n",
       "      <td>3995 23rd St</td>\n",
       "      <td>San Francisco</td>\n",
       "      <td>CA 94114</td>\n",
       "      <td>USA</td>\n",
       "      <td>Ben's Shop</td>\n",
       "      <td>10</td>\n",
       "    </tr>\n",
       "    <tr>\n",
       "      <th>4</th>\n",
       "      <td>5</td>\n",
       "      <td>1056 Sanchez St</td>\n",
       "      <td>San Francisco</td>\n",
       "      <td>California</td>\n",
       "      <td>USA</td>\n",
       "      <td>Sanchez</td>\n",
       "      <td>12</td>\n",
       "    </tr>\n",
       "    <tr>\n",
       "      <th>5</th>\n",
       "      <td>6</td>\n",
       "      <td>551 Alvarado St</td>\n",
       "      <td>San Francisco</td>\n",
       "      <td>CA 94114</td>\n",
       "      <td>USA</td>\n",
       "      <td>Richvalley</td>\n",
       "      <td>20</td>\n",
       "    </tr>\n",
       "  </tbody>\n",
       "</table>\n",
       "</div>"
      ],
      "text/plain": [
       "   ID           Address           City     Pin_Code Country        Name  \\\n",
       "0    1     3666 21st St  San Francisco     CA 94114     USA     Maderia   \n",
       "3    4     3995 23rd St  San Francisco     CA 94114     USA  Ben's Shop   \n",
       "4    5  1056 Sanchez St  San Francisco  California      USA     Sanchez   \n",
       "5    6  551 Alvarado St  San Francisco     CA 94114     USA  Richvalley   \n",
       "\n",
       "   Employees  \n",
       "0          8  \n",
       "3         10  \n",
       "4         12  \n",
       "5         20  "
      ]
     },
     "execution_count": 47,
     "metadata": {},
     "output_type": "execute_result"
    }
   ],
   "source": [
    "df7.drop(df7.index[1:3],axis=0) # row 1 and 2 deleted"
   ]
  },
  {
   "cell_type": "code",
   "execution_count": 48,
   "id": "ae4a56bb",
   "metadata": {},
   "outputs": [
    {
     "data": {
      "text/plain": [
       "6"
      ]
     },
     "execution_count": 48,
     "metadata": {},
     "output_type": "execute_result"
    }
   ],
   "source": [
    "# Updating an existing data frame\n",
    "\n",
    "len(df7)"
   ]
  },
  {
   "cell_type": "code",
   "execution_count": 49,
   "id": "a15acca6",
   "metadata": {},
   "outputs": [
    {
     "data": {
      "text/plain": [
       "(6, 7)"
      ]
     },
     "execution_count": 49,
     "metadata": {},
     "output_type": "execute_result"
    }
   ],
   "source": [
    "df7.shape"
   ]
  },
  {
   "cell_type": "code",
   "execution_count": 52,
   "id": "5072a3e3",
   "metadata": {},
   "outputs": [
    {
     "data": {
      "text/plain": [
       "6"
      ]
     },
     "execution_count": 52,
     "metadata": {},
     "output_type": "execute_result"
    }
   ],
   "source": [
    "df7.shape[0] # No of Rows"
   ]
  },
  {
   "cell_type": "code",
   "execution_count": 51,
   "id": "e8077b7c",
   "metadata": {},
   "outputs": [
    {
     "data": {
      "text/plain": [
       "7"
      ]
     },
     "execution_count": 51,
     "metadata": {},
     "output_type": "execute_result"
    }
   ],
   "source": [
    "df7.shape[1] # No of Columns"
   ]
  },
  {
   "cell_type": "code",
   "execution_count": 54,
   "id": "acd955f7",
   "metadata": {},
   "outputs": [],
   "source": [
    "# Add a new column called continent to df7\n",
    "\n",
    "df7['Continent']=df7.shape[0] * ['North America']"
   ]
  },
  {
   "cell_type": "code",
   "execution_count": 55,
   "id": "9b042726",
   "metadata": {},
   "outputs": [
    {
     "data": {
      "text/html": [
       "<div>\n",
       "<style scoped>\n",
       "    .dataframe tbody tr th:only-of-type {\n",
       "        vertical-align: middle;\n",
       "    }\n",
       "\n",
       "    .dataframe tbody tr th {\n",
       "        vertical-align: top;\n",
       "    }\n",
       "\n",
       "    .dataframe thead th {\n",
       "        text-align: right;\n",
       "    }\n",
       "</style>\n",
       "<table border=\"1\" class=\"dataframe\">\n",
       "  <thead>\n",
       "    <tr style=\"text-align: right;\">\n",
       "      <th></th>\n",
       "      <th>ID</th>\n",
       "      <th>Address</th>\n",
       "      <th>City</th>\n",
       "      <th>Pin_Code</th>\n",
       "      <th>Country</th>\n",
       "      <th>Name</th>\n",
       "      <th>Employees</th>\n",
       "      <th>Continent</th>\n",
       "    </tr>\n",
       "  </thead>\n",
       "  <tbody>\n",
       "    <tr>\n",
       "      <th>0</th>\n",
       "      <td>1</td>\n",
       "      <td>3666 21st St</td>\n",
       "      <td>San Francisco</td>\n",
       "      <td>CA 94114</td>\n",
       "      <td>USA</td>\n",
       "      <td>Maderia</td>\n",
       "      <td>8</td>\n",
       "      <td>North America</td>\n",
       "    </tr>\n",
       "    <tr>\n",
       "      <th>1</th>\n",
       "      <td>2</td>\n",
       "      <td>735 Dolores St</td>\n",
       "      <td>San Francisco</td>\n",
       "      <td>CA 94119</td>\n",
       "      <td>USA</td>\n",
       "      <td>Bready Shop</td>\n",
       "      <td>15</td>\n",
       "      <td>North America</td>\n",
       "    </tr>\n",
       "    <tr>\n",
       "      <th>2</th>\n",
       "      <td>3</td>\n",
       "      <td>332 Hill St</td>\n",
       "      <td>San Francisco</td>\n",
       "      <td>California 94114</td>\n",
       "      <td>USA</td>\n",
       "      <td>Super River</td>\n",
       "      <td>25</td>\n",
       "      <td>North America</td>\n",
       "    </tr>\n",
       "    <tr>\n",
       "      <th>3</th>\n",
       "      <td>4</td>\n",
       "      <td>3995 23rd St</td>\n",
       "      <td>San Francisco</td>\n",
       "      <td>CA 94114</td>\n",
       "      <td>USA</td>\n",
       "      <td>Ben's Shop</td>\n",
       "      <td>10</td>\n",
       "      <td>North America</td>\n",
       "    </tr>\n",
       "    <tr>\n",
       "      <th>4</th>\n",
       "      <td>5</td>\n",
       "      <td>1056 Sanchez St</td>\n",
       "      <td>San Francisco</td>\n",
       "      <td>California</td>\n",
       "      <td>USA</td>\n",
       "      <td>Sanchez</td>\n",
       "      <td>12</td>\n",
       "      <td>North America</td>\n",
       "    </tr>\n",
       "    <tr>\n",
       "      <th>5</th>\n",
       "      <td>6</td>\n",
       "      <td>551 Alvarado St</td>\n",
       "      <td>San Francisco</td>\n",
       "      <td>CA 94114</td>\n",
       "      <td>USA</td>\n",
       "      <td>Richvalley</td>\n",
       "      <td>20</td>\n",
       "      <td>North America</td>\n",
       "    </tr>\n",
       "  </tbody>\n",
       "</table>\n",
       "</div>"
      ],
      "text/plain": [
       "   ID           Address           City          Pin_Code Country         Name  \\\n",
       "0    1     3666 21st St  San Francisco          CA 94114     USA      Maderia   \n",
       "1    2   735 Dolores St  San Francisco          CA 94119     USA  Bready Shop   \n",
       "2    3      332 Hill St  San Francisco  California 94114     USA  Super River   \n",
       "3    4     3995 23rd St  San Francisco          CA 94114     USA   Ben's Shop   \n",
       "4    5  1056 Sanchez St  San Francisco       California      USA      Sanchez   \n",
       "5    6  551 Alvarado St  San Francisco          CA 94114     USA   Richvalley   \n",
       "\n",
       "   Employees      Continent  \n",
       "0          8  North America  \n",
       "1         15  North America  \n",
       "2         25  North America  \n",
       "3         10  North America  \n",
       "4         12  North America  \n",
       "5         20  North America  "
      ]
     },
     "execution_count": 55,
     "metadata": {},
     "output_type": "execute_result"
    }
   ],
   "source": [
    "df7"
   ]
  },
  {
   "cell_type": "code",
   "execution_count": 56,
   "id": "4593f3ef",
   "metadata": {},
   "outputs": [],
   "source": [
    "df7_t = df7.T"
   ]
  },
  {
   "cell_type": "code",
   "execution_count": 57,
   "id": "137422c6",
   "metadata": {},
   "outputs": [
    {
     "data": {
      "text/html": [
       "<div>\n",
       "<style scoped>\n",
       "    .dataframe tbody tr th:only-of-type {\n",
       "        vertical-align: middle;\n",
       "    }\n",
       "\n",
       "    .dataframe tbody tr th {\n",
       "        vertical-align: top;\n",
       "    }\n",
       "\n",
       "    .dataframe thead th {\n",
       "        text-align: right;\n",
       "    }\n",
       "</style>\n",
       "<table border=\"1\" class=\"dataframe\">\n",
       "  <thead>\n",
       "    <tr style=\"text-align: right;\">\n",
       "      <th></th>\n",
       "      <th>0</th>\n",
       "      <th>1</th>\n",
       "      <th>2</th>\n",
       "      <th>3</th>\n",
       "      <th>4</th>\n",
       "      <th>5</th>\n",
       "    </tr>\n",
       "  </thead>\n",
       "  <tbody>\n",
       "    <tr>\n",
       "      <th>ID</th>\n",
       "      <td>1</td>\n",
       "      <td>2</td>\n",
       "      <td>3</td>\n",
       "      <td>4</td>\n",
       "      <td>5</td>\n",
       "      <td>6</td>\n",
       "    </tr>\n",
       "    <tr>\n",
       "      <th>Address</th>\n",
       "      <td>3666 21st St</td>\n",
       "      <td>735 Dolores St</td>\n",
       "      <td>332 Hill St</td>\n",
       "      <td>3995 23rd St</td>\n",
       "      <td>1056 Sanchez St</td>\n",
       "      <td>551 Alvarado St</td>\n",
       "    </tr>\n",
       "    <tr>\n",
       "      <th>City</th>\n",
       "      <td>San Francisco</td>\n",
       "      <td>San Francisco</td>\n",
       "      <td>San Francisco</td>\n",
       "      <td>San Francisco</td>\n",
       "      <td>San Francisco</td>\n",
       "      <td>San Francisco</td>\n",
       "    </tr>\n",
       "    <tr>\n",
       "      <th>Pin_Code</th>\n",
       "      <td>CA 94114</td>\n",
       "      <td>CA 94119</td>\n",
       "      <td>California 94114</td>\n",
       "      <td>CA 94114</td>\n",
       "      <td>California</td>\n",
       "      <td>CA 94114</td>\n",
       "    </tr>\n",
       "    <tr>\n",
       "      <th>Country</th>\n",
       "      <td>USA</td>\n",
       "      <td>USA</td>\n",
       "      <td>USA</td>\n",
       "      <td>USA</td>\n",
       "      <td>USA</td>\n",
       "      <td>USA</td>\n",
       "    </tr>\n",
       "    <tr>\n",
       "      <th>Name</th>\n",
       "      <td>Maderia</td>\n",
       "      <td>Bready Shop</td>\n",
       "      <td>Super River</td>\n",
       "      <td>Ben's Shop</td>\n",
       "      <td>Sanchez</td>\n",
       "      <td>Richvalley</td>\n",
       "    </tr>\n",
       "    <tr>\n",
       "      <th>Employees</th>\n",
       "      <td>8</td>\n",
       "      <td>15</td>\n",
       "      <td>25</td>\n",
       "      <td>10</td>\n",
       "      <td>12</td>\n",
       "      <td>20</td>\n",
       "    </tr>\n",
       "    <tr>\n",
       "      <th>Continent</th>\n",
       "      <td>North America</td>\n",
       "      <td>North America</td>\n",
       "      <td>North America</td>\n",
       "      <td>North America</td>\n",
       "      <td>North America</td>\n",
       "      <td>North America</td>\n",
       "    </tr>\n",
       "  </tbody>\n",
       "</table>\n",
       "</div>"
      ],
      "text/plain": [
       "                       0               1                 2              3  \\\n",
       "ID                     1               2                 3              4   \n",
       "Address     3666 21st St  735 Dolores St       332 Hill St   3995 23rd St   \n",
       "City       San Francisco   San Francisco     San Francisco  San Francisco   \n",
       "Pin_Code        CA 94114        CA 94119  California 94114       CA 94114   \n",
       "Country              USA             USA               USA            USA   \n",
       "Name             Maderia     Bready Shop       Super River     Ben's Shop   \n",
       "Employees              8              15                25             10   \n",
       "Continent  North America   North America     North America  North America   \n",
       "\n",
       "                         4                5  \n",
       "ID                       5                6  \n",
       "Address    1056 Sanchez St  551 Alvarado St  \n",
       "City         San Francisco    San Francisco  \n",
       "Pin_Code       California          CA 94114  \n",
       "Country                USA              USA  \n",
       "Name               Sanchez       Richvalley  \n",
       "Employees               12               20  \n",
       "Continent    North America    North America  "
      ]
     },
     "execution_count": 57,
     "metadata": {},
     "output_type": "execute_result"
    }
   ],
   "source": [
    "df7_t"
   ]
  },
  {
   "cell_type": "code",
   "execution_count": 64,
   "id": "7313e43c",
   "metadata": {},
   "outputs": [],
   "source": [
    "df7_t[7] = [7,'109 Charles Lane','Los Angels','LA 50017','USA','Bakers Worls',5,'North America']"
   ]
  },
  {
   "cell_type": "code",
   "execution_count": 65,
   "id": "76cb20da",
   "metadata": {},
   "outputs": [],
   "source": [
    "df7 = df7_t.T"
   ]
  },
  {
   "cell_type": "code",
   "execution_count": 66,
   "id": "3d6e87e1",
   "metadata": {},
   "outputs": [
    {
     "data": {
      "text/html": [
       "<div>\n",
       "<style scoped>\n",
       "    .dataframe tbody tr th:only-of-type {\n",
       "        vertical-align: middle;\n",
       "    }\n",
       "\n",
       "    .dataframe tbody tr th {\n",
       "        vertical-align: top;\n",
       "    }\n",
       "\n",
       "    .dataframe thead th {\n",
       "        text-align: right;\n",
       "    }\n",
       "</style>\n",
       "<table border=\"1\" class=\"dataframe\">\n",
       "  <thead>\n",
       "    <tr style=\"text-align: right;\">\n",
       "      <th></th>\n",
       "      <th>ID</th>\n",
       "      <th>Address</th>\n",
       "      <th>City</th>\n",
       "      <th>Pin_Code</th>\n",
       "      <th>Country</th>\n",
       "      <th>Name</th>\n",
       "      <th>Employees</th>\n",
       "      <th>Continent</th>\n",
       "    </tr>\n",
       "  </thead>\n",
       "  <tbody>\n",
       "    <tr>\n",
       "      <th>0</th>\n",
       "      <td>1</td>\n",
       "      <td>3666 21st St</td>\n",
       "      <td>San Francisco</td>\n",
       "      <td>CA 94114</td>\n",
       "      <td>USA</td>\n",
       "      <td>Maderia</td>\n",
       "      <td>8</td>\n",
       "      <td>North America</td>\n",
       "    </tr>\n",
       "    <tr>\n",
       "      <th>1</th>\n",
       "      <td>2</td>\n",
       "      <td>735 Dolores St</td>\n",
       "      <td>San Francisco</td>\n",
       "      <td>CA 94119</td>\n",
       "      <td>USA</td>\n",
       "      <td>Bready Shop</td>\n",
       "      <td>15</td>\n",
       "      <td>North America</td>\n",
       "    </tr>\n",
       "    <tr>\n",
       "      <th>2</th>\n",
       "      <td>3</td>\n",
       "      <td>332 Hill St</td>\n",
       "      <td>San Francisco</td>\n",
       "      <td>California 94114</td>\n",
       "      <td>USA</td>\n",
       "      <td>Super River</td>\n",
       "      <td>25</td>\n",
       "      <td>North America</td>\n",
       "    </tr>\n",
       "    <tr>\n",
       "      <th>3</th>\n",
       "      <td>4</td>\n",
       "      <td>3995 23rd St</td>\n",
       "      <td>San Francisco</td>\n",
       "      <td>CA 94114</td>\n",
       "      <td>USA</td>\n",
       "      <td>Ben's Shop</td>\n",
       "      <td>10</td>\n",
       "      <td>North America</td>\n",
       "    </tr>\n",
       "    <tr>\n",
       "      <th>4</th>\n",
       "      <td>5</td>\n",
       "      <td>1056 Sanchez St</td>\n",
       "      <td>San Francisco</td>\n",
       "      <td>California</td>\n",
       "      <td>USA</td>\n",
       "      <td>Sanchez</td>\n",
       "      <td>12</td>\n",
       "      <td>North America</td>\n",
       "    </tr>\n",
       "    <tr>\n",
       "      <th>5</th>\n",
       "      <td>6</td>\n",
       "      <td>551 Alvarado St</td>\n",
       "      <td>San Francisco</td>\n",
       "      <td>CA 94114</td>\n",
       "      <td>USA</td>\n",
       "      <td>Richvalley</td>\n",
       "      <td>20</td>\n",
       "      <td>North America</td>\n",
       "    </tr>\n",
       "    <tr>\n",
       "      <th>7</th>\n",
       "      <td>7</td>\n",
       "      <td>109 Charles Lane</td>\n",
       "      <td>Los Angels</td>\n",
       "      <td>LA 50017</td>\n",
       "      <td>USA</td>\n",
       "      <td>Bakers Worls</td>\n",
       "      <td>5</td>\n",
       "      <td>North America</td>\n",
       "    </tr>\n",
       "  </tbody>\n",
       "</table>\n",
       "</div>"
      ],
      "text/plain": [
       "  ID            Address           City          Pin_Code Country  \\\n",
       "0   1      3666 21st St  San Francisco          CA 94114     USA   \n",
       "1   2    735 Dolores St  San Francisco          CA 94119     USA   \n",
       "2   3       332 Hill St  San Francisco  California 94114     USA   \n",
       "3   4      3995 23rd St  San Francisco          CA 94114     USA   \n",
       "4   5   1056 Sanchez St  San Francisco       California      USA   \n",
       "5   6   551 Alvarado St  San Francisco          CA 94114     USA   \n",
       "7   7  109 Charles Lane     Los Angels          LA 50017     USA   \n",
       "\n",
       "           Name Employees      Continent  \n",
       "0       Maderia         8  North America  \n",
       "1   Bready Shop        15  North America  \n",
       "2   Super River        25  North America  \n",
       "3    Ben's Shop        10  North America  \n",
       "4       Sanchez        12  North America  \n",
       "5    Richvalley        20  North America  \n",
       "7  Bakers Worls         5  North America  "
      ]
     },
     "execution_count": 66,
     "metadata": {},
     "output_type": "execute_result"
    }
   ],
   "source": [
    "df7"
   ]
  },
  {
   "cell_type": "code",
   "execution_count": 72,
   "id": "297a8ebb",
   "metadata": {},
   "outputs": [
    {
     "data": {
      "text/html": [
       "<div>\n",
       "<style scoped>\n",
       "    .dataframe tbody tr th:only-of-type {\n",
       "        vertical-align: middle;\n",
       "    }\n",
       "\n",
       "    .dataframe tbody tr th {\n",
       "        vertical-align: top;\n",
       "    }\n",
       "\n",
       "    .dataframe thead th {\n",
       "        text-align: right;\n",
       "    }\n",
       "</style>\n",
       "<table border=\"1\" class=\"dataframe\">\n",
       "  <thead>\n",
       "    <tr style=\"text-align: right;\">\n",
       "      <th></th>\n",
       "      <th>Name</th>\n",
       "      <th>m1</th>\n",
       "      <th>m2</th>\n",
       "      <th>m3</th>\n",
       "    </tr>\n",
       "  </thead>\n",
       "  <tbody>\n",
       "    <tr>\n",
       "      <th>0</th>\n",
       "      <td>Ramesh</td>\n",
       "      <td>98.0</td>\n",
       "      <td>99.0</td>\n",
       "      <td>78.0</td>\n",
       "    </tr>\n",
       "    <tr>\n",
       "      <th>1</th>\n",
       "      <td>Suresh</td>\n",
       "      <td>NaN</td>\n",
       "      <td>89.0</td>\n",
       "      <td>67.0</td>\n",
       "    </tr>\n",
       "    <tr>\n",
       "      <th>2</th>\n",
       "      <td>Mahesh</td>\n",
       "      <td>96.0</td>\n",
       "      <td>78.0</td>\n",
       "      <td>NaN</td>\n",
       "    </tr>\n",
       "    <tr>\n",
       "      <th>3</th>\n",
       "      <td>Dinesh</td>\n",
       "      <td>88.0</td>\n",
       "      <td>76.0</td>\n",
       "      <td>55.0</td>\n",
       "    </tr>\n",
       "    <tr>\n",
       "      <th>4</th>\n",
       "      <td>Naresh</td>\n",
       "      <td>75.0</td>\n",
       "      <td>NaN</td>\n",
       "      <td>49.0</td>\n",
       "    </tr>\n",
       "  </tbody>\n",
       "</table>\n",
       "</div>"
      ],
      "text/plain": [
       "     Name    m1    m2    m3\n",
       "0  Ramesh  98.0  99.0  78.0\n",
       "1  Suresh   NaN  89.0  67.0\n",
       "2  Mahesh  96.0  78.0   NaN\n",
       "3  Dinesh  88.0  76.0  55.0\n",
       "4  Naresh  75.0   NaN  49.0"
      ]
     },
     "execution_count": 72,
     "metadata": {},
     "output_type": "execute_result"
    }
   ],
   "source": [
    "df"
   ]
  },
  {
   "cell_type": "code",
   "execution_count": 83,
   "id": "b7f23f0f",
   "metadata": {},
   "outputs": [],
   "source": [
    "df_vis = pd.DataFrame(df.mean())"
   ]
  },
  {
   "cell_type": "code",
   "execution_count": 84,
   "id": "ae9a6499",
   "metadata": {},
   "outputs": [
    {
     "data": {
      "text/plain": [
       "<Axes: >"
      ]
     },
     "execution_count": 84,
     "metadata": {},
     "output_type": "execute_result"
    },
    {
     "data": {
      "image/png": "[encoded data removed]",
      "text/plain": [
       "<Figure size 640x480 with 1 Axes>"
      ]
     },
     "metadata": {},
     "output_type": "display_data"
    }
   ],
   "source": [
    "df_vis.plot()"
   ]
  },
  {
   "cell_type": "code",
   "execution_count": 85,
   "id": "836761e1",
   "metadata": {},
   "outputs": [
    {
     "data": {
      "text/plain": [
       "<Axes: >"
      ]
     },
     "execution_count": 85,
     "metadata": {},
     "output_type": "execute_result"
    },
    {
     "data": {
      "image/png": "[encoded data removed]",
      "text/plain": [
       "<Figure size 640x480 with 1 Axes>"
      ]
     },
     "metadata": {},
     "output_type": "display_data"
    }
   ],
   "source": [
    "df_vis.plot.bar()"
   ]
  },
  {
   "cell_type": "code",
   "execution_count": null,
   "id": "aa5bff25",
   "metadata": {},
   "outputs": [],
   "source": []
  }
 ],
 "metadata": {
  "kernelspec": {
   "display_name": "Python 3 (ipykernel)",
   "language": "python",
   "name": "python3"
  },
  "language_info": {
   "codemirror_mode": {
    "name": "ipython",
    "version": 3
   },
   "file_extension": ".py",
   "mimetype": "text/x-python",
   "name": "python",
   "nbconvert_exporter": "python",
   "pygments_lexer": "ipython3",
   "version": "3.11.5"
  }
 },
 "nbformat": 4,
 "nbformat_minor": 5
}
